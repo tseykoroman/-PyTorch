{
  "cells": [
    {
      "cell_type": "markdown",
      "metadata": {
        "id": "MsfaxF-WVsEg"
      },
      "source": [
        "## HW 08 Generative Adversarial Networks"
      ]
    },
    {
      "cell_type": "markdown",
      "metadata": {
        "id": "kGLPMxn4VsEi"
      },
      "source": [
        "**1. Обучить генератор создавать точки, которые будут лежать на графике функции**\n",
        "\n",
        "y = sin(x)/x - x/10\n",
        "\n",
        "При выполнении данного задания структура GAN остается той же, но Вам нужно:\n",
        "1. Сгенерировать настоящие данные\n",
        "2. Изменить архитектуру дискриминатора и генератора\n",
        "3. Построить графики\n"
      ]
    },
    {
      "cell_type": "code",
      "execution_count": 234,
      "metadata": {
        "id": "ClPNsLzAVsEj"
      },
      "outputs": [],
      "source": [
        "import os\n",
        "import numpy as np\n",
        "import math\n",
        "\n",
        "from torch.utils.data import DataLoader\n",
        "import torchvision.transforms as transforms\n",
        "from torchvision import datasets\n",
        "from torch.autograd import Variable\n",
        "\n",
        "import torch.nn as nn\n",
        "import torch\n",
        "from torch import FloatTensor\n",
        "from torch.nn.functional import normalize\n",
        "\n",
        "import matplotlib.pyplot as plt\n",
        "from IPython import display\n",
        "from torchvision.utils import save_image, make_grid"
      ]
    },
    {
      "cell_type": "code",
      "execution_count": 235,
      "metadata": {
        "colab": {
          "base_uri": "https://localhost:8080/",
          "height": 35
        },
        "id": "extrJ24TVsEk",
        "outputId": "6eb627b1-4a60-4dcf-f732-94570b96ef62"
      },
      "outputs": [
        {
          "output_type": "execute_result",
          "data": {
            "text/plain": [
              "'cuda'"
            ],
            "application/vnd.google.colaboratory.intrinsic+json": {
              "type": "string"
            }
          },
          "metadata": {},
          "execution_count": 235
        }
      ],
      "source": [
        "device = 'cuda' if torch.cuda.is_available() else 'cpu'\n",
        "device"
      ]
    },
    {
      "cell_type": "code",
      "execution_count": 236,
      "metadata": {
        "id": "2VqeZrzTVsEl"
      },
      "outputs": [],
      "source": [
        "def func_y(x):\n",
        "  return np.sin(x)/(x+1e-16) - x/10"
      ]
    },
    {
      "cell_type": "code",
      "execution_count": 237,
      "metadata": {
        "colab": {
          "base_uri": "https://localhost:8080/",
          "height": 265
        },
        "id": "qEe6ewuGVsEl",
        "outputId": "091a5d61-5c61-48dd-c482-05c2dd83a7b0"
      },
      "outputs": [
        {
          "output_type": "display_data",
          "data": {
            "text/plain": [
              "<Figure size 432x288 with 1 Axes>"
            ],
            "image/png": "[encoded data removed]"
          },
          "metadata": {
            "needs_background": "light"
          }
        }
      ],
      "source": [
        "x = np.linspace(-25, 25, 1000)\n",
        "y = func_y(x)\n",
        "plt.plot(x, y, 'bo')\n",
        "plt.show()"
      ]
    },
    {
      "cell_type": "code",
      "execution_count": 329,
      "metadata": {
        "colab": {
          "base_uri": "https://localhost:8080/",
          "height": 282
        },
        "id": "PwWOVm_oVsEo",
        "outputId": "2e8a12d3-e334-4e90-fb3a-b240b97831c2"
      },
      "outputs": [
        {
          "output_type": "execute_result",
          "data": {
            "text/plain": [
              "[<matplotlib.lines.Line2D at 0x7fb48f41fad0>]"
            ]
          },
          "metadata": {},
          "execution_count": 329
        },
        {
          "output_type": "display_data",
          "data": {
            "text/plain": [
              "<Figure size 432x288 with 1 Axes>"
            ],
            "image/png": "[encoded data removed]"
          },
          "metadata": {
            "needs_background": "light"
          }
        }
      ],
      "source": [
        "train_points_length = 4096\n",
        "\n",
        "train_points = torch.zeros((train_points_length, 2))\n",
        "train_points[:, 0] = torch.Tensor(np.linspace(-25, 25, train_points_length))\n",
        "# train_points[:, 0] = torch.Tensor(normalize(FloatTensor(np.linspace(-25, 25, train_points_length)), dim=0))\n",
        "\n",
        "train_points[:, 1] = func_y(train_points[:, 0])\n",
        "\n",
        "plt.plot(train_points[:, 0], train_points[:, 1], '.')"
      ]
    },
    {
      "cell_type": "code",
      "execution_count": 330,
      "metadata": {
        "colab": {
          "base_uri": "https://localhost:8080/"
        },
        "id": "UUifA_aiVsEo",
        "outputId": "b119196f-9c65-496d-8bd5-d591989984e2"
      },
      "outputs": [
        {
          "output_type": "execute_result",
          "data": {
            "text/plain": [
              "[(tensor([-25.0000,   2.4947]), tensor(0.)),\n",
              " (tensor([-24.9878,   2.4930]), tensor(0.)),\n",
              " (tensor([-24.9756,   2.4913]), tensor(0.)),\n",
              " (tensor([-24.9634,   2.4896]), tensor(0.)),\n",
              " (tensor([-24.9512,   2.4879]), tensor(0.))]"
            ]
          },
          "metadata": {},
          "execution_count": 330
        }
      ],
      "source": [
        "train_labels = torch.zeros(train_points_length)\n",
        "\n",
        "train_tensor = [(train_points[i], train_labels[i]) for i in range(train_points_length)]\n",
        "train_tensor[:5]"
      ]
    },
    {
      "cell_type": "code",
      "execution_count": 331,
      "metadata": {
        "id": "emM9JREDVsEp"
      },
      "outputs": [],
      "source": [
        "batch_size = 32\n",
        "train_loader = torch.utils.data.DataLoader(\n",
        "    train_tensor, batch_size=batch_size, shuffle=True\n",
        ")"
      ]
    },
    {
      "cell_type": "code",
      "execution_count": 332,
      "metadata": {
        "colab": {
          "base_uri": "https://localhost:8080/"
        },
        "id": "Hs5MKSdoVsEp",
        "outputId": "c5baeaa2-e4c9-4801-a17f-77a1e9216144"
      },
      "outputs": [
        {
          "output_type": "stream",
          "name": "stdout",
          "text": [
            "[tensor([[  1.7888,   0.3669],\n",
            "        [  9.6398,  -0.9861],\n",
            "        [-10.0549,   0.9469],\n",
            "        [-24.8169,   2.4692],\n",
            "        [-18.6142,   1.8489],\n",
            "        [  3.3516,  -0.3974],\n",
            "        [ 15.6349,  -1.5588],\n",
            "        [ 21.5446,  -2.1344],\n",
            "        [  7.1856,  -0.6093],\n",
            "        [  9.0904,  -0.8729],\n",
            "        [ 22.8877,  -2.3229],\n",
            "        [-12.5824,   1.2595],\n",
            "        [-10.6410,   0.9760],\n",
            "        [ 19.2247,  -1.9034],\n",
            "        [ -9.1148,   0.9449],\n",
            "        [ 13.3883,  -1.2841],\n",
            "        [  2.4237,   0.0290],\n",
            "        [ -6.6850,   0.7270],\n",
            "        [ -7.3687,   0.8569],\n",
            "        [-10.7387,   0.9838],\n",
            "        [ 13.8645,  -1.3170],\n",
            "        [  7.8816,  -0.6613],\n",
            "        [  8.7973,  -0.8130],\n",
            "        [ 24.1209,  -2.4472],\n",
            "        [  6.2088,  -0.6329],\n",
            "        [ -1.9231,   0.6804],\n",
            "        [-23.0830,   2.2699],\n",
            "        [ 19.2125,  -1.9028],\n",
            "        [-19.1758,   1.9343],\n",
            "        [ 22.0574,  -2.2087],\n",
            "        [ 19.7253,  -1.9336],\n",
            "        [ 11.9963,  -1.2446]]), tensor([0., 0., 0., 0., 0., 0., 0., 0., 0., 0., 0., 0., 0., 0., 0., 0., 0., 0., 0., 0., 0., 0., 0., 0.,\n",
            "        0., 0., 0., 0., 0., 0., 0., 0.])]\n"
          ]
        }
      ],
      "source": [
        "dataiter = iter(train_loader)\n",
        "data_x = dataiter.next()\n",
        "print(data_x)"
      ]
    },
    {
      "cell_type": "code",
      "execution_count": 348,
      "metadata": {
        "id": "ASzV5AxtVsEp"
      },
      "outputs": [],
      "source": [
        "n_epochs = 100  # количество эпох\n",
        "lr = 0.000001     # шаг обучения\n",
        "\n",
        "b1 = 0.05        # гиперпараметр для оптимайзера Adam\n",
        "b2 = 0.05      # гиперпараметр для оптимайзера Adam\n",
        "\n",
        "latent_dim = 4    # Размерность случайного вектора, который подается на вход генератору\n",
        "\n",
        "sample_interval = 20  # количество итераций для отображения процесса обучения\n",
        "\n",
        "#batch_size = 32   # размер батча\n",
        "\n",
        "#f_shape = 2    #  X и Y."
      ]
    },
    {
      "cell_type": "code",
      "execution_count": 349,
      "metadata": {
        "id": "lbiC9lgmVsEq"
      },
      "outputs": [],
      "source": [
        "class Generator(nn.Module):\n",
        "    def __init__(self):\n",
        "        super().__init__()\n",
        "        \n",
        "        # Использование таких словарей позволяет нам варьировать параметры нашей сети в процессе использования\n",
        "        self.activations = nn.ModuleDict([\n",
        "                ['lrelu', nn.LeakyReLU(0.2, inplace=True)],\n",
        "                ['relu', nn.ReLU(0.2)]])\n",
        "        \n",
        "        def block(in_feat, out_feat, normalize=False, activation='relu'): #activation='relu\n",
        "            layers = [nn.Linear(in_feat, out_feat)] # Если мы создаем последовательность слоев - то мы задаем их\n",
        "                                                    # с помощью списка.\n",
        "            if normalize:\n",
        "                layers.append(nn.BatchNorm1d(out_feat, 0.8))\n",
        "            layers.append(self.activations[activation]) # Эта сторчка означает тоже самое что и\n",
        "                                                       # layers.append(nn.LeakyReLU(0.2, inplace=True))\n",
        "            return layers\n",
        "\n",
        "        self.model = nn.Sequential(\n",
        "            *block(latent_dim, 128, normalize=False), # Звездочка означает unpacking списка\n",
        "            *block(128, 256, activation='lrelu'),\n",
        "            *block(256, 512),\n",
        "            *block(512, 1024),\n",
        "            nn.Linear(1024, 2),\n",
        "            nn.LeakyReLU()\n",
        "        )\n",
        "\n",
        "\n",
        "    def forward(self, z):\n",
        "        points = self.model(z)\n",
        "        \n",
        "        return points"
      ]
    },
    {
      "cell_type": "code",
      "execution_count": 350,
      "metadata": {
        "id": "AH6GqzbEVsEq"
      },
      "outputs": [],
      "source": [
        "class Discriminator(nn.Module):\n",
        "    def __init__(self):\n",
        "        super().__init__()\n",
        "\n",
        "        self.model = nn.Sequential(\n",
        "            nn.Linear(2, 512),\n",
        "            nn.LeakyReLU(0.2, inplace=True),\n",
        "            nn.Linear(512, 256),\n",
        "            nn.LeakyReLU(0.2, inplace=True),\n",
        "            nn.Linear(256, 1),\n",
        "            nn.Sigmoid(),\n",
        "        )\n",
        "  \n",
        "\n",
        "    def forward(self, data_in):\n",
        "        \n",
        "        validity = self.model(data_in)\n",
        "\n",
        "        return validity"
      ]
    },
    {
      "cell_type": "code",
      "execution_count": 351,
      "metadata": {
        "id": "zvKOn9jUVsEq"
      },
      "outputs": [],
      "source": [
        "generator = Generator().to(device)\n",
        "discriminator = Discriminator().to(device)\n",
        "\n",
        "# Для каждой нейронки свой опитимизатор\n",
        "optimizer_G = torch.optim.Adam(generator.parameters(), lr=lr, betas=(b1, b2))\n",
        "optimizer_D = torch.optim.Adam(discriminator.parameters(), lr=lr, betas=(b1, b2))\n",
        "\n",
        "# Но вот функция ошибки у нас будет одна общая\n",
        "adversarial_loss = torch.nn.BCELoss()"
      ]
    },
    {
      "cell_type": "code",
      "execution_count": 352,
      "metadata": {
        "id": "JzmZmQbiVsEr"
      },
      "outputs": [],
      "source": [
        "d_loss_history = []\n",
        "g_loss_history = []"
      ]
    },
    {
      "cell_type": "code",
      "source": [
        "import matplotlib.patches as mpatches\n",
        "\n",
        "for epoch in range(n_epochs):\n",
        "    for i, (imgs, labels) in enumerate(train_loader):\n",
        "        \n",
        "##################### Лейблы для данных: 1 - настоящие, 0 - сгенерированные ########\n",
        "        valid = torch.FloatTensor(batch_size, 1).fill_(1.0).to(device)\n",
        "        fake = torch.FloatTensor(batch_size, 1).fill_(0.0).to(device)\n",
        "\n",
        "        real_imgs = imgs.type(torch.FloatTensor).to(device)\n",
        "\n",
        "        # Генерация шума\n",
        "        z = torch.FloatTensor(np.random.normal(0, 1, (batch_size, latent_dim))).to(device)\n",
        "        \n",
        "        # Генерируем данные Генератором на основе шума\n",
        "        gen_imgs = generator(z)\n",
        "        \n",
        "######################  Тренировка дискриминатора    ##########################\n",
        "        \n",
        "        # Получаем предсказания дискриминатора на основе реальных данных\n",
        "        real_pred = discriminator(real_imgs)\n",
        "        \n",
        "        # Тут сравниваем предсказанные значения Дискриминатора(на основе настоящих данных) с настоящими\n",
        "        d_real_loss = adversarial_loss(real_pred, valid)\n",
        "        \n",
        "        # Подаем сгенерированые данные на Дискриминатор \n",
        "        fake_pred = discriminator(gen_imgs)\n",
        "        \n",
        "        # расчитываем ошибку предсказанного с фейковыми лейблами\n",
        "        d_fake_loss = adversarial_loss(fake_pred, fake)\n",
        "        \n",
        "        # И усредняем два лосса в один\n",
        "        d_loss = (d_real_loss + d_fake_loss) / 2\n",
        "\n",
        "        optimizer_D.zero_grad()\n",
        "        d_loss.backward()\n",
        "        optimizer_D.step()\n",
        "\n",
        "######################  Тренировка генератора    ##########################\n",
        "        \n",
        "        # генерация шума\n",
        "        z = torch.FloatTensor(np.random.normal(0, 1, (batch_size, latent_dim))).to(device)\n",
        "        \n",
        "        # Генерируем данные Генератором на основе шума\n",
        "        gen_points = generator(z)\n",
        "\n",
        "        # Подаем сгенерированые данные на Дискриминатор \n",
        "        fake_pred = discriminator(gen_points)\n",
        "    \n",
        "        # Тут сравниваем предсказанные значения Дискриминатора (на основе сгенерировнных данных) с настоящими\n",
        "        g_loss = adversarial_loss(fake_pred, valid)\n",
        "        \n",
        "        # Делаем шаг обучения нашего Генератора\n",
        "        optimizer_G.zero_grad()\n",
        "        g_loss.backward()\n",
        "        optimizer_G.step()\n",
        "\n",
        "        \n",
        "######## Отображение процесса обучения и вывод функций потерь ############\n",
        "        batches_done = epoch * len(train_loader) + i\n",
        "    \n",
        "        if batches_done % sample_interval == 0:\n",
        "            with torch.no_grad():\n",
        "                plt.clf()\n",
        "\n",
        "                display.clear_output(wait=False)\n",
        "\n",
        "                generated_samples = gen_points.detach().cpu()\n",
        "                plt.plot(generated_samples[:, 0], generated_samples[:, 1], \".\")\n",
        "\n",
        "                print(f\"[Epoch {epoch}/{n_epochs}] [Batch {i}/{len(train_loader)}]\", end='|')\n",
        "                print(f'[D loss: {d_loss.item()}] [G loss: {g_loss.item()}]') \n",
        "\n",
        "\n",
        "                # display.display(plt.gcf())\n",
        "                plt.show()\n",
        "                d_loss = d_loss.cpu().detach()\n",
        "                g_loss = g_loss.cpu().detach()\n",
        "\n",
        "\n",
        "                d_loss_history.append(d_loss)\n",
        "                g_loss_history.append(g_loss)\n",
        "\n",
        "                plt.plot(np.array(d_loss_history), label='D loss')\n",
        "                plt.plot(np.array(g_loss_history), label='G loss')\n",
        "                plt.legend()\n",
        "                plt.show()     "
      ],
      "metadata": {
        "colab": {
          "base_uri": "https://localhost:8080/",
          "height": 531
        },
        "id": "q5pW9Aq7jhV5",
        "outputId": "a4f557c2-a405-4b88-edb1-41922f44a76c"
      },
      "execution_count": 355,
      "outputs": [
        {
          "output_type": "stream",
          "name": "stdout",
          "text": [
            "[Epoch 99/100] [Batch 108/128]|[D loss: 1.7371448278427124] [G loss: 3.3638906478881836]\n"
          ]
        },
        {
          "output_type": "display_data",
          "data": {
            "text/plain": [
              "<Figure size 432x288 with 1 Axes>"
            ],
            "image/png": "[encoded data removed]"
          },
          "metadata": {
            "needs_background": "light"
          }
        },
        {
          "output_type": "display_data",
          "data": {
            "text/plain": [
              "<Figure size 432x288 with 1 Axes>"
            ],
            "image/png": "[encoded data removed]"
          },
          "metadata": {
            "needs_background": "light"
          }
        }
      ]
    },
    {
      "cell_type": "markdown",
      "source": [
        "кажется, что модели будто не хватает сложности, чтобы понять периодическую зависимость, я попытался увеличить сложность добавлением скрытых слоев. Примерно на 1100 шаге модель подошла к похожей (на функцию) траектории точек, но не смогла все-таки понять зависимость и сломалась. После 1500 шага стало происходить непонятное))"
      ],
      "metadata": {
        "id": "Hvgqrg830la6"
      }
    },
    {
      "cell_type": "code",
      "source": [
        ""
      ],
      "metadata": {
        "id": "KDa0V3Sh01xt"
      },
      "execution_count": null,
      "outputs": []
    }
  ],
  "metadata": {
    "kernelspec": {
      "display_name": "Python 3",
      "language": "python",
      "name": "python3"
    },
    "language_info": {
      "codemirror_mode": {
        "name": "ipython",
        "version": 3
      },
      "file_extension": ".py",
      "mimetype": "text/x-python",
      "name": "python",
      "nbconvert_exporter": "python",
      "pygments_lexer": "ipython3",
      "version": "3.8.5"
    },
    "colab": {
      "name": "HW_08.ipynb",
      "provenance": [],
      "collapsed_sections": []
    },
    "accelerator": "GPU"
  },
  "nbformat": 4,
  "nbformat_minor": 0
}