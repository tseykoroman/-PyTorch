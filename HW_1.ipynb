{
  "cells": [
    {
      "cell_type": "code",
      "execution_count": 28,
      "metadata": {
        "id": "_CNZn_3CofVO"
      },
      "outputs": [],
      "source": [
        "import torch"
      ]
    },
    {
      "cell_type": "code",
      "execution_count": 29,
      "metadata": {
        "id": "QGYTKAxeofVR",
        "outputId": "64ec3a45-1e56-4361-fa09-4943720772aa",
        "colab": {
          "base_uri": "https://localhost:8080/"
        }
      },
      "outputs": [
        {
          "output_type": "execute_result",
          "data": {
            "text/plain": [
              "(tensor([[[4.6120e-36, 0.0000e+00, 2.9287e-43, 0.0000e+00, 0.0000e+00],\n",
              "          [0.0000e+00, 0.0000e+00, 0.0000e+00, 0.0000e+00, 0.0000e+00],\n",
              "          [1.8788e+31, 1.7220e+22, 2.1715e-18, 3.3275e+21, 3.3587e-06],\n",
              "          [4.2054e-05, 8.4268e-07, 6.4461e-10, 4.3247e-05, 4.2098e+21]],\n",
              " \n",
              "         [[2.1669e-04, 6.5255e-10, 1.4580e-19, 1.1495e+24, 3.0881e+29],\n",
              "          [1.5766e-19, 1.8889e+31, 7.2065e+31, 2.8404e+29, 2.3089e-12],\n",
              "          [1.9421e+31, 2.7491e+20, 6.1949e-04, 1.9421e+31, 2.7491e+20],\n",
              "          [2.3078e-12, 7.1760e+22, 7.2250e+28, 1.5766e-19, 2.1067e-07]],\n",
              " \n",
              "         [[2.6426e+20, 8.2646e-10, 8.3104e+20, 2.5643e-09, 8.5081e-07],\n",
              "          [1.3445e+22, 3.4015e+21, 2.3049e-12, 2.6302e+20, 6.1949e-04],\n",
              "          [6.4805e-10, 2.5203e-09, 1.6992e-04, 6.7977e-04, 6.9368e-07],\n",
              "          [6.4458e-10, 2.5931e-09, 1.4580e-19, 4.5450e+30, 1.8524e+28]]]),\n",
              " 'torch.FloatTensor')"
            ]
          },
          "metadata": {},
          "execution_count": 29
        }
      ],
      "source": [
        "# 1. Создайте случайный FloatTensor размера 3x4x5\n",
        "t1 = torch.FloatTensor(3, 4, 5)\n",
        "t1, t1.type()"
      ]
    },
    {
      "cell_type": "code",
      "execution_count": 30,
      "metadata": {
        "id": "7GV_q8DdofVV",
        "outputId": "c3bc22c3-de02-4f13-b53c-726baac6ddf1",
        "colab": {
          "base_uri": "https://localhost:8080/"
        }
      },
      "outputs": [
        {
          "output_type": "execute_result",
          "data": {
            "text/plain": [
              "torch.Size([3, 4, 5])"
            ]
          },
          "metadata": {},
          "execution_count": 30
        }
      ],
      "source": [
        "# 2. Выведите его форму (shape)\n",
        "t1.shape"
      ]
    },
    {
      "cell_type": "code",
      "execution_count": 31,
      "metadata": {
        "id": "f1OTy65FofVX",
        "outputId": "4c9985e3-f91c-46ec-eb2c-83777207c7ca",
        "colab": {
          "base_uri": "https://localhost:8080/"
        }
      },
      "outputs": [
        {
          "output_type": "execute_result",
          "data": {
            "text/plain": [
              "(tensor([[4.6120e-36, 0.0000e+00, 2.9287e-43, 0.0000e+00, 0.0000e+00, 0.0000e+00,\n",
              "          0.0000e+00, 0.0000e+00, 0.0000e+00, 0.0000e+00],\n",
              "         [1.8788e+31, 1.7220e+22, 2.1715e-18, 3.3275e+21, 3.3587e-06, 4.2054e-05,\n",
              "          8.4268e-07, 6.4461e-10, 4.3247e-05, 4.2098e+21],\n",
              "         [2.1669e-04, 6.5255e-10, 1.4580e-19, 1.1495e+24, 3.0881e+29, 1.5766e-19,\n",
              "          1.8889e+31, 7.2065e+31, 2.8404e+29, 2.3089e-12],\n",
              "         [1.9421e+31, 2.7491e+20, 6.1949e-04, 1.9421e+31, 2.7491e+20, 2.3078e-12,\n",
              "          7.1760e+22, 7.2250e+28, 1.5766e-19, 2.1067e-07],\n",
              "         [2.6426e+20, 8.2646e-10, 8.3104e+20, 2.5643e-09, 8.5081e-07, 1.3445e+22,\n",
              "          3.4015e+21, 2.3049e-12, 2.6302e+20, 6.1949e-04],\n",
              "         [6.4805e-10, 2.5203e-09, 1.6992e-04, 6.7977e-04, 6.9368e-07, 6.4458e-10,\n",
              "          2.5931e-09, 1.4580e-19, 4.5450e+30, 1.8524e+28]]),\n",
              " 'torch.FloatTensor')"
            ]
          },
          "metadata": {},
          "execution_count": 31
        }
      ],
      "source": [
        "# 3. Приведите его к форме 6х10\n",
        "t2 = t1.reshape(6, 10)\n",
        "t2, t2.type()"
      ]
    },
    {
      "cell_type": "code",
      "execution_count": 32,
      "metadata": {
        "id": "BEVOv9_TofVe",
        "outputId": "58f5aeff-8cae-4178-d4ab-6682a8e58672",
        "colab": {
          "base_uri": "https://localhost:8080/"
        }
      },
      "outputs": [
        {
          "output_type": "execute_result",
          "data": {
            "text/plain": [
              "(tensor([108797952,         0,  16842752,  16843009,  16843009,  16843009,\n",
              "          16843009,  16843009,  16843009,  16843009], dtype=torch.int32),\n",
              " 'torch.IntTensor')"
            ]
          },
          "metadata": {},
          "execution_count": 32
        }
      ],
      "source": [
        "# 4. Создайте случайный IntTensor размера 10\n",
        "t3 = torch.IntTensor(10)\n",
        "t3, t3.type()"
      ]
    },
    {
      "cell_type": "code",
      "source": [
        "# 5. Умножьте созданный FloatTensor на созданный IntTensor поэлементно\n",
        "xa = t2 * t3\n",
        "xa"
      ],
      "metadata": {
        "id": "TAX3DUiSa07K",
        "outputId": "b599a746-7c00-443d-fa13-10bce35350f3",
        "colab": {
          "base_uri": "https://localhost:8080/"
        }
      },
      "execution_count": 33,
      "outputs": [
        {
          "output_type": "execute_result",
          "data": {
            "text/plain": [
              "tensor([[5.0177e-28, 0.0000e+00, 4.9328e-36, 0.0000e+00, 0.0000e+00, 0.0000e+00,\n",
              "         0.0000e+00, 0.0000e+00, 0.0000e+00, 0.0000e+00],\n",
              "        [       inf, 0.0000e+00, 3.6574e-11, 5.6045e+28, 5.6570e+01, 7.0832e+02,\n",
              "         1.4193e+01, 1.0857e-02, 7.2841e+02, 7.0905e+28],\n",
              "        [2.3576e+04, 0.0000e+00, 2.4557e-12, 1.9362e+31, 5.2013e+36, 2.6555e-12,\n",
              "         3.1814e+38,        inf, 4.7841e+36, 3.8889e-05],\n",
              "        [       inf, 0.0000e+00, 1.0434e+04, 3.2712e+38, 4.6303e+27, 3.8870e-05,\n",
              "         1.2087e+30, 1.2169e+36, 2.6555e-12, 3.5483e+00],\n",
              "        [2.8751e+28, 0.0000e+00, 1.3997e+28, 4.3191e-02, 1.4330e+01, 2.2645e+29,\n",
              "         5.7292e+28, 3.8822e-05, 4.4300e+27, 1.0434e+04],\n",
              "        [7.0506e-02, 0.0000e+00, 2.8620e+03, 1.1449e+04, 1.1684e+01, 1.0857e-02,\n",
              "         4.3676e-02, 2.4558e-12, 7.6551e+37, 3.1199e+35]])"
            ]
          },
          "metadata": {},
          "execution_count": 33
        }
      ]
    },
    {
      "cell_type": "code",
      "execution_count": 34,
      "metadata": {
        "id": "eUxdWlQZofVi",
        "outputId": "3fbeab1a-405a-4569-a08e-8f0065b2ad4f",
        "colab": {
          "base_uri": "https://localhost:8080/"
        }
      },
      "outputs": [
        {
          "output_type": "execute_result",
          "data": {
            "text/plain": [
              "tensor([[0.0000e+00,        inf,        nan,        inf, 1.4427e+01, 3.5392e-29],\n",
              "        [       inf,        inf,        inf,        inf,        inf,        inf],\n",
              "        [       nan,        inf,        inf,        inf,        inf,        inf],\n",
              "        [       inf,        inf,        inf,        inf,        inf,        inf],\n",
              "        [1.4427e+01,        inf,        inf,        inf,        inf,        inf],\n",
              "        [3.5392e-29,        inf,        inf,        inf,        inf,        inf]])"
            ]
          },
          "metadata": {},
          "execution_count": 34
        }
      ],
      "source": [
        "# 6. Умножьте тензор матрично на себя, чтобы результат был размерности 6x6\n",
        "# Подсказка: .dot может не подойти\n",
        "xa = xa @ xa.T\n",
        "xa"
      ]
    },
    {
      "cell_type": "code",
      "execution_count": 35,
      "metadata": {
        "id": "u3V6CsNkofVj",
        "outputId": "a9b42932-2fb1-4e46-921c-d66504c88a78",
        "colab": {
          "base_uri": "https://localhost:8080/"
        }
      },
      "outputs": [
        {
          "output_type": "stream",
          "name": "stdout",
          "text": [
            "dy/dx:  tensor([3.])\n",
            "dy/dz:  tensor([1.])\n",
            "dy/dt:  tensor([-75.])\n"
          ]
        }
      ],
      "source": [
        "# 7. Посчитайте производную функции y = x**3 + z - 75t в точке (1, 0.5, 2)\n",
        "x = torch.tensor([1.], requires_grad=True)\n",
        "z = torch.tensor([0.5], requires_grad=True)\n",
        "t = torch.tensor([2.], requires_grad=True)\n",
        "\n",
        "y = x**3 + z - 75*t\n",
        "\n",
        "y.backward()\n",
        "\n",
        "print('dy/dx: ', x.grad)\n",
        "print('dy/dz: ', z.grad)\n",
        "print('dy/dt: ', t.grad)"
      ]
    },
    {
      "cell_type": "code",
      "execution_count": 36,
      "metadata": {
        "id": "FzH6QkyxofVm",
        "outputId": "fdc6dbf4-dcdd-4177-ce3d-eeb7b33d4d40",
        "colab": {
          "base_uri": "https://localhost:8080/"
        }
      },
      "outputs": [
        {
          "output_type": "execute_result",
          "data": {
            "text/plain": [
              "tensor([[1., 1., 1., 1., 1., 1.],\n",
              "        [1., 1., 1., 1., 1., 1.],\n",
              "        [1., 1., 1., 1., 1., 1.],\n",
              "        [1., 1., 1., 1., 1., 1.],\n",
              "        [1., 1., 1., 1., 1., 1.]])"
            ]
          },
          "metadata": {},
          "execution_count": 36
        }
      ],
      "source": [
        "# 8. Создайте единичный тензор размера 5x6\n",
        "# 8. Создайте единичный тензор размера 5x6\n",
        "\n",
        "t_ones = torch.ones(5, 6)\n",
        "t_ones"
      ]
    },
    {
      "cell_type": "code",
      "execution_count": 37,
      "metadata": {
        "id": "z49ttvWPofVo",
        "outputId": "9b4c8f77-978b-4ed2-c52f-bd8e3e6c6ccd",
        "colab": {
          "base_uri": "https://localhost:8080/"
        }
      },
      "outputs": [
        {
          "output_type": "execute_result",
          "data": {
            "text/plain": [
              "array([[1., 1., 1., 1., 1., 1.],\n",
              "       [1., 1., 1., 1., 1., 1.],\n",
              "       [1., 1., 1., 1., 1., 1.],\n",
              "       [1., 1., 1., 1., 1., 1.],\n",
              "       [1., 1., 1., 1., 1., 1.]], dtype=float32)"
            ]
          },
          "metadata": {},
          "execution_count": 37
        }
      ],
      "source": [
        "# 9. Переведите его в формат numpy\n",
        "# 8. Создайте единичный тензор размера 5x6\n",
        "\n",
        "t_ones = t_ones.numpy()\n",
        "t_ones"
      ]
    }
  ],
  "metadata": {
    "kernelspec": {
      "display_name": "Python 3",
      "language": "python",
      "name": "python3"
    },
    "language_info": {
      "codemirror_mode": {
        "name": "ipython",
        "version": 3
      },
      "file_extension": ".py",
      "mimetype": "text/x-python",
      "name": "python",
      "nbconvert_exporter": "python",
      "pygments_lexer": "ipython3",
      "version": "3.7.4"
    },
    "colab": {
      "provenance": []
    }
  },
  "nbformat": 4,
  "nbformat_minor": 0
}