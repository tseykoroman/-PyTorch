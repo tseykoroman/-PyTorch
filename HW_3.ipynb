{
  "cells": [
    {
      "cell_type": "markdown",
      "metadata": {
        "id": "ik5k2xgNOumN"
      },
      "source": [
        "# HW03\n",
        "\n",
        "Будем практиковаться на датасете недвижимости (sklearn.datasets.fetch_california_housing)\n",
        "\n",
        "Ваша задача:\n",
        "\n",
        "Создать Dataset для загрузки данных\n",
        "\n",
        "Обернуть его в Dataloader\n",
        "\n",
        "Написать архитектуру сети, которая предсказывает стоимость недвижимости. Сеть должна включать BatchNorm слои и Dropout (или НЕ включать, но нужно обосновать)\n",
        "\n",
        "Сравните сходимость Adam, RMSProp и SGD, сделайте вывод по качеству работы модели\n",
        "\n",
        "train-test разделение нужно сделать с помощью sklearn random_state=13, test_size = 0.25"
      ]
    },
    {
      "cell_type": "code",
      "source": [
        "!pip install torchmetrics"
      ],
      "metadata": {
        "colab": {
          "base_uri": "https://localhost:8080/"
        },
        "id": "oqKsJ-BMO-LS",
        "outputId": "5d9e6c85-1051-4663-85ce-1a93d83072eb"
      },
      "execution_count": 51,
      "outputs": [
        {
          "output_type": "stream",
          "name": "stdout",
          "text": [
            "Looking in indexes: https://pypi.org/simple, https://us-python.pkg.dev/colab-wheels/public/simple/\n",
            "Requirement already satisfied: torchmetrics in /usr/local/lib/python3.8/dist-packages (0.11.0)\n",
            "Requirement already satisfied: torch>=1.8.1 in /usr/local/lib/python3.8/dist-packages (from torchmetrics) (1.13.0+cu116)\n",
            "Requirement already satisfied: packaging in /usr/local/lib/python3.8/dist-packages (from torchmetrics) (21.3)\n",
            "Requirement already satisfied: numpy>=1.17.2 in /usr/local/lib/python3.8/dist-packages (from torchmetrics) (1.21.6)\n",
            "Requirement already satisfied: typing-extensions in /usr/local/lib/python3.8/dist-packages (from torchmetrics) (4.4.0)\n",
            "Requirement already satisfied: pyparsing!=3.0.5,>=2.0.2 in /usr/local/lib/python3.8/dist-packages (from packaging->torchmetrics) (3.0.9)\n"
          ]
        }
      ]
    },
    {
      "cell_type": "code",
      "execution_count": 52,
      "metadata": {
        "id": "CKxQhToJOumS"
      },
      "outputs": [],
      "source": [
        "import torch\n",
        "import torch.nn as nn\n",
        "import sklearn\n",
        "import numpy as np\n",
        "import pandas as pd\n",
        "import torchmetrics\n",
        "import torch.nn.functional as F\n",
        "\n",
        "from sklearn.datasets import fetch_california_housing\n",
        "from sklearn.model_selection import train_test_split\n",
        "from sklearn.preprocessing import MinMaxScaler, StandardScaler\n",
        "from torch.utils.data import DataLoader, Dataset\n",
        "import matplotlib.pyplot as plt"
      ]
    },
    {
      "cell_type": "code",
      "execution_count": 53,
      "metadata": {
        "colab": {
          "base_uri": "https://localhost:8080/"
        },
        "id": "YiqZHFCiOumU",
        "outputId": "6d848bd7-a299-4ae8-9910-bfb2236bf764"
      },
      "outputs": [
        {
          "output_type": "stream",
          "name": "stdout",
          "text": [
            ".. _california_housing_dataset:\n",
            "\n",
            "California Housing dataset\n",
            "--------------------------\n",
            "\n",
            "**Data Set Characteristics:**\n",
            "\n",
            "    :Number of Instances: 20640\n",
            "\n",
            "    :Number of Attributes: 8 numeric, predictive attributes and the target\n",
            "\n",
            "    :Attribute Information:\n",
            "        - MedInc        median income in block group\n",
            "        - HouseAge      median house age in block group\n",
            "        - AveRooms      average number of rooms per household\n",
            "        - AveBedrms     average number of bedrooms per household\n",
            "        - Population    block group population\n",
            "        - AveOccup      average number of household members\n",
            "        - Latitude      block group latitude\n",
            "        - Longitude     block group longitude\n",
            "\n",
            "    :Missing Attribute Values: None\n",
            "\n",
            "This dataset was obtained from the StatLib repository.\n",
            "https://www.dcc.fc.up.pt/~ltorgo/Regression/cal_housing.html\n",
            "\n",
            "The target variable is the median house value for California districts,\n",
            "expressed in hundreds of thousands of dollars ($100,000).\n",
            "\n",
            "This dataset was derived from the 1990 U.S. census, using one row per census\n",
            "block group. A block group is the smallest geographical unit for which the U.S.\n",
            "Census Bureau publishes sample data (a block group typically has a population\n",
            "of 600 to 3,000 people).\n",
            "\n",
            "An household is a group of people residing within a home. Since the average\n",
            "number of rooms and bedrooms in this dataset are provided per household, these\n",
            "columns may take surpinsingly large values for block groups with few households\n",
            "and many empty houses, such as vacation resorts.\n",
            "\n",
            "It can be downloaded/loaded using the\n",
            ":func:`sklearn.datasets.fetch_california_housing` function.\n",
            "\n",
            ".. topic:: References\n",
            "\n",
            "    - Pace, R. Kelley and Ronald Barry, Sparse Spatial Autoregressions,\n",
            "      Statistics and Probability Letters, 33 (1997) 291-297\n",
            "\n"
          ]
        }
      ],
      "source": [
        "train_dataset = sklearn.datasets.fetch_california_housing()\n",
        "print(train_dataset.DESCR)\n"
      ]
    },
    {
      "cell_type": "code",
      "execution_count": 54,
      "metadata": {
        "id": "qfz7to2TOumV"
      },
      "outputs": [],
      "source": [
        "data = train_dataset.data\n",
        "target = train_dataset.target"
      ]
    },
    {
      "cell_type": "code",
      "execution_count": 55,
      "metadata": {
        "id": "o_nHvhXtOumW"
      },
      "outputs": [],
      "source": [
        "X_train, X_test, y_train, y_test = train_test_split(data, target, test_size=0.25, random_state=13)"
      ]
    },
    {
      "cell_type": "code",
      "execution_count": 56,
      "metadata": {
        "id": "kJAy-SY2OumW"
      },
      "outputs": [],
      "source": [
        "# сделаем стандарт-скейлер так как это задача регрессии и мин-макс скейлер будет хуже работать\n",
        "\n",
        "scaler = MinMaxScaler()\n",
        "# scaler = StandardScaler()\n",
        "\n",
        "X_train = scaler.fit_transform(X_train)\n",
        "X_test = scaler.transform(X_test)\n",
        "y_train = np.array(y_train)\n",
        "y_test = np.array(y_test)"
      ]
    },
    {
      "cell_type": "code",
      "execution_count": 57,
      "metadata": {
        "scrolled": true,
        "id": "hSOdQPKPOumX"
      },
      "outputs": [],
      "source": [
        "class MyOwnCH(Dataset):\n",
        "    \n",
        "    def __init__(self, X_data, y_data):\n",
        "        self.X_data = X_data\n",
        "        self.y_data = y_data\n",
        "        \n",
        "    def __getitem__(self, index):\n",
        "        return self.X_data[index], self.y_data[index]\n",
        "        \n",
        "    def __len__ (self):\n",
        "        return len(self.X_data)\n",
        "    \n",
        "    \n",
        "train_dataset = MyOwnCH(torch.from_numpy(X_train).float(), torch.from_numpy(y_train).float())\n",
        "test_dataset = MyOwnCH(torch.from_numpy(X_test).float(), torch.from_numpy(y_test).float())"
      ]
    },
    {
      "cell_type": "code",
      "execution_count": 58,
      "metadata": {
        "id": "Ol8j4gVrOumY"
      },
      "outputs": [],
      "source": [
        "train_loader = DataLoader(dataset=train_dataset, batch_size=64, shuffle=True, drop_last=True, num_workers=0)\n",
        "test_loader = DataLoader(dataset=test_dataset, batch_size=8, shuffle=False, drop_last=True, num_workers=0)"
      ]
    },
    {
      "cell_type": "code",
      "execution_count": 59,
      "metadata": {
        "id": "XW9B5SMzOumY"
      },
      "outputs": [],
      "source": [
        "class Perceptron(nn.Module):\n",
        "    def __init__(self, input_dim, output_dim, activation=\"relu\"):\n",
        "        super(Perceptron, self).__init__()\n",
        "        self.fc = nn.Linear(input_dim, output_dim)\n",
        "        self.activation = activation\n",
        "        \n",
        "    def forward(self, x):\n",
        "        x = self.fc(x)\n",
        "        if self.activation == \"relu\":\n",
        "            return F.relu(x)\n",
        "        if self.activation == \"sigmoid\":\n",
        "            return F.sigmoid(x)\n",
        "        raise RuntimeError\n",
        "        \n",
        "class FeedForward(nn.Module):\n",
        "    def __init__(self, input_dim, hidden_dim):\n",
        "        super(FeedForward, self).__init__()\n",
        "        self.bn1 = nn.BatchNorm1d(input_dim)\n",
        "        self.fc1 = Perceptron(input_dim, 2 * hidden_dim)\n",
        "        self.dp1 = nn.Dropout(0.25)\n",
        "        self.bn2 = nn.BatchNorm1d(2 * hidden_dim)\n",
        "        self.fc2 = Perceptron(2 * hidden_dim, hidden_dim)\n",
        "        self.dp2 = nn.Dropout(0.25)\n",
        "        self.bn3 = nn.BatchNorm1d(hidden_dim)\n",
        "        self.fc3 = Perceptron(hidden_dim, 1)\n",
        "        \n",
        "    def forward(self, x):\n",
        "        x = self.bn1(x)\n",
        "        x = self.fc1(x)\n",
        "        x = self.dp1(x)\n",
        "        x = self.bn2(x)\n",
        "        x = self.fc2(x)\n",
        "        x = self.dp2(x)\n",
        "        x = self.bn3(x)\n",
        "        x = self.fc3(x)\n",
        "        return x"
      ]
    },
    {
      "cell_type": "code",
      "execution_count": 60,
      "metadata": {
        "id": "_Y17nosKOumZ"
      },
      "outputs": [],
      "source": [
        "def model_comparing(model, optimizer, epochs = 30):    \n",
        "    \n",
        "    train_r2 = torchmetrics.R2Score()\n",
        "    test_r2 = torchmetrics.R2Score()\n",
        "\n",
        "    r2_train_list = []\n",
        "    r2_test_list = []\n",
        "    \n",
        "    for epoch in range(epochs):\n",
        "        \n",
        "        model.train()\n",
        "        \n",
        "        for i, data in enumerate(train_loader):\n",
        "            inputs, target = data[0], data[1]\n",
        "            optimizer.zero_grad()\n",
        "            outputs = model(inputs)\n",
        "            batch_r2 = train_r2(outputs.squeeze(), target)\n",
        "            # Рассчитываем лосс-функцию (функцию потерь)\n",
        "            loss = criterion(outputs.squeeze(), target)\n",
        "            loss.backward()\n",
        "            optimizer.step()\n",
        "        \n",
        "        model.eval()\n",
        "        \n",
        "        for i, data in enumerate(test_loader):\n",
        "            inputs, target = data[0], data[1]\n",
        "            outputs = model(inputs)\n",
        "            test_r2(outputs.squeeze(), target)\n",
        "\n",
        "        # total r2 over all training batches\n",
        "        total_train_r2 = train_r2.compute()\n",
        "        # total r2 over all training batches\n",
        "        total_test_r2 = test_r2.compute()\n",
        "        \n",
        "        r2_train_list.append(total_train_r2)\n",
        "        r2_test_list.append(total_test_r2)\n",
        "        print(f'Epoch {epoch+1}: r2_train = {total_train_r2}, r2_test = {total_test_r2}')\n",
        "\n",
        "        #reset for next epoch\n",
        "        train_r2.reset()\n",
        "        test_r2.reset()\n",
        "    \n",
        "    return r2_train_list, r2_test_list"
      ]
    },
    {
      "cell_type": "code",
      "execution_count": 61,
      "metadata": {
        "id": "oSiZ2nqSOuma"
      },
      "outputs": [],
      "source": [
        "def metrics_view(r2_train_list, r2_test_list, optim, epochs = 30):\n",
        "    \n",
        "    epoch = np.arange(1,epochs + 1,1)\n",
        "    y_train = r2_train_list\n",
        "    y_test = r2_test_list\n",
        "    plt.plot(epoch, y_train, label='R2_train')\n",
        "    plt.plot(epoch, y_test, label='R2_test')\n",
        "    plt.title(f\"{optim}\")   \n",
        "    plt.ylabel('R2_score')   \n",
        "    plt.xlabel('epochs')   \n",
        "    plt.legend()\n",
        "    plt.show()"
      ]
    },
    {
      "cell_type": "code",
      "source": [
        "epochs = 50"
      ],
      "metadata": {
        "id": "K1_quN4hQAf_"
      },
      "execution_count": 62,
      "outputs": []
    },
    {
      "cell_type": "markdown",
      "metadata": {
        "id": "X-KMZ0zyOuma"
      },
      "source": [
        "### SGD"
      ]
    },
    {
      "cell_type": "code",
      "execution_count": 63,
      "metadata": {
        "colab": {
          "base_uri": "https://localhost:8080/"
        },
        "id": "dwb9-6lmOumb",
        "outputId": "6b185b81-6c51-4c76-fe7b-91b93a1646a1"
      },
      "outputs": [
        {
          "output_type": "stream",
          "name": "stdout",
          "text": [
            "FeedForward(\n",
            "  (bn1): BatchNorm1d(8, eps=1e-05, momentum=0.1, affine=True, track_running_stats=True)\n",
            "  (fc1): Perceptron(\n",
            "    (fc): Linear(in_features=8, out_features=800, bias=True)\n",
            "  )\n",
            "  (dp1): Dropout(p=0.25, inplace=False)\n",
            "  (bn2): BatchNorm1d(800, eps=1e-05, momentum=0.1, affine=True, track_running_stats=True)\n",
            "  (fc2): Perceptron(\n",
            "    (fc): Linear(in_features=800, out_features=400, bias=True)\n",
            "  )\n",
            "  (dp2): Dropout(p=0.25, inplace=False)\n",
            "  (bn3): BatchNorm1d(400, eps=1e-05, momentum=0.1, affine=True, track_running_stats=True)\n",
            "  (fc3): Perceptron(\n",
            "    (fc): Linear(in_features=400, out_features=1, bias=True)\n",
            "  )\n",
            ")\n",
            "Epoch 1: r2_train = -0.9493361711502075, r2_test = -0.2505873441696167\n",
            "Epoch 2: r2_train = -0.34838759899139404, r2_test = -0.015439748764038086\n",
            "Epoch 3: r2_train = -0.175567626953125, r2_test = 0.061093032360076904\n",
            "Epoch 4: r2_train = -0.06646358966827393, r2_test = 0.21466940641403198\n",
            "Epoch 5: r2_train = 0.008794069290161133, r2_test = 0.18406414985656738\n",
            "Epoch 6: r2_train = 0.0490836501121521, r2_test = 0.24436116218566895\n",
            "Epoch 7: r2_train = 0.10533010959625244, r2_test = 0.25363487005233765\n",
            "Epoch 8: r2_train = 0.12364143133163452, r2_test = 0.29187238216400146\n",
            "Epoch 9: r2_train = 0.16468220949172974, r2_test = 0.3357265591621399\n",
            "Epoch 10: r2_train = 0.18100452423095703, r2_test = 0.3446134328842163\n",
            "Epoch 11: r2_train = 0.19815349578857422, r2_test = 0.34701597690582275\n",
            "Epoch 12: r2_train = 0.21532458066940308, r2_test = 0.36937886476516724\n",
            "Epoch 13: r2_train = 0.251218318939209, r2_test = 0.38464975357055664\n",
            "Epoch 14: r2_train = 0.2729155421257019, r2_test = 0.4187745451927185\n",
            "Epoch 15: r2_train = 0.2856329083442688, r2_test = 0.43960535526275635\n",
            "Epoch 16: r2_train = 0.3095850944519043, r2_test = 0.44300246238708496\n",
            "Epoch 17: r2_train = 0.3372061252593994, r2_test = 0.460127055644989\n",
            "Epoch 18: r2_train = 0.3469887971878052, r2_test = 0.4881707429885864\n",
            "Epoch 19: r2_train = 0.3656710386276245, r2_test = 0.4677382707595825\n",
            "Epoch 20: r2_train = 0.38239866495132446, r2_test = 0.4640939235687256\n",
            "Epoch 21: r2_train = 0.3860565423965454, r2_test = 0.48176681995391846\n",
            "Epoch 22: r2_train = 0.4029749035835266, r2_test = 0.49708670377731323\n",
            "Epoch 23: r2_train = 0.4158599376678467, r2_test = 0.46248650550842285\n",
            "Epoch 24: r2_train = 0.4241099953651428, r2_test = 0.5326534509658813\n",
            "Epoch 25: r2_train = 0.42678266763687134, r2_test = 0.5072962641716003\n",
            "Epoch 26: r2_train = 0.441886305809021, r2_test = 0.5148704051971436\n",
            "Epoch 27: r2_train = 0.44766688346862793, r2_test = 0.535940945148468\n",
            "Epoch 28: r2_train = 0.4622718095779419, r2_test = 0.5450076460838318\n",
            "Epoch 29: r2_train = 0.47332656383514404, r2_test = 0.5098921060562134\n",
            "Epoch 30: r2_train = 0.46854978799819946, r2_test = 0.552448570728302\n",
            "Epoch 31: r2_train = 0.4689502716064453, r2_test = 0.5425164699554443\n",
            "Epoch 32: r2_train = 0.47984153032302856, r2_test = 0.5532051920890808\n",
            "Epoch 33: r2_train = 0.4846740961074829, r2_test = 0.5419062376022339\n",
            "Epoch 34: r2_train = 0.48759573698043823, r2_test = 0.5391693711280823\n",
            "Epoch 35: r2_train = 0.4916672110557556, r2_test = 0.5799015760421753\n",
            "Epoch 36: r2_train = 0.5020995736122131, r2_test = 0.5799541473388672\n",
            "Epoch 37: r2_train = 0.5070950984954834, r2_test = 0.5505783557891846\n",
            "Epoch 38: r2_train = 0.5146969556808472, r2_test = 0.5851997137069702\n",
            "Epoch 39: r2_train = 0.5189826488494873, r2_test = 0.6047110557556152\n",
            "Epoch 40: r2_train = 0.5175728797912598, r2_test = 0.5831582546234131\n",
            "Epoch 41: r2_train = 0.5252374410629272, r2_test = 0.5476505160331726\n",
            "Epoch 42: r2_train = 0.5251519680023193, r2_test = 0.592117428779602\n",
            "Epoch 43: r2_train = 0.5349260568618774, r2_test = 0.6162058115005493\n",
            "Epoch 44: r2_train = 0.5404815077781677, r2_test = 0.6064757704734802\n",
            "Epoch 45: r2_train = 0.5413227081298828, r2_test = 0.6187267303466797\n",
            "Epoch 46: r2_train = 0.5481213927268982, r2_test = 0.6231130361557007\n",
            "Epoch 47: r2_train = 0.5555513501167297, r2_test = 0.5678616762161255\n",
            "Epoch 48: r2_train = 0.5573062300682068, r2_test = 0.6172583699226379\n",
            "Epoch 49: r2_train = 0.5530682802200317, r2_test = 0.5720425844192505\n",
            "Epoch 50: r2_train = 0.5618456602096558, r2_test = 0.6342743635177612\n"
          ]
        }
      ],
      "source": [
        "model = FeedForward(8, 400)\n",
        "print(model)\n",
        "criterion = nn.MSELoss()\n",
        "optimizer = torch.optim.SGD(model.parameters(), lr=0.0005, momentum=0.0)\n",
        "r2_train_SGD, r2_test_SGD = model_comparing(model, optimizer, epochs)\n",
        "\n",
        "# optimizer = torch.optim.SGD(model.parameters(), lr=0.01)"
      ]
    },
    {
      "cell_type": "code",
      "execution_count": 64,
      "metadata": {
        "scrolled": true,
        "colab": {
          "base_uri": "https://localhost:8080/",
          "height": 295
        },
        "id": "EproUJftOumb",
        "outputId": "07087c0d-f782-4ec8-c8d9-917612ec8505"
      },
      "outputs": [
        {
          "output_type": "display_data",
          "data": {
            "text/plain": [
              "<Figure size 432x288 with 1 Axes>"
            ],
            "image/png": "[encoded data removed]"
          },
          "metadata": {
            "needs_background": "light"
          }
        }
      ],
      "source": [
        "metrics_view(r2_train_SGD, r2_test_SGD, 'SGD', epochs)"
      ]
    },
    {
      "cell_type": "markdown",
      "metadata": {
        "id": "w3-2W-oiOumc"
      },
      "source": [
        "### RMSprop"
      ]
    },
    {
      "cell_type": "code",
      "execution_count": 65,
      "metadata": {
        "colab": {
          "base_uri": "https://localhost:8080/"
        },
        "id": "mX11KNLfOumc",
        "outputId": "b47b7a2f-b5a1-407f-86ce-b3029daf1183"
      },
      "outputs": [
        {
          "output_type": "stream",
          "name": "stdout",
          "text": [
            "Epoch 1: r2_train = 0.2683691382408142, r2_test = 0.4922531843185425\n",
            "Epoch 2: r2_train = 0.5101662874221802, r2_test = 0.6251602172851562\n",
            "Epoch 3: r2_train = 0.5745571255683899, r2_test = 0.6655621528625488\n",
            "Epoch 4: r2_train = 0.6064989566802979, r2_test = 0.637948215007782\n",
            "Epoch 5: r2_train = 0.6339069604873657, r2_test = 0.6834486722946167\n",
            "Epoch 6: r2_train = 0.6335992813110352, r2_test = 0.7068344354629517\n",
            "Epoch 7: r2_train = 0.6603686213493347, r2_test = 0.7108429670333862\n",
            "Epoch 8: r2_train = 0.6618843674659729, r2_test = 0.6825525164604187\n",
            "Epoch 9: r2_train = 0.6680257320404053, r2_test = 0.6836836338043213\n",
            "Epoch 10: r2_train = 0.6689243316650391, r2_test = 0.7345837950706482\n",
            "Epoch 11: r2_train = 0.6785697340965271, r2_test = 0.6890488862991333\n",
            "Epoch 12: r2_train = 0.6857689023017883, r2_test = 0.7477763891220093\n",
            "Epoch 13: r2_train = 0.6872525215148926, r2_test = 0.735877275466919\n",
            "Epoch 14: r2_train = 0.6938834190368652, r2_test = 0.7402084469795227\n",
            "Epoch 15: r2_train = 0.6968022584915161, r2_test = 0.6629546880722046\n",
            "Epoch 16: r2_train = 0.706027090549469, r2_test = 0.689734697341919\n",
            "Epoch 17: r2_train = 0.7062543630599976, r2_test = 0.689493715763092\n",
            "Epoch 18: r2_train = 0.7093958854675293, r2_test = 0.7516849040985107\n",
            "Epoch 19: r2_train = 0.7187572121620178, r2_test = 0.7354744672775269\n",
            "Epoch 20: r2_train = 0.7189726233482361, r2_test = 0.7439748048782349\n",
            "Epoch 21: r2_train = 0.7224446535110474, r2_test = 0.7041251063346863\n",
            "Epoch 22: r2_train = 0.7279789447784424, r2_test = 0.6953088045120239\n",
            "Epoch 23: r2_train = 0.7277137041091919, r2_test = 0.7508494257926941\n",
            "Epoch 24: r2_train = 0.7298632860183716, r2_test = 0.7526304721832275\n",
            "Epoch 25: r2_train = 0.7356398105621338, r2_test = 0.6769200563430786\n",
            "Epoch 26: r2_train = 0.7405062317848206, r2_test = 0.7378250360488892\n",
            "Epoch 27: r2_train = 0.7426161766052246, r2_test = 0.7665324807167053\n",
            "Epoch 28: r2_train = 0.7423145771026611, r2_test = 0.7344697713851929\n",
            "Epoch 29: r2_train = 0.7445871829986572, r2_test = 0.7565282583236694\n",
            "Epoch 30: r2_train = 0.7451874017715454, r2_test = 0.7634779214859009\n",
            "Epoch 31: r2_train = 0.7444691061973572, r2_test = 0.7742329835891724\n",
            "Epoch 32: r2_train = 0.7454285025596619, r2_test = 0.7616057395935059\n",
            "Epoch 33: r2_train = 0.7439473867416382, r2_test = 0.7232456803321838\n",
            "Epoch 34: r2_train = 0.745341420173645, r2_test = 0.7367794513702393\n",
            "Epoch 35: r2_train = 0.7470466494560242, r2_test = 0.6920438408851624\n",
            "Epoch 36: r2_train = 0.7486587762832642, r2_test = 0.7767287492752075\n",
            "Epoch 37: r2_train = 0.7510477304458618, r2_test = 0.08707433938980103\n",
            "Epoch 38: r2_train = 0.7495207786560059, r2_test = 0.7314558029174805\n",
            "Epoch 39: r2_train = 0.7479445934295654, r2_test = 0.7287907004356384\n",
            "Epoch 40: r2_train = 0.747939944267273, r2_test = 0.6993535757064819\n",
            "Epoch 41: r2_train = 0.7532654404640198, r2_test = 0.7152767181396484\n",
            "Epoch 42: r2_train = 0.754012942314148, r2_test = 0.5914283990859985\n",
            "Epoch 43: r2_train = 0.7520543932914734, r2_test = 0.7578158378601074\n",
            "Epoch 44: r2_train = 0.7465009093284607, r2_test = 0.7433487176895142\n",
            "Epoch 45: r2_train = 0.7547675371170044, r2_test = 0.7602271437644958\n",
            "Epoch 46: r2_train = 0.7562187314033508, r2_test = 0.7196688652038574\n",
            "Epoch 47: r2_train = 0.7569583058357239, r2_test = 0.7800008654594421\n",
            "Epoch 48: r2_train = 0.7574254274368286, r2_test = 0.10536831617355347\n",
            "Epoch 49: r2_train = 0.754858136177063, r2_test = 0.5664241313934326\n",
            "Epoch 50: r2_train = 0.7568874955177307, r2_test = 0.7570858001708984\n"
          ]
        }
      ],
      "source": [
        "model = FeedForward(8, 400)\n",
        "# print(model)\n",
        "criterion = nn.MSELoss()\n",
        "optimizer = torch.optim.RMSprop(model.parameters(), lr=0.0005)\n",
        "r2_train_RMSprop, r2_test_RMSprop = model_comparing(model, optimizer, epochs)"
      ]
    },
    {
      "cell_type": "code",
      "execution_count": 66,
      "metadata": {
        "colab": {
          "base_uri": "https://localhost:8080/",
          "height": 295
        },
        "id": "dhJl8cglOumc",
        "outputId": "e780d594-8304-421b-c9a4-8c5a790613c6"
      },
      "outputs": [
        {
          "output_type": "display_data",
          "data": {
            "text/plain": [
              "<Figure size 432x288 with 1 Axes>"
            ],
            "image/png": "[encoded data removed]"
          },
          "metadata": {
            "needs_background": "light"
          }
        }
      ],
      "source": [
        "metrics_view(r2_train_RMSprop, r2_test_RMSprop, 'RMSprop', epochs)"
      ]
    },
    {
      "cell_type": "markdown",
      "metadata": {
        "id": "POMT0mX7Oumc"
      },
      "source": [
        "### ADAM"
      ]
    },
    {
      "cell_type": "code",
      "execution_count": 67,
      "metadata": {
        "scrolled": false,
        "colab": {
          "base_uri": "https://localhost:8080/"
        },
        "id": "u7FLiTY7Oumd",
        "outputId": "a1035e9f-9c97-4b49-a047-92992ff81f5a"
      },
      "outputs": [
        {
          "output_type": "stream",
          "name": "stdout",
          "text": [
            "Epoch 1: r2_train = 0.0535351037979126, r2_test = 0.4987008571624756\n",
            "Epoch 2: r2_train = 0.4482194781303406, r2_test = 0.5838340520858765\n",
            "Epoch 3: r2_train = 0.5386960506439209, r2_test = 0.6117403507232666\n",
            "Epoch 4: r2_train = 0.5995491743087769, r2_test = 0.658470630645752\n",
            "Epoch 5: r2_train = 0.6264145374298096, r2_test = 0.6958808898925781\n",
            "Epoch 6: r2_train = 0.6453955769538879, r2_test = 0.6513484716415405\n",
            "Epoch 7: r2_train = 0.6569029092788696, r2_test = 0.7280986309051514\n",
            "Epoch 8: r2_train = 0.660873293876648, r2_test = 0.6690998077392578\n",
            "Epoch 9: r2_train = 0.6696071624755859, r2_test = 0.7233245372772217\n",
            "Epoch 10: r2_train = 0.6829065084457397, r2_test = 0.7468746900558472\n",
            "Epoch 11: r2_train = 0.6868758201599121, r2_test = 0.7401450872421265\n",
            "Epoch 12: r2_train = 0.6876324415206909, r2_test = 0.7444343566894531\n",
            "Epoch 13: r2_train = 0.6913514137268066, r2_test = 0.7412967085838318\n",
            "Epoch 14: r2_train = 0.7034308314323425, r2_test = 0.7545970678329468\n",
            "Epoch 15: r2_train = 0.704365611076355, r2_test = 0.7371978759765625\n",
            "Epoch 16: r2_train = 0.7103376388549805, r2_test = 0.7228432893753052\n",
            "Epoch 17: r2_train = 0.7131867408752441, r2_test = 0.7141929268836975\n",
            "Epoch 18: r2_train = 0.719501256942749, r2_test = 0.7620578408241272\n",
            "Epoch 19: r2_train = 0.7173181176185608, r2_test = 0.7567662596702576\n",
            "Epoch 20: r2_train = 0.7261504530906677, r2_test = 0.7530005574226379\n",
            "Epoch 21: r2_train = 0.717921257019043, r2_test = 0.6745768785476685\n",
            "Epoch 22: r2_train = 0.7259660363197327, r2_test = 0.7648617625236511\n",
            "Epoch 23: r2_train = 0.7288937568664551, r2_test = 0.7051970958709717\n",
            "Epoch 24: r2_train = 0.7303099632263184, r2_test = 0.7398402690887451\n",
            "Epoch 25: r2_train = 0.7296267747879028, r2_test = 0.7652223110198975\n",
            "Epoch 26: r2_train = 0.7280035018920898, r2_test = 0.7477177381515503\n",
            "Epoch 27: r2_train = 0.734137773513794, r2_test = 0.7377771139144897\n",
            "Epoch 28: r2_train = 0.7363430261611938, r2_test = 0.6928422451019287\n",
            "Epoch 29: r2_train = 0.7373418807983398, r2_test = 0.7461012601852417\n",
            "Epoch 30: r2_train = 0.737209677696228, r2_test = 0.7340677976608276\n",
            "Epoch 31: r2_train = 0.744414210319519, r2_test = 0.7555970549583435\n",
            "Epoch 32: r2_train = 0.7412008047103882, r2_test = 0.7652405500411987\n",
            "Epoch 33: r2_train = 0.7423396706581116, r2_test = 0.7457495331764221\n",
            "Epoch 34: r2_train = 0.744289755821228, r2_test = 0.6385840177536011\n",
            "Epoch 35: r2_train = 0.7433346509933472, r2_test = 0.7293878793716431\n",
            "Epoch 36: r2_train = 0.7447910308837891, r2_test = 0.7255094647407532\n",
            "Epoch 37: r2_train = 0.747571587562561, r2_test = 0.7218960523605347\n",
            "Epoch 38: r2_train = 0.7498540878295898, r2_test = 0.7546036839485168\n",
            "Epoch 39: r2_train = 0.7457462549209595, r2_test = 0.6761303544044495\n",
            "Epoch 40: r2_train = 0.7505403757095337, r2_test = 0.7698569297790527\n",
            "Epoch 41: r2_train = 0.7447821497917175, r2_test = 0.7029379606246948\n",
            "Epoch 42: r2_train = 0.7448798418045044, r2_test = 0.7044553756713867\n",
            "Epoch 43: r2_train = 0.7509371638298035, r2_test = 0.6835284233093262\n",
            "Epoch 44: r2_train = 0.7535349130630493, r2_test = 0.6870251297950745\n",
            "Epoch 45: r2_train = 0.748815655708313, r2_test = 0.7272287607192993\n",
            "Epoch 46: r2_train = 0.7498284578323364, r2_test = 0.7001718878746033\n",
            "Epoch 47: r2_train = 0.7494510412216187, r2_test = 0.6870166659355164\n",
            "Epoch 48: r2_train = 0.7601829767227173, r2_test = 0.7405657768249512\n",
            "Epoch 49: r2_train = 0.7542545199394226, r2_test = 0.628730297088623\n",
            "Epoch 50: r2_train = 0.7556697130203247, r2_test = 0.7450178861618042\n"
          ]
        }
      ],
      "source": [
        "model = FeedForward(8, 400)\n",
        "# print(model)\n",
        "criterion = nn.MSELoss()\n",
        "optimizer = torch.optim.Adam(model.parameters(), lr=0.0005)\n",
        "r2_train_Adam, r2_test_Adam = model_comparing(model, optimizer, epochs)"
      ]
    },
    {
      "cell_type": "code",
      "execution_count": 68,
      "metadata": {
        "colab": {
          "base_uri": "https://localhost:8080/",
          "height": 295
        },
        "id": "XfT8wACrOumd",
        "outputId": "a11f41ed-ebe5-45e8-fa5c-9f0bc68afdba"
      },
      "outputs": [
        {
          "output_type": "display_data",
          "data": {
            "text/plain": [
              "<Figure size 432x288 with 1 Axes>"
            ],
            "image/png": "[encoded data removed]"
          },
          "metadata": {
            "needs_background": "light"
          }
        }
      ],
      "source": [
        "metrics_view(r2_train_Adam, r2_test_Adam, 'Adam', epochs)"
      ]
    },
    {
      "cell_type": "markdown",
      "metadata": {
        "id": "p2XaXsbkOumd"
      },
      "source": [
        "### Сравнение метрик"
      ]
    },
    {
      "cell_type": "code",
      "execution_count": 69,
      "metadata": {
        "colab": {
          "base_uri": "https://localhost:8080/",
          "height": 143
        },
        "id": "rarqrbOzOumd",
        "outputId": "3ce268dc-bc8a-4565-dbe7-fedc2b283bef"
      },
      "outputs": [
        {
          "output_type": "execute_result",
          "data": {
            "text/plain": [
              "         r2_train   r2_test\n",
              "RMSprop  0.756887  0.757086\n",
              "Adam     0.755670  0.745018\n",
              "SGD      0.561846  0.634274"
            ],
            "text/html": [
              "\n",
              "  <div id=\"df-22d52842-c453-44b4-a042-780b76c46e4f\">\n",
              "    <div class=\"colab-df-container\">\n",
              "      <div>\n",
              "<style scoped>\n",
              "    .dataframe tbody tr th:only-of-type {\n",
              "        vertical-align: middle;\n",
              "    }\n",
              "\n",
              "    .dataframe tbody tr th {\n",
              "        vertical-align: top;\n",
              "    }\n",
              "\n",
              "    .dataframe thead th {\n",
              "        text-align: right;\n",
              "    }\n",
              "</style>\n",
              "<table border=\"1\" class=\"dataframe\">\n",
              "  <thead>\n",
              "    <tr style=\"text-align: right;\">\n",
              "      <th></th>\n",
              "      <th>r2_train</th>\n",
              "      <th>r2_test</th>\n",
              "    </tr>\n",
              "  </thead>\n",
              "  <tbody>\n",
              "    <tr>\n",
              "      <th>RMSprop</th>\n",
              "      <td>0.756887</td>\n",
              "      <td>0.757086</td>\n",
              "    </tr>\n",
              "    <tr>\n",
              "      <th>Adam</th>\n",
              "      <td>0.755670</td>\n",
              "      <td>0.745018</td>\n",
              "    </tr>\n",
              "    <tr>\n",
              "      <th>SGD</th>\n",
              "      <td>0.561846</td>\n",
              "      <td>0.634274</td>\n",
              "    </tr>\n",
              "  </tbody>\n",
              "</table>\n",
              "</div>\n",
              "      <button class=\"colab-df-convert\" onclick=\"convertToInteractive('df-22d52842-c453-44b4-a042-780b76c46e4f')\"\n",
              "              title=\"Convert this dataframe to an interactive table.\"\n",
              "              style=\"display:none;\">\n",
              "        \n",
              "  <svg xmlns=\"http://www.w3.org/2000/svg\" height=\"24px\"viewBox=\"0 0 24 24\"\n",
              "       width=\"24px\">\n",
              "    <path d=\"M0 0h24v24H0V0z\" fill=\"none\"/>\n",
              "    <path d=\"M18.56 5.44l.94 2.06.94-2.06 2.06-.94-2.06-.94-.94-2.06-.94 2.06-2.06.94zm-11 1L8.5 8.5l.94-2.06 2.06-.94-2.06-.94L8.5 2.5l-.94 2.06-2.06.94zm10 10l.94 2.06.94-2.06 2.06-.94-2.06-.94-.94-2.06-.94 2.06-2.06.94z\"/><path d=\"M17.41 7.96l-1.37-1.37c-.4-.4-.92-.59-1.43-.59-.52 0-1.04.2-1.43.59L10.3 9.45l-7.72 7.72c-.78.78-.78 2.05 0 2.83L4 21.41c.39.39.9.59 1.41.59.51 0 1.02-.2 1.41-.59l7.78-7.78 2.81-2.81c.8-.78.8-2.07 0-2.86zM5.41 20L4 18.59l7.72-7.72 1.47 1.35L5.41 20z\"/>\n",
              "  </svg>\n",
              "      </button>\n",
              "      \n",
              "  <style>\n",
              "    .colab-df-container {\n",
              "      display:flex;\n",
              "      flex-wrap:wrap;\n",
              "      gap: 12px;\n",
              "    }\n",
              "\n",
              "    .colab-df-convert {\n",
              "      background-color: #E8F0FE;\n",
              "      border: none;\n",
              "      border-radius: 50%;\n",
              "      cursor: pointer;\n",
              "      display: none;\n",
              "      fill: #1967D2;\n",
              "      height: 32px;\n",
              "      padding: 0 0 0 0;\n",
              "      width: 32px;\n",
              "    }\n",
              "\n",
              "    .colab-df-convert:hover {\n",
              "      background-color: #E2EBFA;\n",
              "      box-shadow: 0px 1px 2px rgba(60, 64, 67, 0.3), 0px 1px 3px 1px rgba(60, 64, 67, 0.15);\n",
              "      fill: #174EA6;\n",
              "    }\n",
              "\n",
              "    [theme=dark] .colab-df-convert {\n",
              "      background-color: #3B4455;\n",
              "      fill: #D2E3FC;\n",
              "    }\n",
              "\n",
              "    [theme=dark] .colab-df-convert:hover {\n",
              "      background-color: #434B5C;\n",
              "      box-shadow: 0px 1px 3px 1px rgba(0, 0, 0, 0.15);\n",
              "      filter: drop-shadow(0px 1px 2px rgba(0, 0, 0, 0.3));\n",
              "      fill: #FFFFFF;\n",
              "    }\n",
              "  </style>\n",
              "\n",
              "      <script>\n",
              "        const buttonEl =\n",
              "          document.querySelector('#df-22d52842-c453-44b4-a042-780b76c46e4f button.colab-df-convert');\n",
              "        buttonEl.style.display =\n",
              "          google.colab.kernel.accessAllowed ? 'block' : 'none';\n",
              "\n",
              "        async function convertToInteractive(key) {\n",
              "          const element = document.querySelector('#df-22d52842-c453-44b4-a042-780b76c46e4f');\n",
              "          const dataTable =\n",
              "            await google.colab.kernel.invokeFunction('convertToInteractive',\n",
              "                                                     [key], {});\n",
              "          if (!dataTable) return;\n",
              "\n",
              "          const docLinkHtml = 'Like what you see? Visit the ' +\n",
              "            '<a target=\"_blank\" href=https://colab.research.google.com/notebooks/data_table.ipynb>data table notebook</a>'\n",
              "            + ' to learn more about interactive tables.';\n",
              "          element.innerHTML = '';\n",
              "          dataTable['output_type'] = 'display_data';\n",
              "          await google.colab.output.renderOutput(dataTable, element);\n",
              "          const docLink = document.createElement('div');\n",
              "          docLink.innerHTML = docLinkHtml;\n",
              "          element.appendChild(docLink);\n",
              "        }\n",
              "      </script>\n",
              "    </div>\n",
              "  </div>\n",
              "  "
            ]
          },
          "metadata": {},
          "execution_count": 69
        }
      ],
      "source": [
        "metrics_result = pd.DataFrame([{'r2_train': r2_train_SGD[-1].item(), 'r2_test': r2_test_SGD[-1].item()},\n",
        "                               {'r2_train': r2_train_RMSprop[-1].item(), 'r2_test': r2_test_RMSprop[-1].item()},\n",
        "                               {'r2_train': r2_train_Adam[-1].item(), 'r2_test': r2_test_Adam[-1].item()},\n",
        "                              ],\n",
        "                              index = ['SGD', 'RMSprop', 'Adam'], \n",
        "                              columns = ['r2_train', 'r2_test'])\n",
        "\n",
        "metrics_result.sort_values(by='r2_test', ascending=False)"
      ]
    },
    {
      "cell_type": "markdown",
      "metadata": {
        "id": "r7VgVLNcOume"
      },
      "source": [
        "Алгоримт SGD долго сходится - но достаточно стабильно. Ему требуется больше эпох, чтобы прийти к значениям метрик, которые достигаются другими алгоритмами значительно быстрее.\n",
        "\n",
        "Алгоритмы Adam и RMSprop сходятся примерно одинаково. И быстрее чем SGD."
      ]
    }
  ],
  "metadata": {
    "kernelspec": {
      "display_name": "Python 3",
      "language": "python",
      "name": "python3"
    },
    "language_info": {
      "codemirror_mode": {
        "name": "ipython",
        "version": 3
      },
      "file_extension": ".py",
      "mimetype": "text/x-python",
      "name": "python",
      "nbconvert_exporter": "python",
      "pygments_lexer": "ipython3",
      "version": "3.8.5"
    },
    "colab": {
      "provenance": []
    },
    "accelerator": "GPU",
    "gpuClass": "standard"
  },
  "nbformat": 4,
  "nbformat_minor": 0
}