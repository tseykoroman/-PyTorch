{
  "cells": [
    {
      "cell_type": "markdown",
      "metadata": {
        "id": "MkJ7emsMxaYF"
      },
      "source": [
        "# Домашнее задание\n",
        "\n",
        "1. Добиться хорошего результата от модели, собранной на занятии (5 угаданныx картинок из 8 предложенных). Варианты изменений:\n",
        "- изменение слоёв и их количества;\n",
        "- изменение метода оптимизации;\n",
        "- изменение процесса обучения;\n",
        "- *преобразование данных transform\n",
        "\n",
        "2. *Переписать данный туториал на PyTorch: https://www.tensorflow.org/tutorials/quickstart/beginner?hl=ru"
      ]
    },
    {
      "cell_type": "markdown",
      "source": [
        "Напишим небольшую полносвязную сеть на торче."
      ],
      "metadata": {
        "id": "Rg5iDYoFvmNu"
      }
    },
    {
      "cell_type": "code",
      "execution_count": 2,
      "metadata": {
        "id": "YVb6A-bvtZ2P"
      },
      "outputs": [],
      "source": [
        "import torch\n",
        "import numpy as np\n",
        "import torch.nn.functional as F\n",
        "from torch import nn\n",
        "import torchvision"
      ]
    },
    {
      "cell_type": "markdown",
      "metadata": {
        "id": "4imK6lCNtZ2f"
      },
      "source": [
        "# Посмотрим на более сложную архитектуру"
      ]
    },
    {
      "cell_type": "code",
      "execution_count": 3,
      "metadata": {
        "id": "5JTEgh3BtZ2r"
      },
      "outputs": [],
      "source": [
        "import matplotlib.pyplot as plt\n",
        "\n",
        "# %pylab inline"
      ]
    },
    {
      "cell_type": "code",
      "execution_count": 4,
      "metadata": {
        "id": "Gp3vmbx3tZ2z"
      },
      "outputs": [],
      "source": [
        "from torch import optim"
      ]
    },
    {
      "cell_type": "code",
      "execution_count": 5,
      "metadata": {
        "id": "NzHXA9Q_tZ20"
      },
      "outputs": [],
      "source": [
        "import torchvision.transforms as transforms"
      ]
    },
    {
      "cell_type": "code",
      "execution_count": 6,
      "metadata": {
        "colab": {
          "base_uri": "https://localhost:8080/",
          "height": 122,
          "referenced_widgets": [
            "8c15dd2ba39f4bc28c257fe5e587c974",
            "7d428019814a4bfc96f39417b03daa93",
            "ef7f33119669471a9a4590dff12aee78",
            "2b6a53cd2be14103aae210593820d458",
            "442d195cfed4468390b2e52cbed534d3",
            "aee18f038e564d81859eb895e8896abf",
            "25e5b5ba85ae45feaa4d9103231a6f60",
            "2b5bf3cd5d9044de8f3f07c4f46dd97f",
            "ca215cc1d87340f1a9e83c12539c371d",
            "d44f9abf90c3490aafed37f5eae6199a",
            "028df7999bea4265be427bdf303884b4"
          ]
        },
        "id": "1ABe6EY5tZ20",
        "outputId": "30587f78-8988-4db3-bf99-77ec9318e236"
      },
      "outputs": [
        {
          "output_type": "stream",
          "name": "stdout",
          "text": [
            "Downloading https://www.cs.toronto.edu/~kriz/cifar-10-python.tar.gz to data/cifar-10-python.tar.gz\n"
          ]
        },
        {
          "output_type": "display_data",
          "data": {
            "text/plain": [
              "  0%|          | 0/170498071 [00:00<?, ?it/s]"
            ],
            "application/vnd.jupyter.widget-view+json": {
              "version_major": 2,
              "version_minor": 0,
              "model_id": "8c15dd2ba39f4bc28c257fe5e587c974"
            }
          },
          "metadata": {}
        },
        {
          "output_type": "stream",
          "name": "stdout",
          "text": [
            "Extracting data/cifar-10-python.tar.gz to data/\n",
            "torch.Size([3, 32, 32])\n",
            "6\n"
          ]
        }
      ],
      "source": [
        "train_dataset = torchvision.datasets.CIFAR10(root='data/',\n",
        "                                             train=True,  \n",
        "                                             transform=transforms.ToTensor(), \n",
        "                                             download=True)\n",
        "\n",
        "\n",
        "image, label = train_dataset[0]\n",
        "print(image.size())\n",
        "print(label)"
      ]
    },
    {
      "cell_type": "code",
      "source": [
        "image.permute(1, 2, 0).shape"
      ],
      "metadata": {
        "colab": {
          "base_uri": "https://localhost:8080/"
        },
        "id": "wgkIcZL6FQWk",
        "outputId": "e8459618-2451-49c5-96e8-ca50731d1f3d"
      },
      "execution_count": 242,
      "outputs": [
        {
          "output_type": "execute_result",
          "data": {
            "text/plain": [
              "torch.Size([32, 32, 3])"
            ]
          },
          "metadata": {},
          "execution_count": 242
        }
      ]
    },
    {
      "cell_type": "code",
      "execution_count": 243,
      "metadata": {
        "colab": {
          "base_uri": "https://localhost:8080/",
          "height": 266
        },
        "id": "gk9lX8VdtZ21",
        "outputId": "6ad2a342-182f-4c61-d077-d65e9d8ca23e"
      },
      "outputs": [
        {
          "output_type": "display_data",
          "data": {
            "text/plain": [
              "<Figure size 432x288 with 1 Axes>"
            ],
            "image/png": "[encoded data removed]"
          },
          "metadata": {
            "needs_background": "light"
          }
        }
      ],
      "source": [
        "plt.imshow(image.permute(1, 2, 0).numpy());"
      ]
    },
    {
      "cell_type": "code",
      "execution_count": 7,
      "metadata": {
        "id": "dzocRyIKtZ22"
      },
      "outputs": [],
      "source": [
        "train_loader = torch.utils.data.DataLoader(dataset=train_dataset,\n",
        "                                           batch_size=64, \n",
        "                                           shuffle=True)"
      ]
    },
    {
      "cell_type": "code",
      "execution_count": 8,
      "metadata": {
        "colab": {
          "base_uri": "https://localhost:8080/"
        },
        "id": "K1XeQ1aPtZ23",
        "outputId": "1bdca16e-b0f8-48bd-e099-1dc1038d22d7"
      },
      "outputs": [
        {
          "output_type": "stream",
          "name": "stdout",
          "text": [
            "Files already downloaded and verified\n"
          ]
        }
      ],
      "source": [
        "test_dataset = torchvision.datasets.CIFAR10(root='./data', train=False,\n",
        "                                            download=True, transform=transforms.ToTensor())\n",
        "test_loader = torch.utils.data.DataLoader(test_dataset, batch_size=8,\n",
        "                                          shuffle=False)"
      ]
    },
    {
      "cell_type": "code",
      "execution_count": 9,
      "metadata": {
        "id": "oFYrzU1NtZ24"
      },
      "outputs": [],
      "source": [
        "classes = ('plane', 'car', 'bird', 'cat',\n",
        "           'deer', 'dog', 'frog', 'horse', 'ship', 'truck')"
      ]
    },
    {
      "cell_type": "code",
      "source": [
        "import torch.nn.functional as F\n",
        "\n",
        "device = torch.device('cuda:0' if torch.cuda.is_available() else 'cpu')"
      ],
      "metadata": {
        "id": "QEO55PInDf3i"
      },
      "execution_count": 11,
      "outputs": []
    },
    {
      "cell_type": "code",
      "execution_count": 248,
      "metadata": {
        "id": "8wS-xS37tZ26",
        "colab": {
          "base_uri": "https://localhost:8080/"
        },
        "outputId": "7ad806e5-cb85-42a5-f505-8ad23358bc57"
      },
      "outputs": [
        {
          "output_type": "execute_result",
          "data": {
            "text/plain": [
              "Net(\n",
              "  (fc1): Linear(in_features=3072, out_features=400, bias=True)\n",
              "  (fc2): Linear(in_features=400, out_features=200, bias=True)\n",
              "  (fc3): Linear(in_features=200, out_features=100, bias=True)\n",
              "  (fc4): Linear(in_features=100, out_features=10, bias=True)\n",
              ")"
            ]
          },
          "metadata": {},
          "execution_count": 248
        }
      ],
      "source": [
        "class Net(nn.Module):\n",
        "    def __init__(self, input_dim, hidden_dim, output_dim):\n",
        "        super().__init__()\n",
        "        self.fc1 = nn.Linear(input_dim, 4 * hidden_dim)\n",
        "        self.fc2 = nn.Linear(4 * hidden_dim, 2 * hidden_dim)\n",
        "        self.fc3 = nn.Linear(2 * hidden_dim, hidden_dim)\n",
        "        self.fc4 = nn.Linear(hidden_dim, output_dim)\n",
        "\n",
        "    def forward(self, x):\n",
        "        x = x.view(x.shape[0], -1)\n",
        "        x = self.fc1(x)\n",
        "        x = F.leaky_relu(x)\n",
        "        x = self.fc2(x)\n",
        "        x = F.leaky_relu(x)\n",
        "        x = self.fc3(x)\n",
        "        x = F.leaky_relu(x)\n",
        "        x = self.fc4(x)\n",
        "        return x\n",
        "    \n",
        "    def predict(self, x):\n",
        "        x = x.view(x.shape[0], -1)\n",
        "        x = self.fc1(x)\n",
        "        x = F.leaky_relu(x)\n",
        "        x = self.fc2(x)\n",
        "        x = F.leaky_relu(x)\n",
        "        x = self.fc3(x)\n",
        "        x = F.leaky_relu(x)\n",
        "        x = self.fc4(x)\n",
        "        x = F.softmax(x)\n",
        "        return x\n",
        "\n",
        "\n",
        "net = Net(3072, 100, 10)\n",
        "net.to(device)\n",
        "net.train()"
      ]
    },
    {
      "cell_type": "markdown",
      "source": [
        "**Считаем при 5 эпохах и методе оптимизации SGD**"
      ],
      "metadata": {
        "id": "dVVfff5UBn5F"
      }
    },
    {
      "cell_type": "code",
      "execution_count": 249,
      "metadata": {
        "id": "cps8zpkctZ26"
      },
      "outputs": [],
      "source": [
        "criterion = nn.CrossEntropyLoss()\n",
        "optimizer = optim.SGD(net.parameters(), lr=0.01, momentum=0.0)"
      ]
    },
    {
      "cell_type": "code",
      "execution_count": 250,
      "metadata": {
        "colab": {
          "base_uri": "https://localhost:8080/"
        },
        "id": "5fKNYUqetZ27",
        "outputId": "1e50d032-93fb-4b80-e13d-a341f390ae84"
      },
      "outputs": [
        {
          "output_type": "stream",
          "name": "stdout",
          "text": [
            "Epoch [1/5]. Step [1/782]. Loss: 0.036\n",
            "Epoch [1/5]. Step [301/782]. Loss: 0.036\n",
            "Epoch [1/5]. Step [601/782]. Loss: 0.035\n",
            "Epoch [2/5]. Step [1/782]. Loss: 0.032\n",
            "Epoch [2/5]. Step [301/782]. Loss: 0.032\n",
            "Epoch [2/5]. Step [601/782]. Loss: 0.031\n",
            "Epoch [3/5]. Step [1/782]. Loss: 0.031\n",
            "Epoch [3/5]. Step [301/782]. Loss: 0.030\n",
            "Epoch [3/5]. Step [601/782]. Loss: 0.030\n",
            "Epoch [4/5]. Step [1/782]. Loss: 0.030\n",
            "Epoch [4/5]. Step [301/782]. Loss: 0.029\n",
            "Epoch [4/5]. Step [601/782]. Loss: 0.029\n",
            "Epoch [5/5]. Step [1/782]. Loss: 0.027\n",
            "Epoch [5/5]. Step [301/782]. Loss: 0.028\n",
            "Epoch [5/5]. Step [601/782]. Loss: 0.028\n",
            "Training is finished!\n"
          ]
        }
      ],
      "source": [
        "num_epochs = 5\n",
        "losses = []\n",
        "for epoch in range(num_epochs):\n",
        "    running_loss = 0.0\n",
        "    running_items = 0.0\n",
        "\n",
        "\n",
        "    for i, data in enumerate(train_loader):\n",
        "        # inputs, labels = data[0], data[1]\n",
        "        inputs, labels = data[0].to(device), data[1].to(device)\n",
        "\n",
        "\n",
        "        # Обнуляем градиент\n",
        "        optimizer.zero_grad()\n",
        "        # Делаем предсказание\n",
        "        outputs = net(inputs)\n",
        "        # Рассчитываем лосс-функцию\n",
        "        loss = criterion(outputs, labels)\n",
        "        # Делаем шаг назад по лоссу\n",
        "        loss.backward()\n",
        "        # Делаем шаг нашего оптимайзера\n",
        "        optimizer.step()\n",
        "\n",
        "        # выводим статистику о процессе обучения\n",
        "        running_loss += loss.item()\n",
        "        running_items += len(labels)\n",
        "        if (i + 1) == (len(train_loader)):\n",
        "            losses.append(running_loss / running_items)\n",
        "        if i % 300 == 0:    # печатаем каждые 300 mini-batches\n",
        "            print(f'Epoch [{epoch + 1}/{num_epochs}]. ' \\\n",
        "                  f'Step [{i + 1}/{len(train_loader)}]. ' \\\n",
        "                  f'Loss: {running_loss / running_items:.3f}')            \n",
        "            running_loss, running_items = 0.0, 0.0  \n",
        "\n",
        "print('Training is finished!')"
      ]
    },
    {
      "cell_type": "code",
      "source": [
        "plt.plot(losses)\n",
        "plt.show()\n"
      ],
      "metadata": {
        "colab": {
          "base_uri": "https://localhost:8080/",
          "height": 265
        },
        "id": "HNdB6VPN934B",
        "outputId": "d95f760f-4402-4c78-bca6-edcbd0ca1828"
      },
      "execution_count": 251,
      "outputs": [
        {
          "output_type": "display_data",
          "data": {
            "text/plain": [
              "<Figure size 432x288 with 1 Axes>"
            ],
            "image/png": "[encoded data removed]"
          },
          "metadata": {
            "needs_background": "light"
          }
        }
      ]
    },
    {
      "cell_type": "code",
      "metadata": {
        "id": "bnItAZIgAhht"
      },
      "source": [
        "data_iter = iter(test_loader)\n",
        "images, labels = next(data_iter)"
      ],
      "execution_count": 252,
      "outputs": []
    },
    {
      "cell_type": "code",
      "metadata": {
        "id": "xaZVP7lWAhhu",
        "colab": {
          "base_uri": "https://localhost:8080/",
          "height": 142
        },
        "outputId": "23414490-fa0a-4179-dad1-7cc1ebdacc85"
      },
      "source": [
        "net.eval()\n",
        "images = images.to(device)\n",
        "outputs = net(images)\n",
        "imgs = torchvision.utils.make_grid(images)\n",
        "plt.figure(figsize=(10, 5))\n",
        "plt.imshow(imgs.permute(1, 2, 0).cpu().numpy())\n",
        "print('GroundTruth: ', ' '.join(classes[labels[j]] for j in range(len(labels))))"
      ],
      "execution_count": 253,
      "outputs": [
        {
          "output_type": "stream",
          "name": "stdout",
          "text": [
            "GroundTruth:  cat ship ship plane frog frog car frog\n"
          ]
        },
        {
          "output_type": "display_data",
          "data": {
            "text/plain": [
              "<Figure size 720x360 with 1 Axes>"
            ],
            "image/png": "[encoded data removed]"
          },
          "metadata": {
            "needs_background": "light"
          }
        }
      ]
    },
    {
      "cell_type": "code",
      "metadata": {
        "id": "oxPcScN3ROv2",
        "colab": {
          "base_uri": "https://localhost:8080/"
        },
        "outputId": "94667ea2-9a89-47c1-9fc2-d56f9f8e1724"
      },
      "source": [
        "_, predicted = torch.max(outputs, 1)\n",
        "gt = np.array([classes[labels[j]] for j in range(len(labels))])\n",
        "pred = np.array([classes[predicted[j]] for j in range(len(labels))])\n",
        "\n",
        "print(gt)\n",
        "print(pred)\n",
        "print(f'Accuracy is {(gt == pred).sum() / len(gt)}')"
      ],
      "execution_count": 254,
      "outputs": [
        {
          "output_type": "stream",
          "name": "stdout",
          "text": [
            "['cat' 'ship' 'ship' 'plane' 'frog' 'frog' 'car' 'frog']\n",
            "['dog' 'car' 'ship' 'ship' 'frog' 'frog' 'dog' 'deer']\n",
            "Accuracy is 0.375\n"
          ]
        }
      ]
    },
    {
      "cell_type": "markdown",
      "source": [
        "**Считаем при 30 эпохах и методе оптимизации SGD**"
      ],
      "metadata": {
        "id": "8IOWS5bhCgZx"
      }
    },
    {
      "cell_type": "code",
      "source": [
        "net = Net(3072, 100, 10)\n",
        "net.to(device)\n",
        "net.train()"
      ],
      "metadata": {
        "colab": {
          "base_uri": "https://localhost:8080/"
        },
        "id": "V-HDMGbfCuZ2",
        "outputId": "63348e23-98fd-4969-bcb3-b7c2771778ed"
      },
      "execution_count": 255,
      "outputs": [
        {
          "output_type": "execute_result",
          "data": {
            "text/plain": [
              "Net(\n",
              "  (fc1): Linear(in_features=3072, out_features=400, bias=True)\n",
              "  (fc2): Linear(in_features=400, out_features=200, bias=True)\n",
              "  (fc3): Linear(in_features=200, out_features=100, bias=True)\n",
              "  (fc4): Linear(in_features=100, out_features=10, bias=True)\n",
              ")"
            ]
          },
          "metadata": {},
          "execution_count": 255
        }
      ]
    },
    {
      "cell_type": "code",
      "execution_count": 256,
      "metadata": {
        "id": "HkLLEHAaCgZ2"
      },
      "outputs": [],
      "source": [
        "criterion = nn.CrossEntropyLoss()\n",
        "optimizer = optim.SGD(net.parameters(), lr=0.01, momentum=0.0)"
      ]
    },
    {
      "cell_type": "code",
      "execution_count": 257,
      "metadata": {
        "colab": {
          "base_uri": "https://localhost:8080/"
        },
        "outputId": "e833848a-e0a9-41b1-edaa-8ad58027cb9b",
        "id": "NIm8n2_ICgZ3"
      },
      "outputs": [
        {
          "output_type": "stream",
          "name": "stdout",
          "text": [
            "Epoch [1/30]. Step [1/782]. Loss: 0.036\n",
            "Epoch [1/30]. Step [301/782]. Loss: 0.036\n",
            "Epoch [1/30]. Step [601/782]. Loss: 0.035\n",
            "Epoch [2/30]. Step [1/782]. Loss: 0.033\n",
            "Epoch [2/30]. Step [301/782]. Loss: 0.032\n",
            "Epoch [2/30]. Step [601/782]. Loss: 0.031\n",
            "Epoch [3/30]. Step [1/782]. Loss: 0.032\n",
            "Epoch [3/30]. Step [301/782]. Loss: 0.030\n",
            "Epoch [3/30]. Step [601/782]. Loss: 0.030\n",
            "Epoch [4/30]. Step [1/782]. Loss: 0.030\n",
            "Epoch [4/30]. Step [301/782]. Loss: 0.029\n",
            "Epoch [4/30]. Step [601/782]. Loss: 0.029\n",
            "Epoch [5/30]. Step [1/782]. Loss: 0.028\n",
            "Epoch [5/30]. Step [301/782]. Loss: 0.028\n",
            "Epoch [5/30]. Step [601/782]. Loss: 0.028\n",
            "Epoch [6/30]. Step [1/782]. Loss: 0.028\n",
            "Epoch [6/30]. Step [301/782]. Loss: 0.027\n",
            "Epoch [6/30]. Step [601/782]. Loss: 0.027\n",
            "Epoch [7/30]. Step [1/782]. Loss: 0.030\n",
            "Epoch [7/30]. Step [301/782]. Loss: 0.026\n",
            "Epoch [7/30]. Step [601/782]. Loss: 0.026\n",
            "Epoch [8/30]. Step [1/782]. Loss: 0.025\n",
            "Epoch [8/30]. Step [301/782]. Loss: 0.026\n",
            "Epoch [8/30]. Step [601/782]. Loss: 0.026\n",
            "Epoch [9/30]. Step [1/782]. Loss: 0.025\n",
            "Epoch [9/30]. Step [301/782]. Loss: 0.025\n",
            "Epoch [9/30]. Step [601/782]. Loss: 0.025\n",
            "Epoch [10/30]. Step [1/782]. Loss: 0.029\n",
            "Epoch [10/30]. Step [301/782]. Loss: 0.025\n",
            "Epoch [10/30]. Step [601/782]. Loss: 0.025\n",
            "Epoch [11/30]. Step [1/782]. Loss: 0.025\n",
            "Epoch [11/30]. Step [301/782]. Loss: 0.024\n",
            "Epoch [11/30]. Step [601/782]. Loss: 0.024\n",
            "Epoch [12/30]. Step [1/782]. Loss: 0.025\n",
            "Epoch [12/30]. Step [301/782]. Loss: 0.024\n",
            "Epoch [12/30]. Step [601/782]. Loss: 0.024\n",
            "Epoch [13/30]. Step [1/782]. Loss: 0.025\n",
            "Epoch [13/30]. Step [301/782]. Loss: 0.024\n",
            "Epoch [13/30]. Step [601/782]. Loss: 0.023\n",
            "Epoch [14/30]. Step [1/782]. Loss: 0.026\n",
            "Epoch [14/30]. Step [301/782]. Loss: 0.023\n",
            "Epoch [14/30]. Step [601/782]. Loss: 0.023\n",
            "Epoch [15/30]. Step [1/782]. Loss: 0.026\n",
            "Epoch [15/30]. Step [301/782]. Loss: 0.023\n",
            "Epoch [15/30]. Step [601/782]. Loss: 0.023\n",
            "Epoch [16/30]. Step [1/782]. Loss: 0.018\n",
            "Epoch [16/30]. Step [301/782]. Loss: 0.023\n",
            "Epoch [16/30]. Step [601/782]. Loss: 0.023\n",
            "Epoch [17/30]. Step [1/782]. Loss: 0.025\n",
            "Epoch [17/30]. Step [301/782]. Loss: 0.022\n",
            "Epoch [17/30]. Step [601/782]. Loss: 0.022\n",
            "Epoch [18/30]. Step [1/782]. Loss: 0.022\n",
            "Epoch [18/30]. Step [301/782]. Loss: 0.022\n",
            "Epoch [18/30]. Step [601/782]. Loss: 0.022\n",
            "Epoch [19/30]. Step [1/782]. Loss: 0.023\n",
            "Epoch [19/30]. Step [301/782]. Loss: 0.022\n",
            "Epoch [19/30]. Step [601/782]. Loss: 0.022\n",
            "Epoch [20/30]. Step [1/782]. Loss: 0.025\n",
            "Epoch [20/30]. Step [301/782]. Loss: 0.022\n",
            "Epoch [20/30]. Step [601/782]. Loss: 0.021\n",
            "Epoch [21/30]. Step [1/782]. Loss: 0.021\n",
            "Epoch [21/30]. Step [301/782]. Loss: 0.021\n",
            "Epoch [21/30]. Step [601/782]. Loss: 0.021\n",
            "Epoch [22/30]. Step [1/782]. Loss: 0.024\n",
            "Epoch [22/30]. Step [301/782]. Loss: 0.021\n",
            "Epoch [22/30]. Step [601/782]. Loss: 0.021\n",
            "Epoch [23/30]. Step [1/782]. Loss: 0.023\n",
            "Epoch [23/30]. Step [301/782]. Loss: 0.021\n",
            "Epoch [23/30]. Step [601/782]. Loss: 0.021\n",
            "Epoch [24/30]. Step [1/782]. Loss: 0.025\n",
            "Epoch [24/30]. Step [301/782]. Loss: 0.020\n",
            "Epoch [24/30]. Step [601/782]. Loss: 0.020\n",
            "Epoch [25/30]. Step [1/782]. Loss: 0.021\n",
            "Epoch [25/30]. Step [301/782]. Loss: 0.020\n",
            "Epoch [25/30]. Step [601/782]. Loss: 0.020\n",
            "Epoch [26/30]. Step [1/782]. Loss: 0.029\n",
            "Epoch [26/30]. Step [301/782]. Loss: 0.020\n",
            "Epoch [26/30]. Step [601/782]. Loss: 0.020\n",
            "Epoch [27/30]. Step [1/782]. Loss: 0.018\n",
            "Epoch [27/30]. Step [301/782]. Loss: 0.020\n",
            "Epoch [27/30]. Step [601/782]. Loss: 0.020\n",
            "Epoch [28/30]. Step [1/782]. Loss: 0.021\n",
            "Epoch [28/30]. Step [301/782]. Loss: 0.019\n",
            "Epoch [28/30]. Step [601/782]. Loss: 0.020\n",
            "Epoch [29/30]. Step [1/782]. Loss: 0.023\n",
            "Epoch [29/30]. Step [301/782]. Loss: 0.019\n",
            "Epoch [29/30]. Step [601/782]. Loss: 0.019\n",
            "Epoch [30/30]. Step [1/782]. Loss: 0.022\n",
            "Epoch [30/30]. Step [301/782]. Loss: 0.019\n",
            "Epoch [30/30]. Step [601/782]. Loss: 0.019\n",
            "Training is finished!\n"
          ]
        }
      ],
      "source": [
        "num_epochs = 30\n",
        "losses = []\n",
        "for epoch in range(num_epochs):\n",
        "    running_loss = 0.0\n",
        "    running_items = 0.0\n",
        "\n",
        "\n",
        "    for i, data in enumerate(train_loader):\n",
        "        # inputs, labels = data[0], data[1]\n",
        "        inputs, labels = data[0].to(device), data[1].to(device)\n",
        "\n",
        "\n",
        "        # Обнуляем градиент\n",
        "        optimizer.zero_grad()\n",
        "        # Делаем предсказание\n",
        "        outputs = net(inputs)\n",
        "        # Рассчитываем лосс-функцию\n",
        "        loss = criterion(outputs, labels)\n",
        "        # Делаем шаг назад по лоссу\n",
        "        loss.backward()\n",
        "        # Делаем шаг нашего оптимайзера\n",
        "        optimizer.step()\n",
        "\n",
        "        # выводим статистику о процессе обучения\n",
        "        running_loss += loss.item()\n",
        "        running_items += len(labels)\n",
        "        if (i + 1) == (len(train_loader)):\n",
        "            losses.append(running_loss / running_items)\n",
        "        if i % 300 == 0:    # печатаем каждые 300 mini-batches\n",
        "            print(f'Epoch [{epoch + 1}/{num_epochs}]. ' \\\n",
        "                  f'Step [{i + 1}/{len(train_loader)}]. ' \\\n",
        "                  f'Loss: {running_loss / running_items:.3f}')            \n",
        "            running_loss, running_items = 0.0, 0.0  \n",
        "\n",
        "print('Training is finished!')"
      ]
    },
    {
      "cell_type": "code",
      "source": [
        "plt.plot(losses)\n",
        "plt.show()\n"
      ],
      "metadata": {
        "outputId": "19b45db0-1cff-42a7-c6d9-4869a98fb9ec",
        "colab": {
          "base_uri": "https://localhost:8080/",
          "height": 265
        },
        "id": "g2ClMbwVCgZ3"
      },
      "execution_count": 258,
      "outputs": [
        {
          "output_type": "display_data",
          "data": {
            "text/plain": [
              "<Figure size 432x288 with 1 Axes>"
            ],
            "image/png": "[encoded data removed]"
          },
          "metadata": {
            "needs_background": "light"
          }
        }
      ]
    },
    {
      "cell_type": "code",
      "metadata": {
        "id": "p0qz4bC6CgZ3"
      },
      "source": [
        "data_iter = iter(test_loader)\n",
        "images, labels = next(data_iter)"
      ],
      "execution_count": 259,
      "outputs": []
    },
    {
      "cell_type": "code",
      "metadata": {
        "colab": {
          "base_uri": "https://localhost:8080/",
          "height": 142
        },
        "outputId": "a5f1d669-9b35-45db-ce17-e2b679bbc071",
        "id": "wkx5-9-BCgZ3"
      },
      "source": [
        "net.eval()\n",
        "images = images.to(device)\n",
        "outputs = net(images)\n",
        "imgs = torchvision.utils.make_grid(images)\n",
        "plt.figure(figsize=(10, 5))\n",
        "plt.imshow(imgs.permute(1, 2, 0).cpu().numpy())\n",
        "print('GroundTruth: ', ' '.join(classes[labels[j]] for j in range(len(labels))))"
      ],
      "execution_count": 260,
      "outputs": [
        {
          "output_type": "stream",
          "name": "stdout",
          "text": [
            "GroundTruth:  cat ship ship plane frog frog car frog\n"
          ]
        },
        {
          "output_type": "display_data",
          "data": {
            "text/plain": [
              "<Figure size 720x360 with 1 Axes>"
            ],
            "image/png": "[encoded data removed]"
          },
          "metadata": {
            "needs_background": "light"
          }
        }
      ]
    },
    {
      "cell_type": "code",
      "metadata": {
        "colab": {
          "base_uri": "https://localhost:8080/"
        },
        "outputId": "32e1d79a-3274-423c-ebf9-45bb30789b77",
        "id": "Qm9HQT7pCgZ3"
      },
      "source": [
        "_, predicted = torch.max(outputs, 1)\n",
        "gt = np.array([classes[labels[j]] for j in range(len(labels))])\n",
        "pred = np.array([classes[predicted[j]] for j in range(len(labels))])\n",
        "\n",
        "print(gt)\n",
        "print(pred)\n",
        "print(f'Accuracy is {(gt == pred).sum() / len(gt)}')"
      ],
      "execution_count": 261,
      "outputs": [
        {
          "output_type": "stream",
          "name": "stdout",
          "text": [
            "['cat' 'ship' 'ship' 'plane' 'frog' 'frog' 'car' 'frog']\n",
            "['cat' 'car' 'car' 'car' 'frog' 'frog' 'car' 'frog']\n",
            "Accuracy is 0.625\n"
          ]
        }
      ]
    },
    {
      "cell_type": "markdown",
      "source": [
        "**Считаем при 30 эпохах и методе оптимизации ADAM**"
      ],
      "metadata": {
        "id": "BMPgvnUUC2MI"
      }
    },
    {
      "cell_type": "code",
      "source": [
        "net = Net(3072, 100, 10)\n",
        "net.to(device)\n",
        "net.train()"
      ],
      "metadata": {
        "colab": {
          "base_uri": "https://localhost:8080/"
        },
        "id": "dW0FDfA3C2MJ",
        "outputId": "b391506b-d5ae-43eb-fa4c-9837d00249d9"
      },
      "execution_count": 262,
      "outputs": [
        {
          "output_type": "execute_result",
          "data": {
            "text/plain": [
              "Net(\n",
              "  (fc1): Linear(in_features=3072, out_features=400, bias=True)\n",
              "  (fc2): Linear(in_features=400, out_features=200, bias=True)\n",
              "  (fc3): Linear(in_features=200, out_features=100, bias=True)\n",
              "  (fc4): Linear(in_features=100, out_features=10, bias=True)\n",
              ")"
            ]
          },
          "metadata": {},
          "execution_count": 262
        }
      ]
    },
    {
      "cell_type": "code",
      "execution_count": 263,
      "metadata": {
        "id": "uJDLLvkEC2MJ"
      },
      "outputs": [],
      "source": [
        "criterion = nn.CrossEntropyLoss()\n",
        "optimizer = optim.Adam(net.parameters())"
      ]
    },
    {
      "cell_type": "code",
      "execution_count": 264,
      "metadata": {
        "colab": {
          "base_uri": "https://localhost:8080/"
        },
        "outputId": "d12140b1-ef2d-40e3-b899-dd1da3f2dfd3",
        "id": "QAxs83dJC2MJ"
      },
      "outputs": [
        {
          "output_type": "stream",
          "name": "stdout",
          "text": [
            "Epoch [1/30]. Step [1/782]. Loss: 0.036\n",
            "Epoch [1/30]. Step [301/782]. Loss: 0.031\n",
            "Epoch [1/30]. Step [601/782]. Loss: 0.028\n",
            "Epoch [2/30]. Step [1/782]. Loss: 0.028\n",
            "Epoch [2/30]. Step [301/782]. Loss: 0.027\n",
            "Epoch [2/30]. Step [601/782]. Loss: 0.026\n",
            "Epoch [3/30]. Step [1/782]. Loss: 0.022\n",
            "Epoch [3/30]. Step [301/782]. Loss: 0.025\n",
            "Epoch [3/30]. Step [601/782]. Loss: 0.025\n",
            "Epoch [4/30]. Step [1/782]. Loss: 0.024\n",
            "Epoch [4/30]. Step [301/782]. Loss: 0.024\n",
            "Epoch [4/30]. Step [601/782]. Loss: 0.024\n",
            "Epoch [5/30]. Step [1/782]. Loss: 0.024\n",
            "Epoch [5/30]. Step [301/782]. Loss: 0.023\n",
            "Epoch [5/30]. Step [601/782]. Loss: 0.023\n",
            "Epoch [6/30]. Step [1/782]. Loss: 0.021\n",
            "Epoch [6/30]. Step [301/782]. Loss: 0.023\n",
            "Epoch [6/30]. Step [601/782]. Loss: 0.023\n",
            "Epoch [7/30]. Step [1/782]. Loss: 0.022\n",
            "Epoch [7/30]. Step [301/782]. Loss: 0.022\n",
            "Epoch [7/30]. Step [601/782]. Loss: 0.022\n",
            "Epoch [8/30]. Step [1/782]. Loss: 0.019\n",
            "Epoch [8/30]. Step [301/782]. Loss: 0.022\n",
            "Epoch [8/30]. Step [601/782]. Loss: 0.022\n",
            "Epoch [9/30]. Step [1/782]. Loss: 0.021\n",
            "Epoch [9/30]. Step [301/782]. Loss: 0.021\n",
            "Epoch [9/30]. Step [601/782]. Loss: 0.021\n",
            "Epoch [10/30]. Step [1/782]. Loss: 0.019\n",
            "Epoch [10/30]. Step [301/782]. Loss: 0.021\n",
            "Epoch [10/30]. Step [601/782]. Loss: 0.021\n",
            "Epoch [11/30]. Step [1/782]. Loss: 0.023\n",
            "Epoch [11/30]. Step [301/782]. Loss: 0.020\n",
            "Epoch [11/30]. Step [601/782]. Loss: 0.020\n",
            "Epoch [12/30]. Step [1/782]. Loss: 0.021\n",
            "Epoch [12/30]. Step [301/782]. Loss: 0.020\n",
            "Epoch [12/30]. Step [601/782]. Loss: 0.020\n",
            "Epoch [13/30]. Step [1/782]. Loss: 0.022\n",
            "Epoch [13/30]. Step [301/782]. Loss: 0.020\n",
            "Epoch [13/30]. Step [601/782]. Loss: 0.020\n",
            "Epoch [14/30]. Step [1/782]. Loss: 0.020\n",
            "Epoch [14/30]. Step [301/782]. Loss: 0.019\n",
            "Epoch [14/30]. Step [601/782]. Loss: 0.019\n",
            "Epoch [15/30]. Step [1/782]. Loss: 0.019\n",
            "Epoch [15/30]. Step [301/782]. Loss: 0.019\n",
            "Epoch [15/30]. Step [601/782]. Loss: 0.019\n",
            "Epoch [16/30]. Step [1/782]. Loss: 0.018\n",
            "Epoch [16/30]. Step [301/782]. Loss: 0.018\n",
            "Epoch [16/30]. Step [601/782]. Loss: 0.019\n",
            "Epoch [17/30]. Step [1/782]. Loss: 0.015\n",
            "Epoch [17/30]. Step [301/782]. Loss: 0.018\n",
            "Epoch [17/30]. Step [601/782]. Loss: 0.018\n",
            "Epoch [18/30]. Step [1/782]. Loss: 0.014\n",
            "Epoch [18/30]. Step [301/782]. Loss: 0.018\n",
            "Epoch [18/30]. Step [601/782]. Loss: 0.018\n",
            "Epoch [19/30]. Step [1/782]. Loss: 0.019\n",
            "Epoch [19/30]. Step [301/782]. Loss: 0.017\n",
            "Epoch [19/30]. Step [601/782]. Loss: 0.018\n",
            "Epoch [20/30]. Step [1/782]. Loss: 0.019\n",
            "Epoch [20/30]. Step [301/782]. Loss: 0.017\n",
            "Epoch [20/30]. Step [601/782]. Loss: 0.017\n",
            "Epoch [21/30]. Step [1/782]. Loss: 0.019\n",
            "Epoch [21/30]. Step [301/782]. Loss: 0.017\n",
            "Epoch [21/30]. Step [601/782]. Loss: 0.017\n",
            "Epoch [22/30]. Step [1/782]. Loss: 0.017\n",
            "Epoch [22/30]. Step [301/782]. Loss: 0.017\n",
            "Epoch [22/30]. Step [601/782]. Loss: 0.017\n",
            "Epoch [23/30]. Step [1/782]. Loss: 0.015\n",
            "Epoch [23/30]. Step [301/782]. Loss: 0.016\n",
            "Epoch [23/30]. Step [601/782]. Loss: 0.016\n",
            "Epoch [24/30]. Step [1/782]. Loss: 0.013\n",
            "Epoch [24/30]. Step [301/782]. Loss: 0.016\n",
            "Epoch [24/30]. Step [601/782]. Loss: 0.016\n",
            "Epoch [25/30]. Step [1/782]. Loss: 0.016\n",
            "Epoch [25/30]. Step [301/782]. Loss: 0.016\n",
            "Epoch [25/30]. Step [601/782]. Loss: 0.016\n",
            "Epoch [26/30]. Step [1/782]. Loss: 0.018\n",
            "Epoch [26/30]. Step [301/782]. Loss: 0.016\n",
            "Epoch [26/30]. Step [601/782]. Loss: 0.016\n",
            "Epoch [27/30]. Step [1/782]. Loss: 0.017\n",
            "Epoch [27/30]. Step [301/782]. Loss: 0.015\n",
            "Epoch [27/30]. Step [601/782]. Loss: 0.015\n",
            "Epoch [28/30]. Step [1/782]. Loss: 0.013\n",
            "Epoch [28/30]. Step [301/782]. Loss: 0.015\n",
            "Epoch [28/30]. Step [601/782]. Loss: 0.015\n",
            "Epoch [29/30]. Step [1/782]. Loss: 0.015\n",
            "Epoch [29/30]. Step [301/782]. Loss: 0.014\n",
            "Epoch [29/30]. Step [601/782]. Loss: 0.015\n",
            "Epoch [30/30]. Step [1/782]. Loss: 0.012\n",
            "Epoch [30/30]. Step [301/782]. Loss: 0.014\n",
            "Epoch [30/30]. Step [601/782]. Loss: 0.015\n",
            "Training is finished!\n"
          ]
        }
      ],
      "source": [
        "num_epochs = 30\n",
        "losses = []\n",
        "for epoch in range(num_epochs):\n",
        "    running_loss = 0.0\n",
        "    running_items = 0.0\n",
        "\n",
        "\n",
        "    for i, data in enumerate(train_loader):\n",
        "        # inputs, labels = data[0], data[1]\n",
        "        inputs, labels = data[0].to(device), data[1].to(device)\n",
        "\n",
        "\n",
        "        # Обнуляем градиент\n",
        "        optimizer.zero_grad()\n",
        "        # Делаем предсказание\n",
        "        outputs = net(inputs)\n",
        "        # Рассчитываем лосс-функцию\n",
        "        loss = criterion(outputs, labels)\n",
        "        # Делаем шаг назад по лоссу\n",
        "        loss.backward()\n",
        "        # Делаем шаг нашего оптимайзера\n",
        "        optimizer.step()\n",
        "\n",
        "        # выводим статистику о процессе обучения\n",
        "        running_loss += loss.item()\n",
        "        running_items += len(labels)\n",
        "        if (i + 1) == (len(train_loader)):\n",
        "            losses.append(running_loss / running_items)\n",
        "        if i % 300 == 0:    # печатаем каждые 300 mini-batches\n",
        "            print(f'Epoch [{epoch + 1}/{num_epochs}]. ' \\\n",
        "                  f'Step [{i + 1}/{len(train_loader)}]. ' \\\n",
        "                  f'Loss: {running_loss / running_items:.3f}')            \n",
        "            running_loss, running_items = 0.0, 0.0  \n",
        "\n",
        "print('Training is finished!')"
      ]
    },
    {
      "cell_type": "code",
      "source": [
        "plt.plot(losses)\n",
        "plt.show()\n"
      ],
      "metadata": {
        "outputId": "f941a822-1ac6-48d5-b1cb-3e58c3f96a16",
        "colab": {
          "base_uri": "https://localhost:8080/",
          "height": 269
        },
        "id": "Py-jZ8d9C2MJ"
      },
      "execution_count": 265,
      "outputs": [
        {
          "output_type": "display_data",
          "data": {
            "text/plain": [
              "<Figure size 432x288 with 1 Axes>"
            ],
            "image/png": "[encoded data removed]"
          },
          "metadata": {
            "needs_background": "light"
          }
        }
      ]
    },
    {
      "cell_type": "code",
      "metadata": {
        "id": "Xp7f3x8xC2MJ"
      },
      "source": [
        "data_iter = iter(test_loader)\n",
        "images, labels = next(data_iter)"
      ],
      "execution_count": 266,
      "outputs": []
    },
    {
      "cell_type": "code",
      "metadata": {
        "colab": {
          "base_uri": "https://localhost:8080/",
          "height": 142
        },
        "outputId": "c9cdab9f-3888-4631-d696-9dc200ebe266",
        "id": "M3b8gYyBC2MJ"
      },
      "source": [
        "net.eval()\n",
        "images = images.to(device)\n",
        "outputs = net(images)\n",
        "imgs = torchvision.utils.make_grid(images)\n",
        "plt.figure(figsize=(10, 5))\n",
        "plt.imshow(imgs.permute(1, 2, 0).cpu().numpy())\n",
        "print('GroundTruth: ', ' '.join(classes[labels[j]] for j in range(len(labels))))"
      ],
      "execution_count": 267,
      "outputs": [
        {
          "output_type": "stream",
          "name": "stdout",
          "text": [
            "GroundTruth:  cat ship ship plane frog frog car frog\n"
          ]
        },
        {
          "output_type": "display_data",
          "data": {
            "text/plain": [
              "<Figure size 720x360 with 1 Axes>"
            ],
            "image/png": "[encoded data removed]"
          },
          "metadata": {
            "needs_background": "light"
          }
        }
      ]
    },
    {
      "cell_type": "code",
      "metadata": {
        "colab": {
          "base_uri": "https://localhost:8080/"
        },
        "outputId": "82442e04-ab73-4d55-b4f2-2b0a5d67a682",
        "id": "kRxTANbIC2MJ"
      },
      "source": [
        "_, predicted = torch.max(outputs, 1)\n",
        "gt = np.array([classes[labels[j]] for j in range(len(labels))])\n",
        "pred = np.array([classes[predicted[j]] for j in range(len(labels))])\n",
        "\n",
        "print(gt)\n",
        "print(pred)\n",
        "print(f'Accuracy is {(gt == pred).sum() / len(gt)}')"
      ],
      "execution_count": 268,
      "outputs": [
        {
          "output_type": "stream",
          "name": "stdout",
          "text": [
            "['cat' 'ship' 'ship' 'plane' 'frog' 'frog' 'car' 'frog']\n",
            "['cat' 'ship' 'car' 'plane' 'frog' 'frog' 'car' 'frog']\n",
            "Accuracy is 0.875\n"
          ]
        }
      ]
    },
    {
      "cell_type": "markdown",
      "source": [
        "**Строим другую модель, считаем при 30 эпохах и методе оптимизации SGD**"
      ],
      "metadata": {
        "id": "2ocTzXusDSzx"
      }
    },
    {
      "cell_type": "code",
      "source": [
        "class Net(nn.Module):\n",
        "    def __init__(self):\n",
        "        super(Net, self).__init__()\n",
        "        self.conv1 = nn.Conv2d(3, 6, 5)\n",
        "        self.pool = nn.MaxPool2d(2, 2)\n",
        "        self.conv2 = nn.Conv2d(6, 16, 5)\n",
        "        self.fc1 = nn.Linear(16 * 5 * 5, 120)\n",
        "        self.fc2 = nn.Linear(120, 84)\n",
        "        self.fc3 = nn.Linear(84, 10)\n",
        "\n",
        "    def forward(self, x):\n",
        "        x = self.pool(F.relu(self.conv1(x)))\n",
        "        x = self.pool(F.relu(self.conv2(x)))\n",
        "        x = x.view(-1, 16 * 5 * 5)\n",
        "        x = F.relu(self.fc1(x))\n",
        "        x = F.relu(self.fc2(x))\n",
        "        x = self.fc3(x)\n",
        "        return x\n"
      ],
      "metadata": {
        "id": "4fH-q5xVDZ_q"
      },
      "execution_count": 12,
      "outputs": []
    },
    {
      "cell_type": "code",
      "source": [
        "net = Net().to(device)\n",
        "net.train()"
      ],
      "metadata": {
        "colab": {
          "base_uri": "https://localhost:8080/"
        },
        "id": "WDmwKVdyDSzy",
        "outputId": "56b15970-3d18-4794-b74f-b74d4d91a320"
      },
      "execution_count": 13,
      "outputs": [
        {
          "output_type": "execute_result",
          "data": {
            "text/plain": [
              "Net(\n",
              "  (conv1): Conv2d(3, 6, kernel_size=(5, 5), stride=(1, 1))\n",
              "  (pool): MaxPool2d(kernel_size=2, stride=2, padding=0, dilation=1, ceil_mode=False)\n",
              "  (conv2): Conv2d(6, 16, kernel_size=(5, 5), stride=(1, 1))\n",
              "  (fc1): Linear(in_features=400, out_features=120, bias=True)\n",
              "  (fc2): Linear(in_features=120, out_features=84, bias=True)\n",
              "  (fc3): Linear(in_features=84, out_features=10, bias=True)\n",
              ")"
            ]
          },
          "metadata": {},
          "execution_count": 13
        }
      ]
    },
    {
      "cell_type": "code",
      "execution_count": 14,
      "metadata": {
        "id": "eSOJ8yPqDSzy"
      },
      "outputs": [],
      "source": [
        "criterion = nn.CrossEntropyLoss()\n",
        "optimizer = optim.SGD(net.parameters(), lr=0.01, momentum=0.0)"
      ]
    },
    {
      "cell_type": "code",
      "execution_count": 15,
      "metadata": {
        "colab": {
          "base_uri": "https://localhost:8080/"
        },
        "outputId": "9809fe1d-e74a-48ca-f2ab-4eadeeeeccf2",
        "id": "h3NujzuhDSzy"
      },
      "outputs": [
        {
          "output_type": "stream",
          "name": "stdout",
          "text": [
            "Epoch [1/30]. Step [1/782]. Loss: 0.036\n",
            "Epoch [1/30]. Step [301/782]. Loss: 0.036\n",
            "Epoch [1/30]. Step [601/782]. Loss: 0.036\n",
            "Epoch [2/30]. Step [1/782]. Loss: 0.036\n",
            "Epoch [2/30]. Step [301/782]. Loss: 0.036\n",
            "Epoch [2/30]. Step [601/782]. Loss: 0.036\n",
            "Epoch [3/30]. Step [1/782]. Loss: 0.036\n",
            "Epoch [3/30]. Step [301/782]. Loss: 0.036\n",
            "Epoch [3/30]. Step [601/782]. Loss: 0.036\n",
            "Epoch [4/30]. Step [1/782]. Loss: 0.035\n",
            "Epoch [4/30]. Step [301/782]. Loss: 0.033\n",
            "Epoch [4/30]. Step [601/782]. Loss: 0.032\n",
            "Epoch [5/30]. Step [1/782]. Loss: 0.032\n",
            "Epoch [5/30]. Step [301/782]. Loss: 0.031\n",
            "Epoch [5/30]. Step [601/782]. Loss: 0.030\n",
            "Epoch [6/30]. Step [1/782]. Loss: 0.032\n",
            "Epoch [6/30]. Step [301/782]. Loss: 0.029\n",
            "Epoch [6/30]. Step [601/782]. Loss: 0.029\n",
            "Epoch [7/30]. Step [1/782]. Loss: 0.028\n",
            "Epoch [7/30]. Step [301/782]. Loss: 0.028\n",
            "Epoch [7/30]. Step [601/782]. Loss: 0.027\n",
            "Epoch [8/30]. Step [1/782]. Loss: 0.028\n",
            "Epoch [8/30]. Step [301/782]. Loss: 0.026\n",
            "Epoch [8/30]. Step [601/782]. Loss: 0.025\n",
            "Epoch [9/30]. Step [1/782]. Loss: 0.022\n",
            "Epoch [9/30]. Step [301/782]. Loss: 0.025\n",
            "Epoch [9/30]. Step [601/782]. Loss: 0.024\n",
            "Epoch [10/30]. Step [1/782]. Loss: 0.030\n",
            "Epoch [10/30]. Step [301/782]. Loss: 0.024\n",
            "Epoch [10/30]. Step [601/782]. Loss: 0.023\n",
            "Epoch [11/30]. Step [1/782]. Loss: 0.027\n",
            "Epoch [11/30]. Step [301/782]. Loss: 0.023\n",
            "Epoch [11/30]. Step [601/782]. Loss: 0.023\n",
            "Epoch [12/30]. Step [1/782]. Loss: 0.025\n",
            "Epoch [12/30]. Step [301/782]. Loss: 0.023\n",
            "Epoch [12/30]. Step [601/782]. Loss: 0.022\n",
            "Epoch [13/30]. Step [1/782]. Loss: 0.022\n",
            "Epoch [13/30]. Step [301/782]. Loss: 0.022\n",
            "Epoch [13/30]. Step [601/782]. Loss: 0.022\n",
            "Epoch [14/30]. Step [1/782]. Loss: 0.025\n",
            "Epoch [14/30]. Step [301/782]. Loss: 0.022\n",
            "Epoch [14/30]. Step [601/782]. Loss: 0.021\n",
            "Epoch [15/30]. Step [1/782]. Loss: 0.022\n",
            "Epoch [15/30]. Step [301/782]. Loss: 0.021\n",
            "Epoch [15/30]. Step [601/782]. Loss: 0.021\n",
            "Epoch [16/30]. Step [1/782]. Loss: 0.023\n",
            "Epoch [16/30]. Step [301/782]. Loss: 0.021\n",
            "Epoch [16/30]. Step [601/782]. Loss: 0.021\n",
            "Epoch [17/30]. Step [1/782]. Loss: 0.020\n",
            "Epoch [17/30]. Step [301/782]. Loss: 0.020\n",
            "Epoch [17/30]. Step [601/782]. Loss: 0.020\n",
            "Epoch [18/30]. Step [1/782]. Loss: 0.023\n",
            "Epoch [18/30]. Step [301/782]. Loss: 0.020\n",
            "Epoch [18/30]. Step [601/782]. Loss: 0.020\n",
            "Epoch [19/30]. Step [1/782]. Loss: 0.016\n",
            "Epoch [19/30]. Step [301/782]. Loss: 0.020\n",
            "Epoch [19/30]. Step [601/782]. Loss: 0.020\n",
            "Epoch [20/30]. Step [1/782]. Loss: 0.021\n",
            "Epoch [20/30]. Step [301/782]. Loss: 0.020\n",
            "Epoch [20/30]. Step [601/782]. Loss: 0.019\n",
            "Epoch [21/30]. Step [1/782]. Loss: 0.021\n",
            "Epoch [21/30]. Step [301/782]. Loss: 0.019\n",
            "Epoch [21/30]. Step [601/782]. Loss: 0.019\n",
            "Epoch [22/30]. Step [1/782]. Loss: 0.020\n",
            "Epoch [22/30]. Step [301/782]. Loss: 0.019\n",
            "Epoch [22/30]. Step [601/782]. Loss: 0.019\n",
            "Epoch [23/30]. Step [1/782]. Loss: 0.020\n",
            "Epoch [23/30]. Step [301/782]. Loss: 0.018\n",
            "Epoch [23/30]. Step [601/782]. Loss: 0.019\n",
            "Epoch [24/30]. Step [1/782]. Loss: 0.018\n",
            "Epoch [24/30]. Step [301/782]. Loss: 0.018\n",
            "Epoch [24/30]. Step [601/782]. Loss: 0.018\n",
            "Epoch [25/30]. Step [1/782]. Loss: 0.016\n",
            "Epoch [25/30]. Step [301/782]. Loss: 0.018\n",
            "Epoch [25/30]. Step [601/782]. Loss: 0.018\n",
            "Epoch [26/30]. Step [1/782]. Loss: 0.025\n",
            "Epoch [26/30]. Step [301/782]. Loss: 0.018\n",
            "Epoch [26/30]. Step [601/782]. Loss: 0.018\n",
            "Epoch [27/30]. Step [1/782]. Loss: 0.017\n",
            "Epoch [27/30]. Step [301/782]. Loss: 0.017\n",
            "Epoch [27/30]. Step [601/782]. Loss: 0.018\n",
            "Epoch [28/30]. Step [1/782]. Loss: 0.016\n",
            "Epoch [28/30]. Step [301/782]. Loss: 0.017\n",
            "Epoch [28/30]. Step [601/782]. Loss: 0.017\n",
            "Epoch [29/30]. Step [1/782]. Loss: 0.019\n",
            "Epoch [29/30]. Step [301/782]. Loss: 0.017\n",
            "Epoch [29/30]. Step [601/782]. Loss: 0.017\n",
            "Epoch [30/30]. Step [1/782]. Loss: 0.016\n",
            "Epoch [30/30]. Step [301/782]. Loss: 0.017\n",
            "Epoch [30/30]. Step [601/782]. Loss: 0.017\n",
            "Training is finished!\n"
          ]
        }
      ],
      "source": [
        "num_epochs = 30\n",
        "losses = []\n",
        "for epoch in range(num_epochs):\n",
        "    running_loss = 0.0\n",
        "    running_items = 0.0\n",
        "\n",
        "\n",
        "    for i, data in enumerate(train_loader):\n",
        "        # inputs, labels = data[0], data[1]\n",
        "        inputs, labels = data[0].to(device), data[1].to(device)\n",
        "\n",
        "\n",
        "        # Обнуляем градиент\n",
        "        optimizer.zero_grad()\n",
        "        # Делаем предсказание\n",
        "        outputs = net(inputs)\n",
        "        # Рассчитываем лосс-функцию\n",
        "        loss = criterion(outputs, labels)\n",
        "        # Делаем шаг назад по лоссу\n",
        "        loss.backward()\n",
        "        # Делаем шаг нашего оптимайзера\n",
        "        optimizer.step()\n",
        "\n",
        "        # выводим статистику о процессе обучения\n",
        "        running_loss += loss.item()\n",
        "        running_items += len(labels)\n",
        "        if (i + 1) == (len(train_loader)):\n",
        "            losses.append(running_loss / running_items)\n",
        "        if i % 300 == 0:    # печатаем каждые 300 mini-batches\n",
        "            print(f'Epoch [{epoch + 1}/{num_epochs}]. ' \\\n",
        "                  f'Step [{i + 1}/{len(train_loader)}]. ' \\\n",
        "                  f'Loss: {running_loss / running_items:.3f}')            \n",
        "            running_loss, running_items = 0.0, 0.0  \n",
        "\n",
        "print('Training is finished!')"
      ]
    },
    {
      "cell_type": "code",
      "source": [
        "plt.plot(losses)\n",
        "plt.show()\n"
      ],
      "metadata": {
        "outputId": "36f62d0d-4b8b-4dff-cbf2-1a4a8eed52b0",
        "colab": {
          "base_uri": "https://localhost:8080/",
          "height": 265
        },
        "id": "Puvm5gg4DSzy"
      },
      "execution_count": 16,
      "outputs": [
        {
          "output_type": "display_data",
          "data": {
            "text/plain": [
              "<Figure size 432x288 with 1 Axes>"
            ],
            "image/png": "[encoded data removed]"
          },
          "metadata": {
            "needs_background": "light"
          }
        }
      ]
    },
    {
      "cell_type": "code",
      "metadata": {
        "id": "ZU6jN6WADSzy"
      },
      "source": [
        "data_iter = iter(test_loader)\n",
        "images, labels = next(data_iter)"
      ],
      "execution_count": 17,
      "outputs": []
    },
    {
      "cell_type": "code",
      "metadata": {
        "colab": {
          "base_uri": "https://localhost:8080/",
          "height": 142
        },
        "outputId": "0b6ec50f-91f0-4723-eb8f-c39084f8cdba",
        "id": "PWhfFEAjDSzy"
      },
      "source": [
        "net.eval()\n",
        "images = images.to(device)\n",
        "outputs = net(images)\n",
        "imgs = torchvision.utils.make_grid(images)\n",
        "plt.figure(figsize=(10, 5))\n",
        "plt.imshow(imgs.permute(1, 2, 0).cpu().numpy())\n",
        "print('GroundTruth: ', ' '.join(classes[labels[j]] for j in range(len(labels))))"
      ],
      "execution_count": 18,
      "outputs": [
        {
          "output_type": "stream",
          "name": "stdout",
          "text": [
            "GroundTruth:  cat ship ship plane frog frog car frog\n"
          ]
        },
        {
          "output_type": "display_data",
          "data": {
            "text/plain": [
              "<Figure size 720x360 with 1 Axes>"
            ],
            "image/png": "[encoded data removed]"
          },
          "metadata": {
            "needs_background": "light"
          }
        }
      ]
    },
    {
      "cell_type": "code",
      "metadata": {
        "colab": {
          "base_uri": "https://localhost:8080/"
        },
        "outputId": "6913717a-0cf4-42f1-916e-a2cce072db8c",
        "id": "YHaj-WwSDSzy"
      },
      "source": [
        "_, predicted = torch.max(outputs, 1)\n",
        "gt = np.array([classes[labels[j]] for j in range(len(labels))])\n",
        "pred = np.array([classes[predicted[j]] for j in range(len(labels))])\n",
        "\n",
        "print(gt)\n",
        "print(pred)\n",
        "print(f'Accuracy is {(gt == pred).sum() / len(gt)}')"
      ],
      "execution_count": 19,
      "outputs": [
        {
          "output_type": "stream",
          "name": "stdout",
          "text": [
            "['cat' 'ship' 'ship' 'plane' 'frog' 'frog' 'car' 'frog']\n",
            "['cat' 'car' 'ship' 'ship' 'deer' 'frog' 'car' 'frog']\n",
            "Accuracy is 0.625\n"
          ]
        }
      ]
    },
    {
      "cell_type": "markdown",
      "source": [
        "2. **Переписать данный туториал на pytorch**: https://www.tensorflow.org/tutorials/quickstart/beginner?hl=ru"
      ],
      "metadata": {
        "id": "q04PnnrVD8U9"
      }
    },
    {
      "cell_type": "code",
      "source": [
        "import torch\n",
        "from torch.autograd import Variable\n",
        "import torch.nn as nn\n",
        "import torch.nn.functional as F\n",
        "import torch.optim as optim\n",
        "from torchvision import datasets, transforms\n",
        "import torch.nn as nn\n",
        "import torchvision\n",
        "from torch.utils.data import DataLoader\n",
        "     "
      ],
      "metadata": {
        "id": "1zugrmaiD_SU"
      },
      "execution_count": 20,
      "outputs": []
    },
    {
      "cell_type": "code",
      "source": [
        "num_epochs = 5 \n",
        "num_classes = 10 \n",
        "batch_size = 100 \n",
        "learning_rate = 0.001\n",
        "# Место, куда будет сохранен датасет\n",
        "DATA_PATH = 'data'\n",
        "MODEL_STORE_PATH = '.'"
      ],
      "metadata": {
        "id": "MJH_vPE8ECGc"
      },
      "execution_count": 21,
      "outputs": []
    },
    {
      "cell_type": "code",
      "source": [
        "trans = transforms.Compose([transforms.ToTensor(), transforms.Normalize((0.1307,), (0.3081,))]) \n",
        "\n",
        "train_dataset = torchvision.datasets.MNIST(root=DATA_PATH, train=True, transform=trans, download=True) \n",
        "test_dataset = torchvision.datasets.MNIST(root=DATA_PATH, train=False, transform=trans)\n",
        "     "
      ],
      "metadata": {
        "id": "S0wxikz_EE-E",
        "outputId": "2924cde4-e7e6-47cb-c936-7d73c2de01b2",
        "colab": {
          "base_uri": "https://localhost:8080/",
          "height": 437,
          "referenced_widgets": [
            "686f550cfca448ed97ee32a39b459dc7",
            "713051201bdf4ca4b3fdc9df7fc4d219",
            "856ebe56b416490796cf0b3a5366b76e",
            "40a677cfdef14981ae77931289ec630a",
            "5ce93937d1244569a098a4f26ebdecf5",
            "7fd4d7e8560c4f2ab3caba1c2a54f584",
            "0bf5b02ce333468889c8fb8ab6ef7f7e",
            "7a56abf927c242ac8bc8af5a7f92450c",
            "36f18a4ebbc3489ba34cb8d674333867",
            "6ea8eb3a7e514bb8879ebcc434423d03",
            "1ee6922bc22441b69902acc36ae62c7d",
            "779850e2d86b4f19a4fb30722c6e5862",
            "d6a67f63fa54428aa5715a8eb8914bd2",
            "573b92e36f144bf38fb8c2338d9f07c0",
            "a6b5123f7e984b90bfb999e9091ba99f",
            "4567583800dd47699e6106e7c9d4750a",
            "de5cb3e89a1d4b75a54e0aeae31656cf",
            "132b78d1844144f78f2b7aeaf68bf003",
            "c429ee8517664342a8c2c551aef7b9c0",
            "6a735e524fbf4a3186b84fdf88e87cb2",
            "1fc9947358174c3dac3fa512a526600d",
            "9acedfcf778a4cfd9295689a11ce8d27",
            "ea38efa9851a4179807cdc9c751885c8",
            "c1627ade537344b3af77afee1093053d",
            "5657f8ad13c34fa4afe42d5047b734ca",
            "f3650c10f7ef4cf6b47576da4b2e9214",
            "78657d9f99344a28ae48e5d5bdda1afd",
            "bc14e62cf0434b94ab8112fbd54e0f58",
            "a2722621b7854eab870aabbfe84ffd84",
            "790ecf4b05624ec88d3677ebd4ad7a7b",
            "a640c4dd239e43c6838a709567c15575",
            "4c709a22294c4a2c9675f9436db2ccb0",
            "ebb913d55c0545868c71824a543f4484",
            "723121d534da4c7595f61425d9495327",
            "e3e21a185ff84695b7064f2e69817f5b",
            "8a8e1eeda3c64f1584fa688f09ddc62d",
            "f1e271e63b804ad38610b66d2050a644",
            "f8574552b6624a82b0ce14a557efc739",
            "73b7fc630cca468eb5cb9ad49346fc48",
            "c0c17370de6740f6a6b93293b92492b8",
            "9a10250e7b5f4a38943b040be52f7f66",
            "d6665c90775841428c096b12b3f677b3",
            "cda9921976c740bbb72142d226f2e96f",
            "37ae08933bff48b38f3e0cbac4cc9d06"
          ]
        }
      },
      "execution_count": 22,
      "outputs": [
        {
          "output_type": "stream",
          "name": "stdout",
          "text": [
            "Downloading http://yann.lecun.com/exdb/mnist/train-images-idx3-ubyte.gz\n",
            "Downloading http://yann.lecun.com/exdb/mnist/train-images-idx3-ubyte.gz to data/MNIST/raw/train-images-idx3-ubyte.gz\n"
          ]
        },
        {
          "output_type": "display_data",
          "data": {
            "text/plain": [
              "  0%|          | 0/9912422 [00:00<?, ?it/s]"
            ],
            "application/vnd.jupyter.widget-view+json": {
              "version_major": 2,
              "version_minor": 0,
              "model_id": "686f550cfca448ed97ee32a39b459dc7"
            }
          },
          "metadata": {}
        },
        {
          "output_type": "stream",
          "name": "stdout",
          "text": [
            "Extracting data/MNIST/raw/train-images-idx3-ubyte.gz to data/MNIST/raw\n",
            "\n",
            "Downloading http://yann.lecun.com/exdb/mnist/train-labels-idx1-ubyte.gz\n",
            "Downloading http://yann.lecun.com/exdb/mnist/train-labels-idx1-ubyte.gz to data/MNIST/raw/train-labels-idx1-ubyte.gz\n"
          ]
        },
        {
          "output_type": "display_data",
          "data": {
            "text/plain": [
              "  0%|          | 0/28881 [00:00<?, ?it/s]"
            ],
            "application/vnd.jupyter.widget-view+json": {
              "version_major": 2,
              "version_minor": 0,
              "model_id": "779850e2d86b4f19a4fb30722c6e5862"
            }
          },
          "metadata": {}
        },
        {
          "output_type": "stream",
          "name": "stdout",
          "text": [
            "Extracting data/MNIST/raw/train-labels-idx1-ubyte.gz to data/MNIST/raw\n",
            "\n",
            "Downloading http://yann.lecun.com/exdb/mnist/t10k-images-idx3-ubyte.gz\n",
            "Downloading http://yann.lecun.com/exdb/mnist/t10k-images-idx3-ubyte.gz to data/MNIST/raw/t10k-images-idx3-ubyte.gz\n"
          ]
        },
        {
          "output_type": "display_data",
          "data": {
            "text/plain": [
              "  0%|          | 0/1648877 [00:00<?, ?it/s]"
            ],
            "application/vnd.jupyter.widget-view+json": {
              "version_major": 2,
              "version_minor": 0,
              "model_id": "ea38efa9851a4179807cdc9c751885c8"
            }
          },
          "metadata": {}
        },
        {
          "output_type": "stream",
          "name": "stdout",
          "text": [
            "Extracting data/MNIST/raw/t10k-images-idx3-ubyte.gz to data/MNIST/raw\n",
            "\n",
            "Downloading http://yann.lecun.com/exdb/mnist/t10k-labels-idx1-ubyte.gz\n",
            "Downloading http://yann.lecun.com/exdb/mnist/t10k-labels-idx1-ubyte.gz to data/MNIST/raw/t10k-labels-idx1-ubyte.gz\n"
          ]
        },
        {
          "output_type": "display_data",
          "data": {
            "text/plain": [
              "  0%|          | 0/4542 [00:00<?, ?it/s]"
            ],
            "application/vnd.jupyter.widget-view+json": {
              "version_major": 2,
              "version_minor": 0,
              "model_id": "723121d534da4c7595f61425d9495327"
            }
          },
          "metadata": {}
        },
        {
          "output_type": "stream",
          "name": "stdout",
          "text": [
            "Extracting data/MNIST/raw/t10k-labels-idx1-ubyte.gz to data/MNIST/raw\n",
            "\n"
          ]
        }
      ]
    },
    {
      "cell_type": "code",
      "source": [
        "train_loader = DataLoader(dataset=train_dataset, batch_size=batch_size, shuffle=True) \n",
        "test_loader = DataLoader(dataset=test_dataset, batch_size=batch_size, shuffle=False)"
      ],
      "metadata": {
        "id": "SAXQkXUbEGu-"
      },
      "execution_count": 23,
      "outputs": []
    },
    {
      "cell_type": "code",
      "source": [
        "class ConvNet(nn.Module): \n",
        "    def __init__(self): \n",
        "        super(ConvNet, self).__init__() \n",
        "        self.layer1 = nn.Sequential(nn.Conv2d(1, 32, kernel_size=5, stride=1, padding=2), \n",
        "                                    nn.ReLU(), nn.MaxPool2d(kernel_size=2, stride=2)) \n",
        "        self.layer2 = nn.Sequential(nn.Conv2d(32, 64, kernel_size=5, stride=1, padding=2), \n",
        "                                    nn.ReLU(), nn.MaxPool2d(kernel_size=2, stride=2)) \n",
        "        self.drop_out = nn.Dropout()\n",
        "        self.fc1 = nn.Linear(7 * 7 * 64, 1000)\n",
        "        self.fc2 = nn.Linear(1000, 10)\n",
        "        \n",
        "# Определяем последовательность прямого прохода\n",
        "\n",
        "    def forward(self, x):\n",
        "        out = self.layer1(x)\n",
        "        out = self.layer2(out)\n",
        "        out = out.reshape(out.size(0), -1)\n",
        "        out = self.drop_out(out)\n",
        "        out = self.fc1(out)\n",
        "        out = self.fc2(out)\n",
        "        return out"
      ],
      "metadata": {
        "id": "8Da6OZ3jEIfw"
      },
      "execution_count": 25,
      "outputs": []
    },
    {
      "cell_type": "code",
      "source": [
        "model = ConvNet()\n",
        "criterion = nn.CrossEntropyLoss()\n",
        "optimizer = torch.optim.Adam(model.parameters(), lr=learning_rate)"
      ],
      "metadata": {
        "id": "9gj2KvmoEKHB"
      },
      "execution_count": 26,
      "outputs": []
    },
    {
      "cell_type": "code",
      "source": [
        "total_step = len(train_loader)\n",
        "loss_list = []\n",
        "acc_list = []\n",
        "for epoch in range(num_epochs):\n",
        "    for i, (images, labels) in enumerate(train_loader):\n",
        "        # Прямой запуск\n",
        "        outputs = model(images)\n",
        "        loss = criterion(outputs, labels)\n",
        "        loss_list.append(loss.item())\n",
        "\n",
        "        # Обратное распространение и оптимизатор\n",
        "        optimizer.zero_grad()\n",
        "        loss.backward()\n",
        "        optimizer.step()\n",
        "\n",
        "        # Отслеживание точности\n",
        "        total = labels.size(0)\n",
        "        _, predicted = torch.max(outputs.data, 1)\n",
        "        correct = (predicted == labels).sum().item()\n",
        "        acc_list.append(correct / total)\n",
        "\n",
        "        if (i + 1) % 100 == 0:\n",
        "            print('Epoch [{}/{}], Step [{}/{}], Loss: {:.4f}, Accuracy: {:.2f}%'\n",
        "                  .format(epoch + 1, num_epochs, i + 1, total_step, loss.item(),\n",
        "                          (correct / total) * 100))\n",
        "     "
      ],
      "metadata": {
        "id": "K6nZNc4fEL7i",
        "outputId": "17003b78-f8a8-4ea9-94b7-4b8e5d1311cc",
        "colab": {
          "base_uri": "https://localhost:8080/"
        }
      },
      "execution_count": 27,
      "outputs": [
        {
          "output_type": "stream",
          "name": "stdout",
          "text": [
            "Epoch [1/5], Step [100/600], Loss: 0.2211, Accuracy: 92.00%\n",
            "Epoch [1/5], Step [200/600], Loss: 0.1576, Accuracy: 95.00%\n",
            "Epoch [1/5], Step [300/600], Loss: 0.1239, Accuracy: 95.00%\n",
            "Epoch [1/5], Step [400/600], Loss: 0.1170, Accuracy: 96.00%\n",
            "Epoch [1/5], Step [500/600], Loss: 0.0196, Accuracy: 99.00%\n",
            "Epoch [1/5], Step [600/600], Loss: 0.1685, Accuracy: 96.00%\n",
            "Epoch [2/5], Step [100/600], Loss: 0.0611, Accuracy: 98.00%\n",
            "Epoch [2/5], Step [200/600], Loss: 0.0606, Accuracy: 98.00%\n",
            "Epoch [2/5], Step [300/600], Loss: 0.1099, Accuracy: 97.00%\n",
            "Epoch [2/5], Step [400/600], Loss: 0.0684, Accuracy: 99.00%\n",
            "Epoch [2/5], Step [500/600], Loss: 0.0710, Accuracy: 95.00%\n",
            "Epoch [2/5], Step [600/600], Loss: 0.0717, Accuracy: 98.00%\n",
            "Epoch [3/5], Step [100/600], Loss: 0.1198, Accuracy: 97.00%\n",
            "Epoch [3/5], Step [200/600], Loss: 0.0074, Accuracy: 100.00%\n",
            "Epoch [3/5], Step [300/600], Loss: 0.0408, Accuracy: 99.00%\n",
            "Epoch [3/5], Step [400/600], Loss: 0.0260, Accuracy: 99.00%\n",
            "Epoch [3/5], Step [500/600], Loss: 0.0575, Accuracy: 99.00%\n",
            "Epoch [3/5], Step [600/600], Loss: 0.0310, Accuracy: 99.00%\n",
            "Epoch [4/5], Step [100/600], Loss: 0.0427, Accuracy: 98.00%\n",
            "Epoch [4/5], Step [200/600], Loss: 0.0843, Accuracy: 98.00%\n",
            "Epoch [4/5], Step [300/600], Loss: 0.0229, Accuracy: 99.00%\n",
            "Epoch [4/5], Step [400/600], Loss: 0.0761, Accuracy: 97.00%\n",
            "Epoch [4/5], Step [500/600], Loss: 0.0442, Accuracy: 97.00%\n",
            "Epoch [4/5], Step [600/600], Loss: 0.0143, Accuracy: 99.00%\n",
            "Epoch [5/5], Step [100/600], Loss: 0.0103, Accuracy: 99.00%\n",
            "Epoch [5/5], Step [200/600], Loss: 0.0407, Accuracy: 98.00%\n",
            "Epoch [5/5], Step [300/600], Loss: 0.0354, Accuracy: 98.00%\n",
            "Epoch [5/5], Step [400/600], Loss: 0.0137, Accuracy: 100.00%\n",
            "Epoch [5/5], Step [500/600], Loss: 0.0557, Accuracy: 98.00%\n",
            "Epoch [5/5], Step [600/600], Loss: 0.0489, Accuracy: 99.00%\n"
          ]
        }
      ]
    },
    {
      "cell_type": "code",
      "source": [
        "model.eval()\n",
        "with torch.no_grad():\n",
        "    correct = 0\n",
        "    total = 0\n",
        "    for images, labels in test_loader:\n",
        "        outputs = model(images)\n",
        "        _, predicted = torch.max(outputs.data, 1)\n",
        "        total += labels.size(0)\n",
        "        correct += (predicted == labels).sum().item()\n",
        "\n",
        "    print('Test Accuracy of the model on the 10000 test images: {} %'.format((correct / total) * 100))"
      ],
      "metadata": {
        "id": "tqeQyzOoEN7X",
        "outputId": "66c4f6da-4a50-412c-eeb7-be79357ad32f",
        "colab": {
          "base_uri": "https://localhost:8080/"
        }
      },
      "execution_count": 28,
      "outputs": [
        {
          "output_type": "stream",
          "name": "stdout",
          "text": [
            "Test Accuracy of the model on the 10000 test images: 98.98 %\n"
          ]
        }
      ]
    }
  ],
  "metadata": {
    "kernelspec": {
      "display_name": "Python 3",
      "language": "python",
      "name": "python3"
    },
    "language_info": {
      "codemirror_mode": {
        "name": "ipython",
        "version": 3
      },
      "file_extension": ".py",
      "mimetype": "text/x-python",
      "name": "python",
      "nbconvert_exporter": "python",
      "pygments_lexer": "ipython3",
      "version": "3.7.4"
    },
    "colab": {
      "provenance": []
    },
    "accelerator": "GPU",
    "widgets": {
      "application/vnd.jupyter.widget-state+json": {
        "8c15dd2ba39f4bc28c257fe5e587c974": {
          "model_module": "@jupyter-widgets/controls",
          "model_name": "HBoxModel",
          "model_module_version": "1.5.0",
          "state": {
            "_dom_classes": [],
            "_model_module": "@jupyter-widgets/controls",
            "_model_module_version": "1.5.0",
            "_model_name": "HBoxModel",
            "_view_count": null,
            "_view_module": "@jupyter-widgets/controls",
            "_view_module_version": "1.5.0",
            "_view_name": "HBoxView",
            "box_style": "",
            "children": [
              "IPY_MODEL_7d428019814a4bfc96f39417b03daa93",
              "IPY_MODEL_ef7f33119669471a9a4590dff12aee78",
              "IPY_MODEL_2b6a53cd2be14103aae210593820d458"
            ],
            "layout": "IPY_MODEL_442d195cfed4468390b2e52cbed534d3"
          }
        },
        "7d428019814a4bfc96f39417b03daa93": {
          "model_module": "@jupyter-widgets/controls",
          "model_name": "HTMLModel",
          "model_module_version": "1.5.0",
          "state": {
            "_dom_classes": [],
            "_model_module": "@jupyter-widgets/controls",
            "_model_module_version": "1.5.0",
            "_model_name": "HTMLModel",
            "_view_count": null,
            "_view_module": "@jupyter-widgets/controls",
            "_view_module_version": "1.5.0",
            "_view_name": "HTMLView",
            "description": "",
            "description_tooltip": null,
            "layout": "IPY_MODEL_aee18f038e564d81859eb895e8896abf",
            "placeholder": "​",
            "style": "IPY_MODEL_25e5b5ba85ae45feaa4d9103231a6f60",
            "value": "100%"
          }
        },
        "ef7f33119669471a9a4590dff12aee78": {
          "model_module": "@jupyter-widgets/controls",
          "model_name": "FloatProgressModel",
          "model_module_version": "1.5.0",
          "state": {
            "_dom_classes": [],
            "_model_module": "@jupyter-widgets/controls",
            "_model_module_version": "1.5.0",
            "_model_name": "FloatProgressModel",
            "_view_count": null,
            "_view_module": "@jupyter-widgets/controls",
            "_view_module_version": "1.5.0",
            "_view_name": "ProgressView",
            "bar_style": "success",
            "description": "",
            "description_tooltip": null,
            "layout": "IPY_MODEL_2b5bf3cd5d9044de8f3f07c4f46dd97f",
            "max": 170498071,
            "min": 0,
            "orientation": "horizontal",
            "style": "IPY_MODEL_ca215cc1d87340f1a9e83c12539c371d",
            "value": 170498071
          }
        },
        "2b6a53cd2be14103aae210593820d458": {
          "model_module": "@jupyter-widgets/controls",
          "model_name": "HTMLModel",
          "model_module_version": "1.5.0",
          "state": {
            "_dom_classes": [],
            "_model_module": "@jupyter-widgets/controls",
            "_model_module_version": "1.5.0",
            "_model_name": "HTMLModel",
            "_view_count": null,
            "_view_module": "@jupyter-widgets/controls",
            "_view_module_version": "1.5.0",
            "_view_name": "HTMLView",
            "description": "",
            "description_tooltip": null,
            "layout": "IPY_MODEL_d44f9abf90c3490aafed37f5eae6199a",
            "placeholder": "​",
            "style": "IPY_MODEL_028df7999bea4265be427bdf303884b4",
            "value": " 170498071/170498071 [00:20&lt;00:00, 9029147.21it/s]"
          }
        },
        "442d195cfed4468390b2e52cbed534d3": {
          "model_module": "@jupyter-widgets/base",
          "model_name": "LayoutModel",
          "model_module_version": "1.2.0",
          "state": {
            "_model_module": "@jupyter-widgets/base",
            "_model_module_version": "1.2.0",
            "_model_name": "LayoutModel",
            "_view_count": null,
            "_view_module": "@jupyter-widgets/base",
            "_view_module_version": "1.2.0",
            "_view_name": "LayoutView",
            "align_content": null,
            "align_items": null,
            "align_self": null,
            "border": null,
            "bottom": null,
            "display": null,
            "flex": null,
            "flex_flow": null,
            "grid_area": null,
            "grid_auto_columns": null,
            "grid_auto_flow": null,
            "grid_auto_rows": null,
            "grid_column": null,
            "grid_gap": null,
            "grid_row": null,
            "grid_template_areas": null,
            "grid_template_columns": null,
            "grid_template_rows": null,
            "height": null,
            "justify_content": null,
            "justify_items": null,
            "left": null,
            "margin": null,
            "max_height": null,
            "max_width": null,
            "min_height": null,
            "min_width": null,
            "object_fit": null,
            "object_position": null,
            "order": null,
            "overflow": null,
            "overflow_x": null,
            "overflow_y": null,
            "padding": null,
            "right": null,
            "top": null,
            "visibility": null,
            "width": null
          }
        },
        "aee18f038e564d81859eb895e8896abf": {
          "model_module": "@jupyter-widgets/base",
          "model_name": "LayoutModel",
          "model_module_version": "1.2.0",
          "state": {
            "_model_module": "@jupyter-widgets/base",
            "_model_module_version": "1.2.0",
            "_model_name": "LayoutModel",
            "_view_count": null,
            "_view_module": "@jupyter-widgets/base",
            "_view_module_version": "1.2.0",
            "_view_name": "LayoutView",
            "align_content": null,
            "align_items": null,
            "align_self": null,
            "border": null,
            "bottom": null,
            "display": null,
            "flex": null,
            "flex_flow": null,
            "grid_area": null,
            "grid_auto_columns": null,
            "grid_auto_flow": null,
            "grid_auto_rows": null,
            "grid_column": null,
            "grid_gap": null,
            "grid_row": null,
            "grid_template_areas": null,
            "grid_template_columns": null,
            "grid_template_rows": null,
            "height": null,
            "justify_content": null,
            "justify_items": null,
            "left": null,
            "margin": null,
            "max_height": null,
            "max_width": null,
            "min_height": null,
            "min_width": null,
            "object_fit": null,
            "object_position": null,
            "order": null,
            "overflow": null,
            "overflow_x": null,
            "overflow_y": null,
            "padding": null,
            "right": null,
            "top": null,
            "visibility": null,
            "width": null
          }
        },
        "25e5b5ba85ae45feaa4d9103231a6f60": {
          "model_module": "@jupyter-widgets/controls",
          "model_name": "DescriptionStyleModel",
          "model_module_version": "1.5.0",
          "state": {
            "_model_module": "@jupyter-widgets/controls",
            "_model_module_version": "1.5.0",
            "_model_name": "DescriptionStyleModel",
            "_view_count": null,
            "_view_module": "@jupyter-widgets/base",
            "_view_module_version": "1.2.0",
            "_view_name": "StyleView",
            "description_width": ""
          }
        },
        "2b5bf3cd5d9044de8f3f07c4f46dd97f": {
          "model_module": "@jupyter-widgets/base",
          "model_name": "LayoutModel",
          "model_module_version": "1.2.0",
          "state": {
            "_model_module": "@jupyter-widgets/base",
            "_model_module_version": "1.2.0",
            "_model_name": "LayoutModel",
            "_view_count": null,
            "_view_module": "@jupyter-widgets/base",
            "_view_module_version": "1.2.0",
            "_view_name": "LayoutView",
            "align_content": null,
            "align_items": null,
            "align_self": null,
            "border": null,
            "bottom": null,
            "display": null,
            "flex": null,
            "flex_flow": null,
            "grid_area": null,
            "grid_auto_columns": null,
            "grid_auto_flow": null,
            "grid_auto_rows": null,
            "grid_column": null,
            "grid_gap": null,
            "grid_row": null,
            "grid_template_areas": null,
            "grid_template_columns": null,
            "grid_template_rows": null,
            "height": null,
            "justify_content": null,
            "justify_items": null,
            "left": null,
            "margin": null,
            "max_height": null,
            "max_width": null,
            "min_height": null,
            "min_width": null,
            "object_fit": null,
            "object_position": null,
            "order": null,
            "overflow": null,
            "overflow_x": null,
            "overflow_y": null,
            "padding": null,
            "right": null,
            "top": null,
            "visibility": null,
            "width": null
          }
        },
        "ca215cc1d87340f1a9e83c12539c371d": {
          "model_module": "@jupyter-widgets/controls",
          "model_name": "ProgressStyleModel",
          "model_module_version": "1.5.0",
          "state": {
            "_model_module": "@jupyter-widgets/controls",
            "_model_module_version": "1.5.0",
            "_model_name": "ProgressStyleModel",
            "_view_count": null,
            "_view_module": "@jupyter-widgets/base",
            "_view_module_version": "1.2.0",
            "_view_name": "StyleView",
            "bar_color": null,
            "description_width": ""
          }
        },
        "d44f9abf90c3490aafed37f5eae6199a": {
          "model_module": "@jupyter-widgets/base",
          "model_name": "LayoutModel",
          "model_module_version": "1.2.0",
          "state": {
            "_model_module": "@jupyter-widgets/base",
            "_model_module_version": "1.2.0",
            "_model_name": "LayoutModel",
            "_view_count": null,
            "_view_module": "@jupyter-widgets/base",
            "_view_module_version": "1.2.0",
            "_view_name": "LayoutView",
            "align_content": null,
            "align_items": null,
            "align_self": null,
            "border": null,
            "bottom": null,
            "display": null,
            "flex": null,
            "flex_flow": null,
            "grid_area": null,
            "grid_auto_columns": null,
            "grid_auto_flow": null,
            "grid_auto_rows": null,
            "grid_column": null,
            "grid_gap": null,
            "grid_row": null,
            "grid_template_areas": null,
            "grid_template_columns": null,
            "grid_template_rows": null,
            "height": null,
            "justify_content": null,
            "justify_items": null,
            "left": null,
            "margin": null,
            "max_height": null,
            "max_width": null,
            "min_height": null,
            "min_width": null,
            "object_fit": null,
            "object_position": null,
            "order": null,
            "overflow": null,
            "overflow_x": null,
            "overflow_y": null,
            "padding": null,
            "right": null,
            "top": null,
            "visibility": null,
            "width": null
          }
        },
        "028df7999bea4265be427bdf303884b4": {
          "model_module": "@jupyter-widgets/controls",
          "model_name": "DescriptionStyleModel",
          "model_module_version": "1.5.0",
          "state": {
            "_model_module": "@jupyter-widgets/controls",
            "_model_module_version": "1.5.0",
            "_model_name": "DescriptionStyleModel",
            "_view_count": null,
            "_view_module": "@jupyter-widgets/base",
            "_view_module_version": "1.2.0",
            "_view_name": "StyleView",
            "description_width": ""
          }
        },
        "686f550cfca448ed97ee32a39b459dc7": {
          "model_module": "@jupyter-widgets/controls",
          "model_name": "HBoxModel",
          "model_module_version": "1.5.0",
          "state": {
            "_dom_classes": [],
            "_model_module": "@jupyter-widgets/controls",
            "_model_module_version": "1.5.0",
            "_model_name": "HBoxModel",
            "_view_count": null,
            "_view_module": "@jupyter-widgets/controls",
            "_view_module_version": "1.5.0",
            "_view_name": "HBoxView",
            "box_style": "",
            "children": [
              "IPY_MODEL_713051201bdf4ca4b3fdc9df7fc4d219",
              "IPY_MODEL_856ebe56b416490796cf0b3a5366b76e",
              "IPY_MODEL_40a677cfdef14981ae77931289ec630a"
            ],
            "layout": "IPY_MODEL_5ce93937d1244569a098a4f26ebdecf5"
          }
        },
        "713051201bdf4ca4b3fdc9df7fc4d219": {
          "model_module": "@jupyter-widgets/controls",
          "model_name": "HTMLModel",
          "model_module_version": "1.5.0",
          "state": {
            "_dom_classes": [],
            "_model_module": "@jupyter-widgets/controls",
            "_model_module_version": "1.5.0",
            "_model_name": "HTMLModel",
            "_view_count": null,
            "_view_module": "@jupyter-widgets/controls",
            "_view_module_version": "1.5.0",
            "_view_name": "HTMLView",
            "description": "",
            "description_tooltip": null,
            "layout": "IPY_MODEL_7fd4d7e8560c4f2ab3caba1c2a54f584",
            "placeholder": "​",
            "style": "IPY_MODEL_0bf5b02ce333468889c8fb8ab6ef7f7e",
            "value": "100%"
          }
        },
        "856ebe56b416490796cf0b3a5366b76e": {
          "model_module": "@jupyter-widgets/controls",
          "model_name": "FloatProgressModel",
          "model_module_version": "1.5.0",
          "state": {
            "_dom_classes": [],
            "_model_module": "@jupyter-widgets/controls",
            "_model_module_version": "1.5.0",
            "_model_name": "FloatProgressModel",
            "_view_count": null,
            "_view_module": "@jupyter-widgets/controls",
            "_view_module_version": "1.5.0",
            "_view_name": "ProgressView",
            "bar_style": "success",
            "description": "",
            "description_tooltip": null,
            "layout": "IPY_MODEL_7a56abf927c242ac8bc8af5a7f92450c",
            "max": 9912422,
            "min": 0,
            "orientation": "horizontal",
            "style": "IPY_MODEL_36f18a4ebbc3489ba34cb8d674333867",
            "value": 9912422
          }
        },
        "40a677cfdef14981ae77931289ec630a": {
          "model_module": "@jupyter-widgets/controls",
          "model_name": "HTMLModel",
          "model_module_version": "1.5.0",
          "state": {
            "_dom_classes": [],
            "_model_module": "@jupyter-widgets/controls",
            "_model_module_version": "1.5.0",
            "_model_name": "HTMLModel",
            "_view_count": null,
            "_view_module": "@jupyter-widgets/controls",
            "_view_module_version": "1.5.0",
            "_view_name": "HTMLView",
            "description": "",
            "description_tooltip": null,
            "layout": "IPY_MODEL_6ea8eb3a7e514bb8879ebcc434423d03",
            "placeholder": "​",
            "style": "IPY_MODEL_1ee6922bc22441b69902acc36ae62c7d",
            "value": " 9912422/9912422 [00:00&lt;00:00, 94337292.65it/s]"
          }
        },
        "5ce93937d1244569a098a4f26ebdecf5": {
          "model_module": "@jupyter-widgets/base",
          "model_name": "LayoutModel",
          "model_module_version": "1.2.0",
          "state": {
            "_model_module": "@jupyter-widgets/base",
            "_model_module_version": "1.2.0",
            "_model_name": "LayoutModel",
            "_view_count": null,
            "_view_module": "@jupyter-widgets/base",
            "_view_module_version": "1.2.0",
            "_view_name": "LayoutView",
            "align_content": null,
            "align_items": null,
            "align_self": null,
            "border": null,
            "bottom": null,
            "display": null,
            "flex": null,
            "flex_flow": null,
            "grid_area": null,
            "grid_auto_columns": null,
            "grid_auto_flow": null,
            "grid_auto_rows": null,
            "grid_column": null,
            "grid_gap": null,
            "grid_row": null,
            "grid_template_areas": null,
            "grid_template_columns": null,
            "grid_template_rows": null,
            "height": null,
            "justify_content": null,
            "justify_items": null,
            "left": null,
            "margin": null,
            "max_height": null,
            "max_width": null,
            "min_height": null,
            "min_width": null,
            "object_fit": null,
            "object_position": null,
            "order": null,
            "overflow": null,
            "overflow_x": null,
            "overflow_y": null,
            "padding": null,
            "right": null,
            "top": null,
            "visibility": null,
            "width": null
          }
        },
        "7fd4d7e8560c4f2ab3caba1c2a54f584": {
          "model_module": "@jupyter-widgets/base",
          "model_name": "LayoutModel",
          "model_module_version": "1.2.0",
          "state": {
            "_model_module": "@jupyter-widgets/base",
            "_model_module_version": "1.2.0",
            "_model_name": "LayoutModel",
            "_view_count": null,
            "_view_module": "@jupyter-widgets/base",
            "_view_module_version": "1.2.0",
            "_view_name": "LayoutView",
            "align_content": null,
            "align_items": null,
            "align_self": null,
            "border": null,
            "bottom": null,
            "display": null,
            "flex": null,
            "flex_flow": null,
            "grid_area": null,
            "grid_auto_columns": null,
            "grid_auto_flow": null,
            "grid_auto_rows": null,
            "grid_column": null,
            "grid_gap": null,
            "grid_row": null,
            "grid_template_areas": null,
            "grid_template_columns": null,
            "grid_template_rows": null,
            "height": null,
            "justify_content": null,
            "justify_items": null,
            "left": null,
            "margin": null,
            "max_height": null,
            "max_width": null,
            "min_height": null,
            "min_width": null,
            "object_fit": null,
            "object_position": null,
            "order": null,
            "overflow": null,
            "overflow_x": null,
            "overflow_y": null,
            "padding": null,
            "right": null,
            "top": null,
            "visibility": null,
            "width": null
          }
        },
        "0bf5b02ce333468889c8fb8ab6ef7f7e": {
          "model_module": "@jupyter-widgets/controls",
          "model_name": "DescriptionStyleModel",
          "model_module_version": "1.5.0",
          "state": {
            "_model_module": "@jupyter-widgets/controls",
            "_model_module_version": "1.5.0",
            "_model_name": "DescriptionStyleModel",
            "_view_count": null,
            "_view_module": "@jupyter-widgets/base",
            "_view_module_version": "1.2.0",
            "_view_name": "StyleView",
            "description_width": ""
          }
        },
        "7a56abf927c242ac8bc8af5a7f92450c": {
          "model_module": "@jupyter-widgets/base",
          "model_name": "LayoutModel",
          "model_module_version": "1.2.0",
          "state": {
            "_model_module": "@jupyter-widgets/base",
            "_model_module_version": "1.2.0",
            "_model_name": "LayoutModel",
            "_view_count": null,
            "_view_module": "@jupyter-widgets/base",
            "_view_module_version": "1.2.0",
            "_view_name": "LayoutView",
            "align_content": null,
            "align_items": null,
            "align_self": null,
            "border": null,
            "bottom": null,
            "display": null,
            "flex": null,
            "flex_flow": null,
            "grid_area": null,
            "grid_auto_columns": null,
            "grid_auto_flow": null,
            "grid_auto_rows": null,
            "grid_column": null,
            "grid_gap": null,
            "grid_row": null,
            "grid_template_areas": null,
            "grid_template_columns": null,
            "grid_template_rows": null,
            "height": null,
            "justify_content": null,
            "justify_items": null,
            "left": null,
            "margin": null,
            "max_height": null,
            "max_width": null,
            "min_height": null,
            "min_width": null,
            "object_fit": null,
            "object_position": null,
            "order": null,
            "overflow": null,
            "overflow_x": null,
            "overflow_y": null,
            "padding": null,
            "right": null,
            "top": null,
            "visibility": null,
            "width": null
          }
        },
        "36f18a4ebbc3489ba34cb8d674333867": {
          "model_module": "@jupyter-widgets/controls",
          "model_name": "ProgressStyleModel",
          "model_module_version": "1.5.0",
          "state": {
            "_model_module": "@jupyter-widgets/controls",
            "_model_module_version": "1.5.0",
            "_model_name": "ProgressStyleModel",
            "_view_count": null,
            "_view_module": "@jupyter-widgets/base",
            "_view_module_version": "1.2.0",
            "_view_name": "StyleView",
            "bar_color": null,
            "description_width": ""
          }
        },
        "6ea8eb3a7e514bb8879ebcc434423d03": {
          "model_module": "@jupyter-widgets/base",
          "model_name": "LayoutModel",
          "model_module_version": "1.2.0",
          "state": {
            "_model_module": "@jupyter-widgets/base",
            "_model_module_version": "1.2.0",
            "_model_name": "LayoutModel",
            "_view_count": null,
            "_view_module": "@jupyter-widgets/base",
            "_view_module_version": "1.2.0",
            "_view_name": "LayoutView",
            "align_content": null,
            "align_items": null,
            "align_self": null,
            "border": null,
            "bottom": null,
            "display": null,
            "flex": null,
            "flex_flow": null,
            "grid_area": null,
            "grid_auto_columns": null,
            "grid_auto_flow": null,
            "grid_auto_rows": null,
            "grid_column": null,
            "grid_gap": null,
            "grid_row": null,
            "grid_template_areas": null,
            "grid_template_columns": null,
            "grid_template_rows": null,
            "height": null,
            "justify_content": null,
            "justify_items": null,
            "left": null,
            "margin": null,
            "max_height": null,
            "max_width": null,
            "min_height": null,
            "min_width": null,
            "object_fit": null,
            "object_position": null,
            "order": null,
            "overflow": null,
            "overflow_x": null,
            "overflow_y": null,
            "padding": null,
            "right": null,
            "top": null,
            "visibility": null,
            "width": null
          }
        },
        "1ee6922bc22441b69902acc36ae62c7d": {
          "model_module": "@jupyter-widgets/controls",
          "model_name": "DescriptionStyleModel",
          "model_module_version": "1.5.0",
          "state": {
            "_model_module": "@jupyter-widgets/controls",
            "_model_module_version": "1.5.0",
            "_model_name": "DescriptionStyleModel",
            "_view_count": null,
            "_view_module": "@jupyter-widgets/base",
            "_view_module_version": "1.2.0",
            "_view_name": "StyleView",
            "description_width": ""
          }
        },
        "779850e2d86b4f19a4fb30722c6e5862": {
          "model_module": "@jupyter-widgets/controls",
          "model_name": "HBoxModel",
          "model_module_version": "1.5.0",
          "state": {
            "_dom_classes": [],
            "_model_module": "@jupyter-widgets/controls",
            "_model_module_version": "1.5.0",
            "_model_name": "HBoxModel",
            "_view_count": null,
            "_view_module": "@jupyter-widgets/controls",
            "_view_module_version": "1.5.0",
            "_view_name": "HBoxView",
            "box_style": "",
            "children": [
              "IPY_MODEL_d6a67f63fa54428aa5715a8eb8914bd2",
              "IPY_MODEL_573b92e36f144bf38fb8c2338d9f07c0",
              "IPY_MODEL_a6b5123f7e984b90bfb999e9091ba99f"
            ],
            "layout": "IPY_MODEL_4567583800dd47699e6106e7c9d4750a"
          }
        },
        "d6a67f63fa54428aa5715a8eb8914bd2": {
          "model_module": "@jupyter-widgets/controls",
          "model_name": "HTMLModel",
          "model_module_version": "1.5.0",
          "state": {
            "_dom_classes": [],
            "_model_module": "@jupyter-widgets/controls",
            "_model_module_version": "1.5.0",
            "_model_name": "HTMLModel",
            "_view_count": null,
            "_view_module": "@jupyter-widgets/controls",
            "_view_module_version": "1.5.0",
            "_view_name": "HTMLView",
            "description": "",
            "description_tooltip": null,
            "layout": "IPY_MODEL_de5cb3e89a1d4b75a54e0aeae31656cf",
            "placeholder": "​",
            "style": "IPY_MODEL_132b78d1844144f78f2b7aeaf68bf003",
            "value": "100%"
          }
        },
        "573b92e36f144bf38fb8c2338d9f07c0": {
          "model_module": "@jupyter-widgets/controls",
          "model_name": "FloatProgressModel",
          "model_module_version": "1.5.0",
          "state": {
            "_dom_classes": [],
            "_model_module": "@jupyter-widgets/controls",
            "_model_module_version": "1.5.0",
            "_model_name": "FloatProgressModel",
            "_view_count": null,
            "_view_module": "@jupyter-widgets/controls",
            "_view_module_version": "1.5.0",
            "_view_name": "ProgressView",
            "bar_style": "success",
            "description": "",
            "description_tooltip": null,
            "layout": "IPY_MODEL_c429ee8517664342a8c2c551aef7b9c0",
            "max": 28881,
            "min": 0,
            "orientation": "horizontal",
            "style": "IPY_MODEL_6a735e524fbf4a3186b84fdf88e87cb2",
            "value": 28881
          }
        },
        "a6b5123f7e984b90bfb999e9091ba99f": {
          "model_module": "@jupyter-widgets/controls",
          "model_name": "HTMLModel",
          "model_module_version": "1.5.0",
          "state": {
            "_dom_classes": [],
            "_model_module": "@jupyter-widgets/controls",
            "_model_module_version": "1.5.0",
            "_model_name": "HTMLModel",
            "_view_count": null,
            "_view_module": "@jupyter-widgets/controls",
            "_view_module_version": "1.5.0",
            "_view_name": "HTMLView",
            "description": "",
            "description_tooltip": null,
            "layout": "IPY_MODEL_1fc9947358174c3dac3fa512a526600d",
            "placeholder": "​",
            "style": "IPY_MODEL_9acedfcf778a4cfd9295689a11ce8d27",
            "value": " 28881/28881 [00:00&lt;00:00, 781434.90it/s]"
          }
        },
        "4567583800dd47699e6106e7c9d4750a": {
          "model_module": "@jupyter-widgets/base",
          "model_name": "LayoutModel",
          "model_module_version": "1.2.0",
          "state": {
            "_model_module": "@jupyter-widgets/base",
            "_model_module_version": "1.2.0",
            "_model_name": "LayoutModel",
            "_view_count": null,
            "_view_module": "@jupyter-widgets/base",
            "_view_module_version": "1.2.0",
            "_view_name": "LayoutView",
            "align_content": null,
            "align_items": null,
            "align_self": null,
            "border": null,
            "bottom": null,
            "display": null,
            "flex": null,
            "flex_flow": null,
            "grid_area": null,
            "grid_auto_columns": null,
            "grid_auto_flow": null,
            "grid_auto_rows": null,
            "grid_column": null,
            "grid_gap": null,
            "grid_row": null,
            "grid_template_areas": null,
            "grid_template_columns": null,
            "grid_template_rows": null,
            "height": null,
            "justify_content": null,
            "justify_items": null,
            "left": null,
            "margin": null,
            "max_height": null,
            "max_width": null,
            "min_height": null,
            "min_width": null,
            "object_fit": null,
            "object_position": null,
            "order": null,
            "overflow": null,
            "overflow_x": null,
            "overflow_y": null,
            "padding": null,
            "right": null,
            "top": null,
            "visibility": null,
            "width": null
          }
        },
        "de5cb3e89a1d4b75a54e0aeae31656cf": {
          "model_module": "@jupyter-widgets/base",
          "model_name": "LayoutModel",
          "model_module_version": "1.2.0",
          "state": {
            "_model_module": "@jupyter-widgets/base",
            "_model_module_version": "1.2.0",
            "_model_name": "LayoutModel",
            "_view_count": null,
            "_view_module": "@jupyter-widgets/base",
            "_view_module_version": "1.2.0",
            "_view_name": "LayoutView",
            "align_content": null,
            "align_items": null,
            "align_self": null,
            "border": null,
            "bottom": null,
            "display": null,
            "flex": null,
            "flex_flow": null,
            "grid_area": null,
            "grid_auto_columns": null,
            "grid_auto_flow": null,
            "grid_auto_rows": null,
            "grid_column": null,
            "grid_gap": null,
            "grid_row": null,
            "grid_template_areas": null,
            "grid_template_columns": null,
            "grid_template_rows": null,
            "height": null,
            "justify_content": null,
            "justify_items": null,
            "left": null,
            "margin": null,
            "max_height": null,
            "max_width": null,
            "min_height": null,
            "min_width": null,
            "object_fit": null,
            "object_position": null,
            "order": null,
            "overflow": null,
            "overflow_x": null,
            "overflow_y": null,
            "padding": null,
            "right": null,
            "top": null,
            "visibility": null,
            "width": null
          }
        },
        "132b78d1844144f78f2b7aeaf68bf003": {
          "model_module": "@jupyter-widgets/controls",
          "model_name": "DescriptionStyleModel",
          "model_module_version": "1.5.0",
          "state": {
            "_model_module": "@jupyter-widgets/controls",
            "_model_module_version": "1.5.0",
            "_model_name": "DescriptionStyleModel",
            "_view_count": null,
            "_view_module": "@jupyter-widgets/base",
            "_view_module_version": "1.2.0",
            "_view_name": "StyleView",
            "description_width": ""
          }
        },
        "c429ee8517664342a8c2c551aef7b9c0": {
          "model_module": "@jupyter-widgets/base",
          "model_name": "LayoutModel",
          "model_module_version": "1.2.0",
          "state": {
            "_model_module": "@jupyter-widgets/base",
            "_model_module_version": "1.2.0",
            "_model_name": "LayoutModel",
            "_view_count": null,
            "_view_module": "@jupyter-widgets/base",
            "_view_module_version": "1.2.0",
            "_view_name": "LayoutView",
            "align_content": null,
            "align_items": null,
            "align_self": null,
            "border": null,
            "bottom": null,
            "display": null,
            "flex": null,
            "flex_flow": null,
            "grid_area": null,
            "grid_auto_columns": null,
            "grid_auto_flow": null,
            "grid_auto_rows": null,
            "grid_column": null,
            "grid_gap": null,
            "grid_row": null,
            "grid_template_areas": null,
            "grid_template_columns": null,
            "grid_template_rows": null,
            "height": null,
            "justify_content": null,
            "justify_items": null,
            "left": null,
            "margin": null,
            "max_height": null,
            "max_width": null,
            "min_height": null,
            "min_width": null,
            "object_fit": null,
            "object_position": null,
            "order": null,
            "overflow": null,
            "overflow_x": null,
            "overflow_y": null,
            "padding": null,
            "right": null,
            "top": null,
            "visibility": null,
            "width": null
          }
        },
        "6a735e524fbf4a3186b84fdf88e87cb2": {
          "model_module": "@jupyter-widgets/controls",
          "model_name": "ProgressStyleModel",
          "model_module_version": "1.5.0",
          "state": {
            "_model_module": "@jupyter-widgets/controls",
            "_model_module_version": "1.5.0",
            "_model_name": "ProgressStyleModel",
            "_view_count": null,
            "_view_module": "@jupyter-widgets/base",
            "_view_module_version": "1.2.0",
            "_view_name": "StyleView",
            "bar_color": null,
            "description_width": ""
          }
        },
        "1fc9947358174c3dac3fa512a526600d": {
          "model_module": "@jupyter-widgets/base",
          "model_name": "LayoutModel",
          "model_module_version": "1.2.0",
          "state": {
            "_model_module": "@jupyter-widgets/base",
            "_model_module_version": "1.2.0",
            "_model_name": "LayoutModel",
            "_view_count": null,
            "_view_module": "@jupyter-widgets/base",
            "_view_module_version": "1.2.0",
            "_view_name": "LayoutView",
            "align_content": null,
            "align_items": null,
            "align_self": null,
            "border": null,
            "bottom": null,
            "display": null,
            "flex": null,
            "flex_flow": null,
            "grid_area": null,
            "grid_auto_columns": null,
            "grid_auto_flow": null,
            "grid_auto_rows": null,
            "grid_column": null,
            "grid_gap": null,
            "grid_row": null,
            "grid_template_areas": null,
            "grid_template_columns": null,
            "grid_template_rows": null,
            "height": null,
            "justify_content": null,
            "justify_items": null,
            "left": null,
            "margin": null,
            "max_height": null,
            "max_width": null,
            "min_height": null,
            "min_width": null,
            "object_fit": null,
            "object_position": null,
            "order": null,
            "overflow": null,
            "overflow_x": null,
            "overflow_y": null,
            "padding": null,
            "right": null,
            "top": null,
            "visibility": null,
            "width": null
          }
        },
        "9acedfcf778a4cfd9295689a11ce8d27": {
          "model_module": "@jupyter-widgets/controls",
          "model_name": "DescriptionStyleModel",
          "model_module_version": "1.5.0",
          "state": {
            "_model_module": "@jupyter-widgets/controls",
            "_model_module_version": "1.5.0",
            "_model_name": "DescriptionStyleModel",
            "_view_count": null,
            "_view_module": "@jupyter-widgets/base",
            "_view_module_version": "1.2.0",
            "_view_name": "StyleView",
            "description_width": ""
          }
        },
        "ea38efa9851a4179807cdc9c751885c8": {
          "model_module": "@jupyter-widgets/controls",
          "model_name": "HBoxModel",
          "model_module_version": "1.5.0",
          "state": {
            "_dom_classes": [],
            "_model_module": "@jupyter-widgets/controls",
            "_model_module_version": "1.5.0",
            "_model_name": "HBoxModel",
            "_view_count": null,
            "_view_module": "@jupyter-widgets/controls",
            "_view_module_version": "1.5.0",
            "_view_name": "HBoxView",
            "box_style": "",
            "children": [
              "IPY_MODEL_c1627ade537344b3af77afee1093053d",
              "IPY_MODEL_5657f8ad13c34fa4afe42d5047b734ca",
              "IPY_MODEL_f3650c10f7ef4cf6b47576da4b2e9214"
            ],
            "layout": "IPY_MODEL_78657d9f99344a28ae48e5d5bdda1afd"
          }
        },
        "c1627ade537344b3af77afee1093053d": {
          "model_module": "@jupyter-widgets/controls",
          "model_name": "HTMLModel",
          "model_module_version": "1.5.0",
          "state": {
            "_dom_classes": [],
            "_model_module": "@jupyter-widgets/controls",
            "_model_module_version": "1.5.0",
            "_model_name": "HTMLModel",
            "_view_count": null,
            "_view_module": "@jupyter-widgets/controls",
            "_view_module_version": "1.5.0",
            "_view_name": "HTMLView",
            "description": "",
            "description_tooltip": null,
            "layout": "IPY_MODEL_bc14e62cf0434b94ab8112fbd54e0f58",
            "placeholder": "​",
            "style": "IPY_MODEL_a2722621b7854eab870aabbfe84ffd84",
            "value": "100%"
          }
        },
        "5657f8ad13c34fa4afe42d5047b734ca": {
          "model_module": "@jupyter-widgets/controls",
          "model_name": "FloatProgressModel",
          "model_module_version": "1.5.0",
          "state": {
            "_dom_classes": [],
            "_model_module": "@jupyter-widgets/controls",
            "_model_module_version": "1.5.0",
            "_model_name": "FloatProgressModel",
            "_view_count": null,
            "_view_module": "@jupyter-widgets/controls",
            "_view_module_version": "1.5.0",
            "_view_name": "ProgressView",
            "bar_style": "success",
            "description": "",
            "description_tooltip": null,
            "layout": "IPY_MODEL_790ecf4b05624ec88d3677ebd4ad7a7b",
            "max": 1648877,
            "min": 0,
            "orientation": "horizontal",
            "style": "IPY_MODEL_a640c4dd239e43c6838a709567c15575",
            "value": 1648877
          }
        },
        "f3650c10f7ef4cf6b47576da4b2e9214": {
          "model_module": "@jupyter-widgets/controls",
          "model_name": "HTMLModel",
          "model_module_version": "1.5.0",
          "state": {
            "_dom_classes": [],
            "_model_module": "@jupyter-widgets/controls",
            "_model_module_version": "1.5.0",
            "_model_name": "HTMLModel",
            "_view_count": null,
            "_view_module": "@jupyter-widgets/controls",
            "_view_module_version": "1.5.0",
            "_view_name": "HTMLView",
            "description": "",
            "description_tooltip": null,
            "layout": "IPY_MODEL_4c709a22294c4a2c9675f9436db2ccb0",
            "placeholder": "​",
            "style": "IPY_MODEL_ebb913d55c0545868c71824a543f4484",
            "value": " 1648877/1648877 [00:00&lt;00:00, 40844370.80it/s]"
          }
        },
        "78657d9f99344a28ae48e5d5bdda1afd": {
          "model_module": "@jupyter-widgets/base",
          "model_name": "LayoutModel",
          "model_module_version": "1.2.0",
          "state": {
            "_model_module": "@jupyter-widgets/base",
            "_model_module_version": "1.2.0",
            "_model_name": "LayoutModel",
            "_view_count": null,
            "_view_module": "@jupyter-widgets/base",
            "_view_module_version": "1.2.0",
            "_view_name": "LayoutView",
            "align_content": null,
            "align_items": null,
            "align_self": null,
            "border": null,
            "bottom": null,
            "display": null,
            "flex": null,
            "flex_flow": null,
            "grid_area": null,
            "grid_auto_columns": null,
            "grid_auto_flow": null,
            "grid_auto_rows": null,
            "grid_column": null,
            "grid_gap": null,
            "grid_row": null,
            "grid_template_areas": null,
            "grid_template_columns": null,
            "grid_template_rows": null,
            "height": null,
            "justify_content": null,
            "justify_items": null,
            "left": null,
            "margin": null,
            "max_height": null,
            "max_width": null,
            "min_height": null,
            "min_width": null,
            "object_fit": null,
            "object_position": null,
            "order": null,
            "overflow": null,
            "overflow_x": null,
            "overflow_y": null,
            "padding": null,
            "right": null,
            "top": null,
            "visibility": null,
            "width": null
          }
        },
        "bc14e62cf0434b94ab8112fbd54e0f58": {
          "model_module": "@jupyter-widgets/base",
          "model_name": "LayoutModel",
          "model_module_version": "1.2.0",
          "state": {
            "_model_module": "@jupyter-widgets/base",
            "_model_module_version": "1.2.0",
            "_model_name": "LayoutModel",
            "_view_count": null,
            "_view_module": "@jupyter-widgets/base",
            "_view_module_version": "1.2.0",
            "_view_name": "LayoutView",
            "align_content": null,
            "align_items": null,
            "align_self": null,
            "border": null,
            "bottom": null,
            "display": null,
            "flex": null,
            "flex_flow": null,
            "grid_area": null,
            "grid_auto_columns": null,
            "grid_auto_flow": null,
            "grid_auto_rows": null,
            "grid_column": null,
            "grid_gap": null,
            "grid_row": null,
            "grid_template_areas": null,
            "grid_template_columns": null,
            "grid_template_rows": null,
            "height": null,
            "justify_content": null,
            "justify_items": null,
            "left": null,
            "margin": null,
            "max_height": null,
            "max_width": null,
            "min_height": null,
            "min_width": null,
            "object_fit": null,
            "object_position": null,
            "order": null,
            "overflow": null,
            "overflow_x": null,
            "overflow_y": null,
            "padding": null,
            "right": null,
            "top": null,
            "visibility": null,
            "width": null
          }
        },
        "a2722621b7854eab870aabbfe84ffd84": {
          "model_module": "@jupyter-widgets/controls",
          "model_name": "DescriptionStyleModel",
          "model_module_version": "1.5.0",
          "state": {
            "_model_module": "@jupyter-widgets/controls",
            "_model_module_version": "1.5.0",
            "_model_name": "DescriptionStyleModel",
            "_view_count": null,
            "_view_module": "@jupyter-widgets/base",
            "_view_module_version": "1.2.0",
            "_view_name": "StyleView",
            "description_width": ""
          }
        },
        "790ecf4b05624ec88d3677ebd4ad7a7b": {
          "model_module": "@jupyter-widgets/base",
          "model_name": "LayoutModel",
          "model_module_version": "1.2.0",
          "state": {
            "_model_module": "@jupyter-widgets/base",
            "_model_module_version": "1.2.0",
            "_model_name": "LayoutModel",
            "_view_count": null,
            "_view_module": "@jupyter-widgets/base",
            "_view_module_version": "1.2.0",
            "_view_name": "LayoutView",
            "align_content": null,
            "align_items": null,
            "align_self": null,
            "border": null,
            "bottom": null,
            "display": null,
            "flex": null,
            "flex_flow": null,
            "grid_area": null,
            "grid_auto_columns": null,
            "grid_auto_flow": null,
            "grid_auto_rows": null,
            "grid_column": null,
            "grid_gap": null,
            "grid_row": null,
            "grid_template_areas": null,
            "grid_template_columns": null,
            "grid_template_rows": null,
            "height": null,
            "justify_content": null,
            "justify_items": null,
            "left": null,
            "margin": null,
            "max_height": null,
            "max_width": null,
            "min_height": null,
            "min_width": null,
            "object_fit": null,
            "object_position": null,
            "order": null,
            "overflow": null,
            "overflow_x": null,
            "overflow_y": null,
            "padding": null,
            "right": null,
            "top": null,
            "visibility": null,
            "width": null
          }
        },
        "a640c4dd239e43c6838a709567c15575": {
          "model_module": "@jupyter-widgets/controls",
          "model_name": "ProgressStyleModel",
          "model_module_version": "1.5.0",
          "state": {
            "_model_module": "@jupyter-widgets/controls",
            "_model_module_version": "1.5.0",
            "_model_name": "ProgressStyleModel",
            "_view_count": null,
            "_view_module": "@jupyter-widgets/base",
            "_view_module_version": "1.2.0",
            "_view_name": "StyleView",
            "bar_color": null,
            "description_width": ""
          }
        },
        "4c709a22294c4a2c9675f9436db2ccb0": {
          "model_module": "@jupyter-widgets/base",
          "model_name": "LayoutModel",
          "model_module_version": "1.2.0",
          "state": {
            "_model_module": "@jupyter-widgets/base",
            "_model_module_version": "1.2.0",
            "_model_name": "LayoutModel",
            "_view_count": null,
            "_view_module": "@jupyter-widgets/base",
            "_view_module_version": "1.2.0",
            "_view_name": "LayoutView",
            "align_content": null,
            "align_items": null,
            "align_self": null,
            "border": null,
            "bottom": null,
            "display": null,
            "flex": null,
            "flex_flow": null,
            "grid_area": null,
            "grid_auto_columns": null,
            "grid_auto_flow": null,
            "grid_auto_rows": null,
            "grid_column": null,
            "grid_gap": null,
            "grid_row": null,
            "grid_template_areas": null,
            "grid_template_columns": null,
            "grid_template_rows": null,
            "height": null,
            "justify_content": null,
            "justify_items": null,
            "left": null,
            "margin": null,
            "max_height": null,
            "max_width": null,
            "min_height": null,
            "min_width": null,
            "object_fit": null,
            "object_position": null,
            "order": null,
            "overflow": null,
            "overflow_x": null,
            "overflow_y": null,
            "padding": null,
            "right": null,
            "top": null,
            "visibility": null,
            "width": null
          }
        },
        "ebb913d55c0545868c71824a543f4484": {
          "model_module": "@jupyter-widgets/controls",
          "model_name": "DescriptionStyleModel",
          "model_module_version": "1.5.0",
          "state": {
            "_model_module": "@jupyter-widgets/controls",
            "_model_module_version": "1.5.0",
            "_model_name": "DescriptionStyleModel",
            "_view_count": null,
            "_view_module": "@jupyter-widgets/base",
            "_view_module_version": "1.2.0",
            "_view_name": "StyleView",
            "description_width": ""
          }
        },
        "723121d534da4c7595f61425d9495327": {
          "model_module": "@jupyter-widgets/controls",
          "model_name": "HBoxModel",
          "model_module_version": "1.5.0",
          "state": {
            "_dom_classes": [],
            "_model_module": "@jupyter-widgets/controls",
            "_model_module_version": "1.5.0",
            "_model_name": "HBoxModel",
            "_view_count": null,
            "_view_module": "@jupyter-widgets/controls",
            "_view_module_version": "1.5.0",
            "_view_name": "HBoxView",
            "box_style": "",
            "children": [
              "IPY_MODEL_e3e21a185ff84695b7064f2e69817f5b",
              "IPY_MODEL_8a8e1eeda3c64f1584fa688f09ddc62d",
              "IPY_MODEL_f1e271e63b804ad38610b66d2050a644"
            ],
            "layout": "IPY_MODEL_f8574552b6624a82b0ce14a557efc739"
          }
        },
        "e3e21a185ff84695b7064f2e69817f5b": {
          "model_module": "@jupyter-widgets/controls",
          "model_name": "HTMLModel",
          "model_module_version": "1.5.0",
          "state": {
            "_dom_classes": [],
            "_model_module": "@jupyter-widgets/controls",
            "_model_module_version": "1.5.0",
            "_model_name": "HTMLModel",
            "_view_count": null,
            "_view_module": "@jupyter-widgets/controls",
            "_view_module_version": "1.5.0",
            "_view_name": "HTMLView",
            "description": "",
            "description_tooltip": null,
            "layout": "IPY_MODEL_73b7fc630cca468eb5cb9ad49346fc48",
            "placeholder": "​",
            "style": "IPY_MODEL_c0c17370de6740f6a6b93293b92492b8",
            "value": "100%"
          }
        },
        "8a8e1eeda3c64f1584fa688f09ddc62d": {
          "model_module": "@jupyter-widgets/controls",
          "model_name": "FloatProgressModel",
          "model_module_version": "1.5.0",
          "state": {
            "_dom_classes": [],
            "_model_module": "@jupyter-widgets/controls",
            "_model_module_version": "1.5.0",
            "_model_name": "FloatProgressModel",
            "_view_count": null,
            "_view_module": "@jupyter-widgets/controls",
            "_view_module_version": "1.5.0",
            "_view_name": "ProgressView",
            "bar_style": "success",
            "description": "",
            "description_tooltip": null,
            "layout": "IPY_MODEL_9a10250e7b5f4a38943b040be52f7f66",
            "max": 4542,
            "min": 0,
            "orientation": "horizontal",
            "style": "IPY_MODEL_d6665c90775841428c096b12b3f677b3",
            "value": 4542
          }
        },
        "f1e271e63b804ad38610b66d2050a644": {
          "model_module": "@jupyter-widgets/controls",
          "model_name": "HTMLModel",
          "model_module_version": "1.5.0",
          "state": {
            "_dom_classes": [],
            "_model_module": "@jupyter-widgets/controls",
            "_model_module_version": "1.5.0",
            "_model_name": "HTMLModel",
            "_view_count": null,
            "_view_module": "@jupyter-widgets/controls",
            "_view_module_version": "1.5.0",
            "_view_name": "HTMLView",
            "description": "",
            "description_tooltip": null,
            "layout": "IPY_MODEL_cda9921976c740bbb72142d226f2e96f",
            "placeholder": "​",
            "style": "IPY_MODEL_37ae08933bff48b38f3e0cbac4cc9d06",
            "value": " 4542/4542 [00:00&lt;00:00, 160974.51it/s]"
          }
        },
        "f8574552b6624a82b0ce14a557efc739": {
          "model_module": "@jupyter-widgets/base",
          "model_name": "LayoutModel",
          "model_module_version": "1.2.0",
          "state": {
            "_model_module": "@jupyter-widgets/base",
            "_model_module_version": "1.2.0",
            "_model_name": "LayoutModel",
            "_view_count": null,
            "_view_module": "@jupyter-widgets/base",
            "_view_module_version": "1.2.0",
            "_view_name": "LayoutView",
            "align_content": null,
            "align_items": null,
            "align_self": null,
            "border": null,
            "bottom": null,
            "display": null,
            "flex": null,
            "flex_flow": null,
            "grid_area": null,
            "grid_auto_columns": null,
            "grid_auto_flow": null,
            "grid_auto_rows": null,
            "grid_column": null,
            "grid_gap": null,
            "grid_row": null,
            "grid_template_areas": null,
            "grid_template_columns": null,
            "grid_template_rows": null,
            "height": null,
            "justify_content": null,
            "justify_items": null,
            "left": null,
            "margin": null,
            "max_height": null,
            "max_width": null,
            "min_height": null,
            "min_width": null,
            "object_fit": null,
            "object_position": null,
            "order": null,
            "overflow": null,
            "overflow_x": null,
            "overflow_y": null,
            "padding": null,
            "right": null,
            "top": null,
            "visibility": null,
            "width": null
          }
        },
        "73b7fc630cca468eb5cb9ad49346fc48": {
          "model_module": "@jupyter-widgets/base",
          "model_name": "LayoutModel",
          "model_module_version": "1.2.0",
          "state": {
            "_model_module": "@jupyter-widgets/base",
            "_model_module_version": "1.2.0",
            "_model_name": "LayoutModel",
            "_view_count": null,
            "_view_module": "@jupyter-widgets/base",
            "_view_module_version": "1.2.0",
            "_view_name": "LayoutView",
            "align_content": null,
            "align_items": null,
            "align_self": null,
            "border": null,
            "bottom": null,
            "display": null,
            "flex": null,
            "flex_flow": null,
            "grid_area": null,
            "grid_auto_columns": null,
            "grid_auto_flow": null,
            "grid_auto_rows": null,
            "grid_column": null,
            "grid_gap": null,
            "grid_row": null,
            "grid_template_areas": null,
            "grid_template_columns": null,
            "grid_template_rows": null,
            "height": null,
            "justify_content": null,
            "justify_items": null,
            "left": null,
            "margin": null,
            "max_height": null,
            "max_width": null,
            "min_height": null,
            "min_width": null,
            "object_fit": null,
            "object_position": null,
            "order": null,
            "overflow": null,
            "overflow_x": null,
            "overflow_y": null,
            "padding": null,
            "right": null,
            "top": null,
            "visibility": null,
            "width": null
          }
        },
        "c0c17370de6740f6a6b93293b92492b8": {
          "model_module": "@jupyter-widgets/controls",
          "model_name": "DescriptionStyleModel",
          "model_module_version": "1.5.0",
          "state": {
            "_model_module": "@jupyter-widgets/controls",
            "_model_module_version": "1.5.0",
            "_model_name": "DescriptionStyleModel",
            "_view_count": null,
            "_view_module": "@jupyter-widgets/base",
            "_view_module_version": "1.2.0",
            "_view_name": "StyleView",
            "description_width": ""
          }
        },
        "9a10250e7b5f4a38943b040be52f7f66": {
          "model_module": "@jupyter-widgets/base",
          "model_name": "LayoutModel",
          "model_module_version": "1.2.0",
          "state": {
            "_model_module": "@jupyter-widgets/base",
            "_model_module_version": "1.2.0",
            "_model_name": "LayoutModel",
            "_view_count": null,
            "_view_module": "@jupyter-widgets/base",
            "_view_module_version": "1.2.0",
            "_view_name": "LayoutView",
            "align_content": null,
            "align_items": null,
            "align_self": null,
            "border": null,
            "bottom": null,
            "display": null,
            "flex": null,
            "flex_flow": null,
            "grid_area": null,
            "grid_auto_columns": null,
            "grid_auto_flow": null,
            "grid_auto_rows": null,
            "grid_column": null,
            "grid_gap": null,
            "grid_row": null,
            "grid_template_areas": null,
            "grid_template_columns": null,
            "grid_template_rows": null,
            "height": null,
            "justify_content": null,
            "justify_items": null,
            "left": null,
            "margin": null,
            "max_height": null,
            "max_width": null,
            "min_height": null,
            "min_width": null,
            "object_fit": null,
            "object_position": null,
            "order": null,
            "overflow": null,
            "overflow_x": null,
            "overflow_y": null,
            "padding": null,
            "right": null,
            "top": null,
            "visibility": null,
            "width": null
          }
        },
        "d6665c90775841428c096b12b3f677b3": {
          "model_module": "@jupyter-widgets/controls",
          "model_name": "ProgressStyleModel",
          "model_module_version": "1.5.0",
          "state": {
            "_model_module": "@jupyter-widgets/controls",
            "_model_module_version": "1.5.0",
            "_model_name": "ProgressStyleModel",
            "_view_count": null,
            "_view_module": "@jupyter-widgets/base",
            "_view_module_version": "1.2.0",
            "_view_name": "StyleView",
            "bar_color": null,
            "description_width": ""
          }
        },
        "cda9921976c740bbb72142d226f2e96f": {
          "model_module": "@jupyter-widgets/base",
          "model_name": "LayoutModel",
          "model_module_version": "1.2.0",
          "state": {
            "_model_module": "@jupyter-widgets/base",
            "_model_module_version": "1.2.0",
            "_model_name": "LayoutModel",
            "_view_count": null,
            "_view_module": "@jupyter-widgets/base",
            "_view_module_version": "1.2.0",
            "_view_name": "LayoutView",
            "align_content": null,
            "align_items": null,
            "align_self": null,
            "border": null,
            "bottom": null,
            "display": null,
            "flex": null,
            "flex_flow": null,
            "grid_area": null,
            "grid_auto_columns": null,
            "grid_auto_flow": null,
            "grid_auto_rows": null,
            "grid_column": null,
            "grid_gap": null,
            "grid_row": null,
            "grid_template_areas": null,
            "grid_template_columns": null,
            "grid_template_rows": null,
            "height": null,
            "justify_content": null,
            "justify_items": null,
            "left": null,
            "margin": null,
            "max_height": null,
            "max_width": null,
            "min_height": null,
            "min_width": null,
            "object_fit": null,
            "object_position": null,
            "order": null,
            "overflow": null,
            "overflow_x": null,
            "overflow_y": null,
            "padding": null,
            "right": null,
            "top": null,
            "visibility": null,
            "width": null
          }
        },
        "37ae08933bff48b38f3e0cbac4cc9d06": {
          "model_module": "@jupyter-widgets/controls",
          "model_name": "DescriptionStyleModel",
          "model_module_version": "1.5.0",
          "state": {
            "_model_module": "@jupyter-widgets/controls",
            "_model_module_version": "1.5.0",
            "_model_name": "DescriptionStyleModel",
            "_view_count": null,
            "_view_module": "@jupyter-widgets/base",
            "_view_module_version": "1.2.0",
            "_view_name": "StyleView",
            "description_width": ""
          }
        }
      }
    }
  },
  "nbformat": 4,
  "nbformat_minor": 0
}