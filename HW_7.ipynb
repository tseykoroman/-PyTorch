{
 "cells": [
  {
   "cell_type": "code",
   "execution_count": 1,
   "metadata": {
    "scrolled": true
   },
   "outputs": [],
   "source": [
    "# !pip install stop-words pymorphy2"
   ]
  },
  {
   "cell_type": "code",
   "execution_count": 2,
   "metadata": {},
   "outputs": [
    {
     "name": "stderr",
     "output_type": "stream",
     "text": [
      "[nltk_data] Downloading package wordnet to\n",
      "[nltk_data]     C:\\Users\\gribanov\\AppData\\Roaming\\nltk_data...\n",
      "[nltk_data]   Package wordnet is already up-to-date!\n",
      "[nltk_data] Downloading package punkt to\n",
      "[nltk_data]     C:\\Users\\gribanov\\AppData\\Roaming\\nltk_data...\n",
      "[nltk_data]   Package punkt is already up-to-date!\n"
     ]
    }
   ],
   "source": [
    "import pandas as pd\n",
    "import numpy as np\n",
    "import torch\n",
    "import torch.nn as nn\n",
    "import torch.nn.functional as F\n",
    "import torchmetrics\n",
    "\n",
    "from torch.utils.data import DataLoader, Dataset\n",
    "from sklearn.model_selection import train_test_split\n",
    "\n",
    "import nltk\n",
    "from nltk.tokenize import word_tokenize\n",
    "from nltk.stem import WordNetLemmatizer\n",
    "nltk.download('wordnet')\n",
    "nltk.download(\"punkt\")\n",
    "\n",
    "from string import punctuation\n",
    "from stop_words import get_stop_words\n",
    "# from pymorphy2 import MorphAnalyzer\n",
    "\n",
    "import re"
   ]
  },
  {
   "cell_type": "code",
   "execution_count": 3,
   "metadata": {},
   "outputs": [],
   "source": [
    "max_words = 1000\n",
    "max_len = 10\n",
    "num_classes = 1\n",
    "\n",
    "epochs = 15\n",
    "batch_size = 512\n",
    "print_batch_n = 100"
   ]
  },
  {
   "cell_type": "code",
   "execution_count": 4,
   "metadata": {},
   "outputs": [],
   "source": [
    "train_df = pd.read_csv('twitter/train.csv')\n",
    "# test_df = pd.read_csv('twitter/test.csv')"
   ]
  },
  {
   "cell_type": "code",
   "execution_count": 5,
   "metadata": {
    "scrolled": false
   },
   "outputs": [
    {
     "data": {
      "text/html": [
       "<div>\n",
       "<style scoped>\n",
       "    .dataframe tbody tr th:only-of-type {\n",
       "        vertical-align: middle;\n",
       "    }\n",
       "\n",
       "    .dataframe tbody tr th {\n",
       "        vertical-align: top;\n",
       "    }\n",
       "\n",
       "    .dataframe thead th {\n",
       "        text-align: right;\n",
       "    }\n",
       "</style>\n",
       "<table border=\"1\" class=\"dataframe\">\n",
       "  <thead>\n",
       "    <tr style=\"text-align: right;\">\n",
       "      <th></th>\n",
       "      <th>id</th>\n",
       "      <th>label</th>\n",
       "      <th>tweet</th>\n",
       "    </tr>\n",
       "  </thead>\n",
       "  <tbody>\n",
       "    <tr>\n",
       "      <th>0</th>\n",
       "      <td>1</td>\n",
       "      <td>0</td>\n",
       "      <td>@user when a father is dysfunctional and is s...</td>\n",
       "    </tr>\n",
       "    <tr>\n",
       "      <th>1</th>\n",
       "      <td>2</td>\n",
       "      <td>0</td>\n",
       "      <td>@user @user thanks for #lyft credit i can't us...</td>\n",
       "    </tr>\n",
       "    <tr>\n",
       "      <th>2</th>\n",
       "      <td>3</td>\n",
       "      <td>0</td>\n",
       "      <td>bihday your majesty</td>\n",
       "    </tr>\n",
       "    <tr>\n",
       "      <th>3</th>\n",
       "      <td>4</td>\n",
       "      <td>0</td>\n",
       "      <td>#model   i love u take with u all the time in ...</td>\n",
       "    </tr>\n",
       "    <tr>\n",
       "      <th>4</th>\n",
       "      <td>5</td>\n",
       "      <td>0</td>\n",
       "      <td>factsguide: society now    #motivation</td>\n",
       "    </tr>\n",
       "  </tbody>\n",
       "</table>\n",
       "</div>"
      ],
      "text/plain": [
       "   id  label                                              tweet\n",
       "0   1      0   @user when a father is dysfunctional and is s...\n",
       "1   2      0  @user @user thanks for #lyft credit i can't us...\n",
       "2   3      0                                bihday your majesty\n",
       "3   4      0  #model   i love u take with u all the time in ...\n",
       "4   5      0             factsguide: society now    #motivation"
      ]
     },
     "execution_count": 5,
     "metadata": {},
     "output_type": "execute_result"
    }
   ],
   "source": [
    "train_df.head()"
   ]
  },
  {
   "cell_type": "code",
   "execution_count": 6,
   "metadata": {},
   "outputs": [
    {
     "data": {
      "text/plain": [
       "0    29720\n",
       "1     2242\n",
       "Name: label, dtype: int64"
      ]
     },
     "execution_count": 6,
     "metadata": {},
     "output_type": "execute_result"
    }
   ],
   "source": [
    "train_df.label.value_counts()"
   ]
  },
  {
   "cell_type": "code",
   "execution_count": 7,
   "metadata": {},
   "outputs": [
    {
     "data": {
      "text/plain": [
       "((23971, 3), (7991, 3))"
      ]
     },
     "execution_count": 7,
     "metadata": {},
     "output_type": "execute_result"
    }
   ],
   "source": [
    "X_train, X_valid = train_test_split(train_df, test_size=0.25, random_state=42)\n",
    "X_train.shape, X_valid.shape"
   ]
  },
  {
   "cell_type": "code",
   "execution_count": 8,
   "metadata": {
    "scrolled": true
   },
   "outputs": [
    {
     "data": {
      "text/plain": [
       "0    22288\n",
       "1     1683\n",
       "Name: label, dtype: int64"
      ]
     },
     "execution_count": 8,
     "metadata": {},
     "output_type": "execute_result"
    }
   ],
   "source": [
    "X_train.label.value_counts()"
   ]
  },
  {
   "cell_type": "code",
   "execution_count": 9,
   "metadata": {},
   "outputs": [
    {
     "data": {
      "text/plain": [
       "0    7432\n",
       "1     559\n",
       "Name: label, dtype: int64"
      ]
     },
     "execution_count": 9,
     "metadata": {},
     "output_type": "execute_result"
    }
   ],
   "source": [
    "X_valid.label.value_counts()"
   ]
  },
  {
   "cell_type": "code",
   "execution_count": 10,
   "metadata": {},
   "outputs": [],
   "source": [
    "sw = set(get_stop_words(\"en\"))\n",
    "# sw"
   ]
  },
  {
   "cell_type": "code",
   "execution_count": 11,
   "metadata": {},
   "outputs": [],
   "source": [
    "puncts = set(punctuation)\n",
    "# puncts"
   ]
  },
  {
   "cell_type": "code",
   "execution_count": 12,
   "metadata": {},
   "outputs": [
    {
     "data": {
      "text/plain": [
       "'dog'"
      ]
     },
     "execution_count": 12,
     "metadata": {},
     "output_type": "execute_result"
    }
   ],
   "source": [
    "# morpher = MorphAnalyzer() # это для русского\n",
    "morpher = WordNetLemmatizer()\n",
    "morpher.lemmatize('dogs')"
   ]
  },
  {
   "cell_type": "code",
   "execution_count": 13,
   "metadata": {},
   "outputs": [],
   "source": [
    "def preprocess_text(txt):\n",
    "    txt = str(txt)\n",
    "    txt = \"\".join(c for c in txt if c not in puncts)\n",
    "    txt = txt.lower()\n",
    "#     txt = re.sub(\"не\\s\", \"не\", txt)\n",
    "    txt = [morpher.lemmatize(word) for word in txt.split() if word not in sw]\n",
    "    return \" \".join(txt)"
   ]
  },
  {
   "cell_type": "code",
   "execution_count": 14,
   "metadata": {},
   "outputs": [],
   "source": [
    "# train_df.tweet.iloc[:1].values"
   ]
  },
  {
   "cell_type": "code",
   "execution_count": 15,
   "metadata": {},
   "outputs": [],
   "source": [
    "# train_df.tweet.iloc[:1].apply(preprocess_text).values"
   ]
  },
  {
   "cell_type": "code",
   "execution_count": 16,
   "metadata": {},
   "outputs": [
    {
     "name": "stderr",
     "output_type": "stream",
     "text": [
      "C:\\Users\\gribanov\\anaconda3\\lib\\site-packages\\tqdm\\std.py:697: FutureWarning: The Panel class is removed from pandas. Accessing it from the top-level namespace will also be removed in the next version\n",
      "  from pandas import Panel\n",
      "100%|█████████████████████████████████████████████████████████████████████████| 23971/23971 [00:00<00:00, 27678.98it/s]\n",
      "C:\\Users\\gribanov\\anaconda3\\lib\\site-packages\\pandas\\core\\generic.py:5168: SettingWithCopyWarning: \n",
      "A value is trying to be set on a copy of a slice from a DataFrame.\n",
      "Try using .loc[row_indexer,col_indexer] = value instead\n",
      "\n",
      "See the caveats in the documentation: https://pandas.pydata.org/pandas-docs/stable/user_guide/indexing.html#returning-a-view-versus-a-copy\n",
      "  self[name] = value\n",
      "100%|███████████████████████████████████████████████████████████████████████████| 7991/7991 [00:00<00:00, 27085.46it/s]\n"
     ]
    }
   ],
   "source": [
    "from tqdm import tqdm \n",
    "tqdm.pandas()\n",
    "\n",
    "X_train.tweet = X_train.tweet.progress_apply(preprocess_text)\n",
    "X_valid.tweet = X_valid.tweet.progress_apply(preprocess_text)"
   ]
  },
  {
   "cell_type": "code",
   "execution_count": 17,
   "metadata": {},
   "outputs": [
    {
     "data": {
      "text/plain": [
       "['weekend', 'world', 'really', 'going', 'bonkers']"
      ]
     },
     "execution_count": 17,
     "metadata": {},
     "output_type": "execute_result"
    }
   ],
   "source": [
    "train_corpus = \" \".join(X_train.tweet)\n",
    "train_corpus = train_corpus.lower()\n",
    "tokens = word_tokenize(train_corpus)\n",
    "tokens[:5]"
   ]
  },
  {
   "cell_type": "code",
   "execution_count": 18,
   "metadata": {},
   "outputs": [],
   "source": [
    "# Отфильтруем данные и соберём в корпус N наиболее частых токенов\n",
    "tokens_filtered = [word for word in tokens if word.isalnum()]"
   ]
  },
  {
   "cell_type": "code",
   "execution_count": 19,
   "metadata": {},
   "outputs": [
    {
     "data": {
      "text/plain": [
       "999"
      ]
     },
     "execution_count": 19,
     "metadata": {},
     "output_type": "execute_result"
    }
   ],
   "source": [
    "from nltk.probability import FreqDist\n",
    "\n",
    "dist = FreqDist(tokens_filtered)\n",
    "tokens_filtered_top = [pair[0] for pair in dist.most_common(max_words-1)]  # вычитание 1 для padding\n",
    "len(tokens_filtered_top)"
   ]
  },
  {
   "cell_type": "code",
   "execution_count": 20,
   "metadata": {},
   "outputs": [
    {
     "data": {
      "text/plain": [
       "['user', 'love', 'day', 'u', 'happy', 'amp', 'just', 'will', 'time', 'life']"
      ]
     },
     "execution_count": 20,
     "metadata": {},
     "output_type": "execute_result"
    }
   ],
   "source": [
    "tokens_filtered_top[:10]"
   ]
  },
  {
   "cell_type": "code",
   "execution_count": 21,
   "metadata": {
    "scrolled": false
   },
   "outputs": [],
   "source": [
    "vocabulary = {v: k for k, v in dict(enumerate(tokens_filtered_top, 1)).items()}\n",
    "# vocabulary"
   ]
  },
  {
   "cell_type": "code",
   "execution_count": 22,
   "metadata": {},
   "outputs": [],
   "source": [
    "def text_to_sequence(text, maxlen):\n",
    "    \n",
    "    result = []\n",
    "    tokens = word_tokenize(text.lower())\n",
    "    tokens_filtered = [word for word in tokens if word.isalnum()] # проверка чтобы токен был либо буквенный либо символьный\n",
    "    for word in tokens_filtered:\n",
    "        if word in vocabulary:\n",
    "            result.append(vocabulary[word])\n",
    "\n",
    "    padding = [0] * (maxlen-len(result))\n",
    "    \n",
    "    return result[-maxlen:] + padding"
   ]
  },
  {
   "cell_type": "code",
   "execution_count": 23,
   "metadata": {},
   "outputs": [
    {
     "data": {
      "text/plain": [
       "((23971, 10), (7991, 10))"
      ]
     },
     "execution_count": 23,
     "metadata": {},
     "output_type": "execute_result"
    }
   ],
   "source": [
    "x_train = np.asarray([text_to_sequence(text, max_len) for text in X_train.tweet])\n",
    "x_val = np.asarray([text_to_sequence(text, max_len) for text in X_valid.tweet])\n",
    "\n",
    "x_train.shape, x_val.shape"
   ]
  },
  {
   "cell_type": "code",
   "execution_count": 24,
   "metadata": {},
   "outputs": [
    {
     "data": {
      "text/plain": [
       "' @user when a father is dysfunctional and is so selfish he drags his kids into his dysfunction.   #run'"
      ]
     },
     "execution_count": 24,
     "metadata": {},
     "output_type": "execute_result"
    }
   ],
   "source": [
    "train_df.tweet.iloc[0]"
   ]
  },
  {
   "cell_type": "code",
   "execution_count": 25,
   "metadata": {
    "scrolled": true
   },
   "outputs": [
    {
     "data": {
      "text/plain": [
       "array([35,  0,  0,  0,  0,  0,  0,  0,  0,  0])"
      ]
     },
     "execution_count": 25,
     "metadata": {},
     "output_type": "execute_result"
    }
   ],
   "source": [
    "x_train[0]"
   ]
  },
  {
   "cell_type": "code",
   "execution_count": 26,
   "metadata": {},
   "outputs": [],
   "source": [
    "# class Net(nn.Module):\n",
    "#     def __init__(self, vocab_size=2000, embedding_dim=64, out_channel=64, num_classes=1):\n",
    "#         super().__init__()\n",
    "#         self.embedding = nn.Embedding(vocab_size, embedding_dim)\n",
    "#         self.conv_1 = nn.Conv1d(embedding_dim, out_channel, kernel_size=2)\n",
    "#         self.conv_2 = nn.Conv1d(embedding_dim, out_channel, kernel_size=3)\n",
    "#         self.pool = nn.MaxPool1d(2)\n",
    "#         self.relu = nn.ReLU()\n",
    "#         self.linear_1 = nn.Linear(out_channel, out_channel // 2)\n",
    "#         self.linear_2 = nn.Linear(out_channel // 2, num_classes)\n",
    "        \n",
    "#     def forward(self, x):        \n",
    "#         output = self.embedding(x) # B, L, E\n",
    "#         #                       B  E  L         \n",
    "#         output = output.permute(0, 2, 1)\n",
    "#         output = self.conv_1(output)\n",
    "#         output = self.relu(output)\n",
    "#         output = self.pool(output)\n",
    "\n",
    "#         output = self.conv_2(output)\n",
    "#         output = self.relu(output)\n",
    "#         output = self.pool(output)\n",
    "#         output = torch.max(output, axis=2).values\n",
    "#         output = self.linear_1(output)\n",
    "#         output = self.relu(output)\n",
    "#         output = self.linear_2(output)\n",
    "#         output = F.sigmoid(output)\n",
    "#         return output"
   ]
  },
  {
   "cell_type": "code",
   "execution_count": 27,
   "metadata": {},
   "outputs": [],
   "source": [
    "class GRUFixedLen(nn.Module) :\n",
    "    def __init__(self, vocab_size, embedding_dim=128, hidden_dim=128, use_last=True):\n",
    "        super().__init__()\n",
    "        self.use_last = use_last\n",
    "        self.embeddings = nn.Embedding(vocab_size, embedding_dim, padding_idx=0)\n",
    "        self.gru = nn.GRU(embedding_dim, hidden_dim, num_layers=2, batch_first=True)\n",
    "        self.linear = nn.Linear(hidden_dim, 1)\n",
    "        self.dropout = nn.Dropout(0.2)\n",
    "        \n",
    "    def forward(self, x):\n",
    "        x = self.embeddings(x)\n",
    "        x = self.dropout(x)\n",
    "        gru_out, ht = self.gru(x)\n",
    "       \n",
    "        if self.use_last:\n",
    "            last_tensor = gru_out[:,-1,:]\n",
    "        else:\n",
    "            # use mean\n",
    "            last_tensor = torch.mean(gru_out[:,:], dim=1)\n",
    "    \n",
    "        out = self.linear(last_tensor)\n",
    "        return torch.sigmoid(out)"
   ]
  },
  {
   "cell_type": "code",
   "execution_count": 28,
   "metadata": {},
   "outputs": [],
   "source": [
    "class DataWrapper(Dataset):\n",
    "    def __init__(self, data, target, transform=None):\n",
    "        self.data = torch.from_numpy(data).long() # если индексы инты то делать лучше лонг - иначе может сломаться вдруг -\n",
    "        # так как на инт меньше памяти выделяется на каждое значение и может переполниться\n",
    "        self.target = torch.from_numpy(target).long() # какие то ф-и потерь на интах не считается - а только на лонгах\n",
    "        self.transform = transform\n",
    "        \n",
    "    def __getitem__(self, index):\n",
    "        x = self.data[index]\n",
    "        y = self.target[index]\n",
    "        \n",
    "        if self.transform:\n",
    "            x = self.transform(x)\n",
    "            \n",
    "        return x, y\n",
    "    \n",
    "    def __len__(self):\n",
    "        return len(self.data)"
   ]
  },
  {
   "cell_type": "code",
   "execution_count": 29,
   "metadata": {},
   "outputs": [],
   "source": [
    "train_dataset = DataWrapper(x_train, X_train.label.values)\n",
    "train_loader = DataLoader(train_dataset, batch_size=batch_size, shuffle=True)\n",
    "\n",
    "val_dataset = DataWrapper(x_val, X_valid.label.values)\n",
    "val_loader = DataLoader(val_dataset, batch_size=8, shuffle=True)"
   ]
  },
  {
   "cell_type": "code",
   "execution_count": 30,
   "metadata": {},
   "outputs": [
    {
     "data": {
      "text/plain": [
       "<torch.utils.data.sampler.RandomSampler at 0x2376cfb44f0>"
      ]
     },
     "execution_count": 30,
     "metadata": {},
     "output_type": "execute_result"
    }
   ],
   "source": [
    "train_loader.sampler"
   ]
  },
  {
   "cell_type": "code",
   "execution_count": 31,
   "metadata": {},
   "outputs": [
    {
     "name": "stdout",
     "output_type": "stream",
     "text": [
      "torch.Size([512, 10])\n",
      "torch.Size([512])\n",
      "tensor(0)\n"
     ]
    }
   ],
   "source": [
    "for x, l in train_loader:\n",
    "    print(x.shape)\n",
    "    print(l.shape)\n",
    "    print(l[0])\n",
    "    break"
   ]
  },
  {
   "cell_type": "code",
   "execution_count": 32,
   "metadata": {},
   "outputs": [
    {
     "data": {
      "text/plain": [
       "'cpu'"
      ]
     },
     "execution_count": 32,
     "metadata": {},
     "output_type": "execute_result"
    }
   ],
   "source": [
    "device = 'cuda' if torch.cuda.is_available() else 'cpu'\n",
    "device"
   ]
  },
  {
   "cell_type": "code",
   "execution_count": 33,
   "metadata": {},
   "outputs": [],
   "source": [
    "model = GRUFixedLen(max_words).to(device)\n",
    "optimizer = torch.optim.Adam(model.parameters(), lr=0.001)\n",
    "criterion = nn.BCELoss()"
   ]
  },
  {
   "cell_type": "code",
   "execution_count": 34,
   "metadata": {
    "scrolled": true
   },
   "outputs": [
    {
     "name": "stdout",
     "output_type": "stream",
     "text": [
      "GRUFixedLen(\n",
      "  (embeddings): Embedding(1000, 128, padding_idx=0)\n",
      "  (gru): GRU(128, 128, num_layers=2, batch_first=True)\n",
      "  (linear): Linear(in_features=128, out_features=1, bias=True)\n",
      "  (dropout): Dropout(p=0.2, inplace=False)\n",
      ")\n",
      "Parameters: 326273\n"
     ]
    }
   ],
   "source": [
    "print(model)\n",
    "print(\"Parameters:\", sum([param.nelement() for param in model.parameters()]))"
   ]
  },
  {
   "cell_type": "markdown",
   "metadata": {},
   "source": [
    "Посчитаем метрику f1_score из-за сильного дисбаланса классов"
   ]
  },
  {
   "cell_type": "code",
   "execution_count": 35,
   "metadata": {},
   "outputs": [],
   "source": [
    "train_f1_score = torchmetrics.F1Score()\n",
    "test_f1_score = torchmetrics.F1Score()"
   ]
  },
  {
   "cell_type": "code",
   "execution_count": 36,
   "metadata": {
    "scrolled": false
   },
   "outputs": [
    {
     "name": "stdout",
     "output_type": "stream",
     "text": [
      "Epoch [1/15]. Step [47/47]. \n",
      "Train: Loss: 0.192. Acc: 0.914, f1_score_train: 0.050, \n",
      "Test:  Loss: 0.064. Acc: 0.936, f1_score_test:  0.265\n",
      "\n",
      "Epoch [2/15]. Step [47/47]. \n",
      "Train: Loss: 0.205. Acc: 0.940, f1_score_train: 0.326, \n",
      "Test:  Loss: 0.023. Acc: 0.944, f1_score_test:  0.420\n",
      "\n",
      "Epoch [3/15]. Step [47/47]. \n",
      "Train: Loss: 0.171. Acc: 0.947, f1_score_train: 0.475, \n",
      "Test:  Loss: 0.018. Acc: 0.946, f1_score_test:  0.515\n",
      "\n",
      "Epoch [4/15]. Step [47/47]. \n",
      "Train: Loss: 0.138. Acc: 0.951, f1_score_train: 0.536, \n",
      "Test:  Loss: 0.029. Acc: 0.948, f1_score_test:  0.531\n",
      "\n",
      "Epoch [5/15]. Step [47/47]. \n",
      "Train: Loss: 0.116. Acc: 0.952, f1_score_train: 0.572, \n",
      "Test:  Loss: 0.197. Acc: 0.948, f1_score_test:  0.530\n",
      "\n",
      "Epoch [6/15]. Step [47/47]. \n",
      "Train: Loss: 0.150. Acc: 0.955, f1_score_train: 0.606, \n",
      "Test:  Loss: 0.012. Acc: 0.942, f1_score_test:  0.535\n",
      "\n",
      "Epoch [7/15]. Step [47/47]. \n",
      "Train: Loss: 0.141. Acc: 0.958, f1_score_train: 0.653, \n",
      "Test:  Loss: 0.186. Acc: 0.942, f1_score_test:  0.557\n",
      "\n",
      "Epoch [8/15]. Step [47/47]. \n",
      "Train: Loss: 0.137. Acc: 0.959, f1_score_train: 0.664, \n",
      "Test:  Loss: 0.012. Acc: 0.946, f1_score_test:  0.567\n",
      "\n",
      "Epoch [9/15]. Step [47/47]. \n",
      "Train: Loss: 0.143. Acc: 0.961, f1_score_train: 0.684, \n",
      "Test:  Loss: 0.350. Acc: 0.945, f1_score_test:  0.573\n",
      "\n",
      "Epoch [10/15]. Step [47/47]. \n",
      "Train: Loss: 0.099. Acc: 0.963, f1_score_train: 0.706, \n",
      "Test:  Loss: 0.013. Acc: 0.943, f1_score_test:  0.540\n",
      "\n",
      "Epoch [11/15]. Step [47/47]. \n",
      "Train: Loss: 0.060. Acc: 0.965, f1_score_train: 0.695, \n",
      "Test:  Loss: 0.036. Acc: 0.944, f1_score_test:  0.556\n",
      "\n",
      "Epoch [12/15]. Step [47/47]. \n",
      "Train: Loss: 0.094. Acc: 0.968, f1_score_train: 0.766, \n",
      "Test:  Loss: 0.012. Acc: 0.944, f1_score_test:  0.558\n",
      "\n",
      "Epoch [13/15]. Step [47/47]. \n",
      "Train: Loss: 0.087. Acc: 0.972, f1_score_train: 0.779, \n",
      "Test:  Loss: 0.232. Acc: 0.944, f1_score_test:  0.578\n",
      "\n",
      "Epoch [14/15]. Step [47/47]. \n",
      "Train: Loss: 0.067. Acc: 0.972, f1_score_train: 0.810, \n",
      "Test:  Loss: 0.035. Acc: 0.943, f1_score_test:  0.563\n",
      "\n",
      "Epoch [15/15]. Step [47/47]. \n",
      "Train: Loss: 0.067. Acc: 0.975, f1_score_train: 0.823, \n",
      "Test:  Loss: 0.000. Acc: 0.945, f1_score_test:  0.573\n",
      "\n",
      "Training is finished!\n"
     ]
    }
   ],
   "source": [
    "model = model.to(device)\n",
    "model.train()\n",
    "th = 0.5\n",
    "\n",
    "train_loss_history = []\n",
    "test_loss_history = []\n",
    "\n",
    "\n",
    "for epoch in range(epochs):  \n",
    "    running_items, running_right, all_f1_score_train = 0.0, 0.0, 0.0\n",
    "    for i, data in enumerate(train_loader, 0):\n",
    "        inputs, labels = data[0].to(device), data[1].to(device)\n",
    "        \n",
    "        # обнуляем градиент\n",
    "        optimizer.zero_grad()\n",
    "        outputs = model(inputs)\n",
    "        train_f1_score(outputs.squeeze(), labels)\n",
    "        \n",
    "        loss = criterion(outputs, labels.float().view(-1, 1))\n",
    "        loss.backward()\n",
    "        optimizer.step()\n",
    "\n",
    "        # подсчет ошибки на обучении\n",
    "        loss = loss.item()\n",
    "        running_items += len(labels)\n",
    "        # подсчет метрики на обучении\n",
    "        pred_labels = torch.squeeze((outputs > th).int())\n",
    "        running_right += (labels == pred_labels).sum()\n",
    "        all_f1_score_train += train_f1_score.compute().item()\n",
    "        \n",
    "    # выводим статистику о процессе обучения (переводим модель в валидацию)\n",
    "    model.eval()\n",
    "    \n",
    "    print(f'Epoch [{epoch + 1}/{epochs}]. ' \\\n",
    "            f'Step [{i + 1}/{len(train_loader)}]. \\n' \\\n",
    "            f'Train: Loss: {loss:.3f}. ' \\\n",
    "            f'Acc: {running_right / running_items:.3f}, ' \\\n",
    "            f'f1_score_train: {all_f1_score_train / (i+1):.3f}, ')\n",
    "\n",
    "    \n",
    "    running_loss, running_items, running_right, all_f1_score_train = 0.0, 0.0, 0.0, 0.0\n",
    "    train_f1_score.reset()\n",
    "    train_loss_history.append(loss)\n",
    "\n",
    "        # выводим статистику на тестовых данных\n",
    "    test_running_right, test_running_total, test_loss, all_f1_score_test = 0.0, 0.0, 0.0, 0.0\n",
    "    for j, data in enumerate(val_loader):\n",
    "        \n",
    "        test_outputs = model(data[0].to(device))\n",
    "        test_labels = data[1].to(device)\n",
    "\n",
    "        # подсчет ошибки на тесте\n",
    "        test_loss = criterion(test_outputs, test_labels.float().view(-1, 1))\n",
    "        \n",
    "        # подсчет метрики на тесте\n",
    "        test_f1_score(test_outputs.squeeze(), test_labels)\n",
    "        \n",
    "        test_running_total += len(data[1])\n",
    "        pred_test_labels = torch.squeeze((test_outputs > th).int())\n",
    "        test_running_right += (test_labels == pred_test_labels).sum()\n",
    "        \n",
    "        all_f1_score_test += test_f1_score.compute().item()\n",
    "\n",
    "    test_loss_history.append(test_loss.item())\n",
    "    print(f'Test:  Loss: {test_loss:.3f}. Acc: {test_running_right / test_running_total:.3f},', end=' ')\n",
    "    \n",
    "    print(f'f1_score_test:  {all_f1_score_test / (j+1):.3f}\\n')\n",
    "    test_f1_score.reset()\n",
    "    \n",
    "    model.train()\n",
    "        \n",
    "print('Training is finished!')"
   ]
  },
  {
   "cell_type": "code",
   "execution_count": 37,
   "metadata": {
    "scrolled": true
   },
   "outputs": [
    {
     "data": {
      "image/png": "[encoded data removed]",
      "text/plain": [
       "<Figure size 432x288 with 1 Axes>"
      ]
     },
     "metadata": {
      "needs_background": "light"
     },
     "output_type": "display_data"
    }
   ],
   "source": [
    "import matplotlib.pyplot as plt\n",
    "\n",
    "plt.title('Loss history')\n",
    "plt.grid(True)\n",
    "plt.ylabel('Loss')\n",
    "plt.xlabel('Epoch')\n",
    "plt.plot(train_loss_history, label='train')\n",
    "plt.plot(test_loss_history, label='test')\n",
    "plt.legend();"
   ]
  },
  {
   "cell_type": "markdown",
   "metadata": {},
   "source": [
    "для 1000 слов и 64 эмбендингов\n",
    "\n",
    "- Epoch [15/15]. Step [47/47]. \n",
    "- Train: Loss: 0.137. Acc: 0.959, f1_score_train: 0.646, \n",
    "- Test:  Loss: 0.224. Acc: 0.944, f1_score_test:  0.547\n",
    "\n",
    "для 2000 слов и 64 эмбендингов\n",
    "- Epoch [15/15]. Step [47/47]. \n",
    "- Train: Loss: 0.109. Acc: 0.967, f1_score_train: 0.732, \n",
    "- Test:  Loss: 0.020. Acc: 0.954, f1_score_test:  0.613\n",
    "\n",
    "для 10000 слов и 64 эмбендингов\n",
    "- Epoch [15/15]. Step [47/47]. \n",
    "- Train: Loss: 0.058. Acc: 0.981, f1_score_train: 0.851, \n",
    "- Test:  Loss: 0.002. Acc: 0.957, f1_score_test:  0.633\n",
    "\n",
    "\n",
    "для 1000 слов и 128 эмбендингов\n",
    "- Epoch [15/15]. Step [47/47]. \n",
    "- Train: Loss: 0.067. Acc: 0.975, f1_score_train: 0.804, \n",
    "- Test:  Loss: 0.070. Acc: 0.948, f1_score_test:  0.524\n",
    "\n",
    "для 2000 слов и 128 эмбендингов\n",
    "- Epoch [15/15]. Step [47/47]. \n",
    "- Train: Loss: 0.047. Acc: 0.985, f1_score_train: 0.899, \n",
    "- Test:  Loss: 0.535. Acc: 0.949, f1_score_test:  0.605\n",
    "\n",
    "для 10000 слов и 128 эмбендингов\n",
    "- Epoch [15/15]. Step [47/47]. \n",
    "- Train: Loss: 0.013. Acc: 0.992, f1_score_train: 0.942, \n",
    "- Test:  Loss: 0.003. Acc: 0.951, f1_score_test:  0.629"
   ]
  },
  {
   "cell_type": "markdown",
   "metadata": {},
   "source": [
    "с увеличеснием количества слов растет метрика f1_score на тесте, однако также и растет переобучение\n",
    "\n",
    "переобучение можно снизить дропаут-слоями - но не хватает времени с ними поиграться"
   ]
  },
  {
   "cell_type": "code",
   "execution_count": null,
   "metadata": {},
   "outputs": [],
   "source": []
  }
 ],
 "metadata": {
  "kernelspec": {
   "display_name": "Python 3",
   "language": "python",
   "name": "python3"
  },
  "language_info": {
   "codemirror_mode": {
    "name": "ipython",
    "version": 3
   },
   "file_extension": ".py",
   "mimetype": "text/x-python",
   "name": "python",
   "nbconvert_exporter": "python",
   "pygments_lexer": "ipython3",
   "version": "3.8.5"
  }
 },
 "nbformat": 4,
 "nbformat_minor": 4
}